{
 "cells": [
  {
   "cell_type": "markdown",
   "metadata": {
    "heading_collapsed": true
   },
   "source": [
    "## Learn Python Programming \n",
    "![5.png](https://github.com/usistlab/LearnPython/blob/master/images/5.png?raw=true)\n",
    "\n",
    "https://www.programiz.com/python-programming"
   ]
  },
  {
   "cell_type": "code",
   "execution_count": null,
   "metadata": {
    "collapsed": true,
    "hidden": true,
    "scrolled": true
   },
   "outputs": [],
   "source": [
    "# 解釋 Jupyter 如何故障排除\n",
    "\n",
    "import sys\n",
    "def print(x):\n",
    "    sys.stdout.write(\"MyPrint = \" + x)\n",
    "    \n",
    "print (\"Hello\")"
   ]
  },
  {
   "cell_type": "markdown",
   "metadata": {},
   "source": [
    "## Python 10分鐘系列"
   ]
  },
  {
   "cell_type": "markdown",
   "metadata": {},
   "source": [
    "### 十五分鐘讓你了解Python套路\n",
    "http://www.jianshu.com/p/36ae91c38279"
   ]
  },
  {
   "cell_type": "markdown",
   "metadata": {},
   "source": [
    "### Python的16个高频小套路\n",
    "http://h5.xinshengdaxue.com/post_detail.html?id=581836d2afa594ff1a27ae2a&rid=ZsPH0044CgTMSxlmEl3D0IHbHEtFYPO4zfnJEKIXnB9sNG_YNs7q5tilQo51FR4j3YXTT685crcLh3nij2N7Uqnb6lLa47G4YeNgkjRava2eGuWUKpe-kiHNsZJpo64QxA0ig5R7KO92A0jb6gMNeQ=="
   ]
  },
  {
   "cell_type": "markdown",
   "metadata": {
    "collapsed": true
   },
   "source": [
    "### Python - 十分鐘入門\n",
    "\n",
    "http://tech-marsw.logdown.com/blog/2014/09/03/getting-started-with-python-in-ten-minute"
   ]
  },
  {
   "cell_type": "markdown",
   "metadata": {},
   "source": [
    "### Learn X in Y minutes\n",
    "\n",
    "https://learnxinyminutes.com/docs/python/"
   ]
  },
  {
   "cell_type": "markdown",
   "metadata": {
    "collapsed": true
   },
   "source": [
    "### Python 101 快速入門教學\n",
    "\n",
    "http://blog.techbridge.cc/2016/12/17/python101-tutorial/"
   ]
  },
  {
   "cell_type": "markdown",
   "metadata": {
    "collapsed": true
   },
   "source": [
    "### 給程序員的快速Python入門\n",
    "\n",
    "http://mropengate.blogspot.tw/2015/08/python.html"
   ]
  },
  {
   "cell_type": "markdown",
   "metadata": {},
   "source": [
    "### Tutorial - Learn Python in 10 minutes\n",
    "https://www.stavros.io/tutorials/python/"
   ]
  }
 ],
 "metadata": {
  "kernelspec": {
   "display_name": "Python 3",
   "language": "python",
   "name": "python3"
  },
  "language_info": {
   "codemirror_mode": {
    "name": "ipython",
    "version": 3
   },
   "file_extension": ".py",
   "mimetype": "text/x-python",
   "name": "python",
   "nbconvert_exporter": "python",
   "pygments_lexer": "ipython3",
   "version": "3.5.2"
  }
 },
 "nbformat": 4,
 "nbformat_minor": 2
}
