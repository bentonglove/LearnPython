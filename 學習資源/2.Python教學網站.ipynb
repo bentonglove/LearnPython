{
 "cells": [
  {
   "cell_type": "markdown",
   "metadata": {},
   "source": [
    "## Python 基础教程\n",
    "\n",
    "http://www.runoob.com/python/python-lists.html\n",
    "\n",
    "## Python 3 教程\n",
    "![py3](http://www.runoob.com/wp-content/uploads/2014/05/python3.png)\n",
    "\n",
    "http://www.runoob.com/python3/python3-tutorial.html\n",
    "\n",
    "\n",
    "\n",
    "\n",
    "\n",
    "\n",
    "## TutorialPoints Python Basic\n",
    "![Python Basic](https://www.tutorialspoint.com/python/images/logo.png)\n",
    "https://www.tutorialspoint.com/python/python_variable_types.htm"
   ]
  },
  {
   "cell_type": "markdown",
   "metadata": {},
   "source": [
    "+++\n",
    "## Learn Python Org\n",
    "![LP](https://www.learnpython.org/static/img/logos/learnpython.png)\n",
    "\n",
    "https://www.learnpython.org/"
   ]
  },
  {
   "cell_type": "markdown",
   "metadata": {},
   "source": [
    "+++\n",
    "### Learn Python Programming\n",
    "\n",
    "The Definitive Guide\n",
    "\n",
    "https://www.programiz.com/python-programming"
   ]
  },
  {
   "cell_type": "markdown",
   "metadata": {},
   "source": [
    "## 語言技術：Python Gossip\n",
    "\n",
    "![Py3.5](http://www.gotop.com.tw/Waweb2004/WawebImages/BookXL/ACL047600.jpg)\n",
    "\n",
    "\n",
    "https://openhome.cc/Gossip/Python/"
   ]
  },
  {
   "cell_type": "markdown",
   "metadata": {},
   "source": [
    "+++\n",
    "### 專欄文章：Python Tutorial\n",
    "![CodeData](http://www.codedata.com.tw/wp-content/uploads/2013/08/PythonTutorial.jpg)\n",
    "\n",
    "http://www.codedata.com.tw/python/python-tutorial-the-2nd-class-1-numeric-types-and-string/\n"
   ]
  },
  {
   "cell_type": "markdown",
   "metadata": {},
   "source": [
    "## Think Python: How to Think Like a Computer Scientist\n",
    "\n",
    "![THink](https://images-na.ssl-images-amazon.com/images/I/51dgaTOYqmL._SX380_BO1,204,203,200_.jpg)\n",
    "\n",
    "http://www.greenteapress.com/thinkpython/html/"
   ]
  },
  {
   "cell_type": "markdown",
   "metadata": {},
   "source": [
    "+++\n",
    "### Python Official Site\n",
    "\n",
    "https://docs.python.org/3/tutorial/controlflow.html#for-statements\n",
    "\n",
    "\n",
    "### Python 3.5.2 說明文件\n",
    "\n",
    "https://docs.python.org.tw/3/index.html"
   ]
  },
  {
   "cell_type": "markdown",
   "metadata": {},
   "source": [
    "+++\n",
    "### University Programming in Python\n",
    "\n",
    "http://staff.washington.edu/jon/python-course/"
   ]
  },
  {
   "cell_type": "markdown",
   "metadata": {
    "collapsed": true
   },
   "source": [
    "## 19個學習Python編程的資源\n",
    "![2.png](https://github.com/usistlab/LearnPython/blob/master/images/2.png?raw=true)\n",
    "\n",
    "https://read01.com/jxJOzE.html"
   ]
  },
  {
   "cell_type": "markdown",
   "metadata": {
    "collapsed": true
   },
   "source": [
    "## Appium Ubuntu 系统安装 Appium 及样例运行教程\n",
    "![4.png](https://github.com/usistlab/LearnPython/blob/master/images/4.png?raw=true)\n",
    "\n",
    "https://testerhome.com/topics/4235"
   ]
  },
  {
   "cell_type": "markdown",
   "metadata": {},
   "source": [
    "## Learn Python the Hardway\n",
    "\n",
    "![PH](https://qph.ec.quoracdn.net/main-qimg-25a6b99e844b09a7d483236d497eacaa-c)\n",
    "\n",
    "https://learnpythonthehardway.org/book/"
   ]
  }
 ],
 "metadata": {
  "kernelspec": {
   "display_name": "Python 3",
   "language": "python",
   "name": "python3"
  },
  "language_info": {
   "codemirror_mode": {
    "name": "ipython",
    "version": 3
   },
   "file_extension": ".py",
   "mimetype": "text/x-python",
   "name": "python",
   "nbconvert_exporter": "python",
   "pygments_lexer": "ipython3",
   "version": "3.5.2"
  }
 },
 "nbformat": 4,
 "nbformat_minor": 2
}
