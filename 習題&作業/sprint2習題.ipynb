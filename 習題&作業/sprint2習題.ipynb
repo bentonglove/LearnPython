{
 "cells": [
  {
   "cell_type": "markdown",
   "metadata": {},
   "source": [
    "# 解題心法\n",
    "1. Compuational Thinking\n",
    "2. 一次只走一步\n",
    " - 不會同時走\n",
    " - 做完這一步, 才會走下一步\n",
    "3. 善用關鍵字、搜尋引擎\n",
    "\n",
    "\n",
    "題型也許可分為\n",
    "- 專案型\n",
    "- 演算法\n",
    "- 程式語言"
   ]
  },
  {
   "cell_type": "markdown",
   "metadata": {
    "tags": [
     "Dict"
    ]
   },
   "source": [
    "## 21.身份證號碼檢查\n",
    "\n",
    "我國的身分證字號有底下這樣的規則，因此對於任意輸入的身分證字號可以有一些基本的判斷原則，請您來判斷一個身分證字號是否是正常的號碼(不代表確有此號、此人)。\n",
    "\n",
    "(1) 英文代號以下表轉換成數字\n",
    "\n",
    "      A=10 台北市     J=18 新竹縣     S=26 高雄縣\n",
    "      B=11 台中市     K=19 苗栗縣     T=27 屏東縣\n",
    "      C=12 基隆市     L=20 台中縣     U=28 花蓮縣\n",
    "      D=13 台南市     M=21 南投縣     V=29 台東縣\n",
    "      E=14 高雄市     N=22 彰化縣     W=32 金門縣\n",
    "      F=15 台北縣     O=35 新竹市     X=30 澎湖縣\n",
    "      G=16 宜蘭縣     P=23 雲林縣     Y=31 陽明山\n",
    "      H=17 桃園縣     Q=24 嘉義縣     Z=33 連江縣\n",
    "      I=34 嘉義市     R=25 台南縣\n",
    "\n",
    "  (2) 英文轉成的數字, 個位數乘９再加上十位數的數字\n",
    "\n",
    "  (3) 各數字從右到左依次乘１、２、３、４．．．．８\n",
    "\n",
    "  (4) 求出(2),(3) 及最後一碼的和\n",
    "\n",
    "  (5) (4)除10 若整除，則為 real，否則為 fake\n",
    "\n",
    " 例： T112663836\n",
    "\n",
    "2 + 7*9 + 1*8 + 1*7 + 2*6 + 6*5 + 6*4 + 3*3 + 8*2 + 3*1 + 6 = 180\n",
    "\n",
    "除以 10 整除，因此為 real\n",
    "\n",
    "輸入說明 ：\n",
    "一組身分證號碼\n",
    "\n",
    "輸出說明 ：\n",
    "輸出 real or fake\"\"\""
   ]
  },
  {
   "cell_type": "markdown",
   "metadata": {
    "tags": [
     "If"
    ]
   },
   "source": [
    "## 22.紅利點數折抵\n",
    "\n",
    "題目:\n",
    "四維購物中心為了刺激買氣，推出會員卡集點活動，消費金額每滿100元，即可獲得紅利點數1點(滿200元2點，以此類推)，而新增加的紅利點數可於下次消費時使用，每10點紅利點數可折抵消費金額10元(不足10點的無法折抵)，最高可折抵的金額為消費金額的1/10(以10元為單位)，例如消費金額300元，紅利點數50點，則最多只能折抵30元，並使用30點的紅利點數。另外，已折抵的消費金額，不列入紅利點數計算，例如消費金額300元，折抵30元後變成270元，因此紅利只增加2點而不是3點。\n",
    "\n",
    "小綠是四維購物中心的結帳櫃台人員，經常要計算紅利點數的增加與折抵又擔心計算錯誤，你可以幫他寫程式完成這個問題嗎？ \n",
    "\n",
    "![Credit](http://dvcdn.azureedge.net/Content/Upload/DailyArticle/Images/2016-12/a48feecb-ec1f-4424-a6ff-fe482b617fba_m.jpg)\n",
    "\n",
    "Input：  \n",
    "輸入兩個整數 N、P (N>=0, P>=0)，N 是本次的消費金額，P 為上次結餘的紅利點數。  \n",
    "\n",
    "Output：  \n",
    "請輸出兩個整數，第一個數字為折抵過後的消費金額，第二個數字為本次消費結束後剩餘的紅利點數(請扣掉已折抵的部分，再加上本次新增的部分)。  \n",
    "\n",
    "Sample Input：  \n",
    "\n",
    "輸入1:\n",
    "100 10\n",
    "\n",
    "輸入2:\n",
    "300 50  \n",
    "\n",
    "Sample Output ：\n",
    "\n",
    "輸出1:\n",
    "90 0\n",
    "\n",
    "輸出2:\n",
    "270 22"
   ]
  },
  {
   "cell_type": "markdown",
   "metadata": {
    "tags": [
     "Class",
     "File",
     "Database"
    ]
   },
   "source": [
    "## 23.紅利點數折抵 Part2\n",
    "\n",
    "請將上題改寫為Class, 並使劇情更貼近實際生活: 因為消費者的紅利點數會由信用卡公司記憶管理, 所以使用者只需要輸入消費金額, 消費者的紅利點數就除存在檔案裡面, 並且由程式自動加算累積.\n",
    "\n",
    "如果使用者符合紅利折抵的條件, 也必須讓使用這決定想要扣抵多少紅利點數.\n",
    "![Bonus](http://img.chinatimes.com/newsphoto/2015-07-31/clipping/656/a39a00_t_03_02.jpg)\n",
    "\n",
    "例如：  \n",
    " myCard = CreditCard(\"Ben\", passwd) #輸入名字, 代表使用者ID, 程式可以透過這個ID 取得用戶資料, 譬如紅利點數\n",
    " \n",
    " myCard.get_bonus() #取使用者紅利點數\n",
    " \n",
    " myCard.price(price) #輸入欲購買商品的價格, 返回消費者可以使用的紅利點數\n",
    " \n",
    " myCard.pay(price, bonous) #輸入商品價格 及 欲使用的紅利點數, 並返回所需付的錢, 和剩下的紅利點數\n",
    " \n",
    " myCard.trade(price, money) #確認交易, 並輸出使用者交易帳單（花了多少現金和紅利)及剩餘的紅利點數\n",
    " \n",
    " myCard.user #輸出使用者名稱\n",
    " myCard.passwd #使用者密碼\n",
    " \n",
    "\n",
    "### Tips:\n",
    "1. 使用檔案來保存紅利點數\n",
    "2. 或者使用資料庫 SQlite\n",
    "3. 盡可能貼近實務應用情境\n",
    "4. 最後記得把物件砍掉, 以避免被他人盜用."
   ]
  },
  {
   "cell_type": "markdown",
   "metadata": {
    "tags": [
     "Case"
    ]
   },
   "source": [
    "## 24.上課時間不可以講電話\n",
    "\n",
    "Content：    \n",
    "自由女中每天7:30:00起到16:59:59止為上學時間，其餘時間為非上學時間。而上學時間的作息如下：\n",
    "\n",
    "7:30:00~7:59:59為早自習時間，屬於上課時間，應該要在教室。\n",
    "上午有四節課，從8:00~11:59，每小時的0分0秒到9分59秒為下課時間，可自由活動，而10分0秒到59分59秒則是上課時間，應該要在教室。\n",
    "12:00:00到12:29:59為午餐時間，屬於下課時間，用完餐可自由活動，12:30:00到12:59:59則是午休時間，屬於上課時間，應該要在教室。\n",
    "下午同樣有四節課，從13:00:00~16:59:59，每小時的0分0秒到9分59秒為下課時間，可自由活動，而10分0秒到59分59秒則是上課時間，應該要在教室。\n",
    "你是學生的家長，因為學生在上課時間是不能接手機的，所以你希望可以有一個程式，判斷目前的時間，告訴你現在是不是上課時間。 \n",
    "\n",
    "![Class](http://4.share.photo.xuite.net/csi5441/14366c1/5431225/210782472_l.jpg)\n",
    "\n",
    "Input：    \n",
    "輸入兩個整數 H、M (0<=H<=23, 0<=M<=59)，分別代表現在是幾點幾分。  \n",
    "\n",
    "Output：    \n",
    "如果這個時間是上課時間(包括早自習和午休)，則輸出 YES，如果是下課時間(包括午餐時間)，則輸出 NO，如果不是上述時間，也就是非上學時間則輸出 XXX。\n",
    "  \n",
    "Sample Input：  \n",
    "\n",
    "輸入1:  \n",
    "8 10\n",
    "\n",
    "輸入2:  \n",
    "14 2  \n",
    "\n",
    "Sample Output ：\n",
    "\n",
    "輸出1:  \n",
    "YES\n",
    "\n",
    "輸出2:  \n",
    "NO\n",
    "\n",
    "### Hint ：\n",
    "1. 字串 split 方法處理輸入資料\n",
    "2. 查表 區間落點\n",
    "3. If"
   ]
  },
  {
   "cell_type": "markdown",
   "metadata": {
    "tags": [
     "If"
    ]
   },
   "source": [
    "## 25.遊戲升級\n",
    "Content： 简体中文\n",
    "最初的幻想(First Fantasy, 簡稱 FF)是一款由史爾庫爾(Circle)公司出品的RPG角色扮演遊戲，玩家操作的角色可以經由打倒敵人獲取經驗值，而累積到一定經驗值之後就會等級提升(Level Up)，各項能力值也會上升，同時可能學會新的特技或魔法，因此，等級提升是一件令人開心的事。\n",
    "\n",
    "不過，要獲得多少的經驗值，才能再提升到下一個等級，是許多玩家最想知道的資訊，因此， 史爾庫爾公司便將本遊戲的升級所需的經驗值公開如下：\n",
    "\n",
    "遊戲一開始等級為1，經驗值為 0。\n",
    "當經驗值累積到10的時候，升級為等級2。\n",
    "等級 N 升級到等級 N+1 所需的經驗值 E*2-N*3, 其中 E 為等級 N-1 升級到等級 N 所需的經驗值，也就是等級 N 的最低經驗值和等級 N-1 的最低經驗值的差。\n",
    "例如等級1到等級2所需的經驗值為 10，等級2到等級3所需的經驗值=10*2-2*3=14，則等級3的最低經驗值為10+14=24。\n",
    "等級3到等級4所需的經驗值=14*2-3*3=19，則等級4的最低經驗值為24+19=43。\n",
    "不過，即使公開了這些資訊，玩家們還是覺得不夠方便，希望遊戲公司可以直接在遊戲中增加距離下個等級還差多少經驗值的功能，身為史爾庫爾公司遊戲設計師的你，能把這個功能做出來嗎？\n",
    "\n",
    "![Pokemon](https://pic.pimg.tw/dinosaurs/1470592701-1815516180_m.png?v=1470592704)\n",
    "\n",
    "Input：  \n",
    "\n",
    "輸入一個整數 X (0<=X<=2000000000)，代表玩家目前所得的經驗值。\n",
    "Output：  \n",
    "請輸出玩家目前的等級，以及距離下一等級還差多少經驗值，兩個數字中間請空一格。  \n",
    "\n",
    "Sample Input：  \n",
    "\n",
    "\n",
    "輸入1:\n",
    "0\n",
    "\n",
    "輸入2:\n",
    "12  \n",
    "\n",
    "Sample Output ：\n",
    "\n",
    "輸出1:\n",
    "1 10\n",
    "\n",
    "輸出2:\n",
    "2 12  \n",
    "\n",
    "### Hint ：\n",
    "1. 抱持冷靜\n",
    "2. Computational Thinking"
   ]
  },
  {
   "cell_type": "markdown",
   "metadata": {
    "tags": [
     "List",
     "Set"
    ]
   },
   "source": [
    "## 26.好多發票, 祝你中獎\n",
    "\n",
    "Content：  \n",
    "為了加快對獎速度，小旭旭會將每期的發票依照末三碼的順序從小到大排列之後再收起來。有天，他發現同班的小亮亮也有同樣的習慣，但因為小亮亮接下來要出國，所以小亮亮的發票決定要送給小旭旭對獎。\n",
    "\n",
    "接下來問題來了，小旭旭看著兩疊已經各自從小到大排列過後的發票，希望把它們合併成一疊，並且能維持從小排到大的排列，你能幫他完成這項工作嗎？ \n",
    "\n",
    "![Ticket](http://www.sky1.tw/2images/0708003.jpg)\n",
    "\n",
    "Input：  \n",
    "輸入有兩行，第一行一開始有一個正整數 N (1<=N<=1000)，代表小旭旭的這疊發票有幾張，接下來有 N 個 0~999 的整數代表這 N 張發票的末三碼。第二行一開始同樣有一個正整數 M (1<=M<=1000)，代表小亮亮送給小旭旭的發票有幾張，接下來有 M 個 0~999 的整數代表這 M 張發票的末三碼。\n",
    "\n",
    "\n",
    "Output：\n",
    "請將這 N+M 張發票的末三碼從小到大印出來，兩個數字中間請空一格。\n",
    "\n",
    "\n",
    "Sample Input：\n",
    "\n",
    "輸入1:  \n",
    "3 1 3 5  \n",
    "2 2 4  \n",
    "\n",
    "輸入2:  \n",
    "3 1 1 1  \n",
    "3 2 2 2  \n",
    "\n",
    "Sample Output ：  \n",
    "\n",
    "輸出1:\n",
    "1 2 3 4 5  \n",
    "\n",
    "輸出2:\n",
    "1 1 1 2 2 2    \n",
    "\n",
    "### Hint ：\n",
    "\n",
    "1. 用 list 和 集合(set) 做看看"
   ]
  },
  {
   "cell_type": "markdown",
   "metadata": {
    "tags": [
     "String"
    ]
   },
   "source": [
    "## 27.挑戰魔王\n",
    "\n",
    "Content： \n",
    "勇者歷經千辛萬苦，終於來到魔王的王座前，眼看就要打倒魔王了，可是魔王卻使用特殊防禦技，一般的攻擊全部無效化，只有特定的組合技才能對他造成傷害。\n",
    "\n",
    "勇者有五種不同的基本攻擊技能，分別是 A、B、C、D、E ，這五種攻擊後如果馬上再接任何一種攻擊，則會形成各種不同的組合技，例如：AA、BC等，而如果勇者連續使出 A、B、C、D 四個攻擊，則會同時產生 AB、BC、CD 三次的組合技。而這些組合技中，唯一能對魔王造成傷害的只有 AC 這一種。\n",
    "\n",
    "不過，勇者並不知道哪一種組合技才能對魔王造成傷害，於是他只能不斷使出各種攻擊，希望能打倒魔王。現在請你分析勇者一連串的攻擊之後，能對魔王造成幾次的傷害。\n",
    "\n",
    "\n",
    "![Joystick](http://www.fujiei.com.tw/Joypad/sx0020-31.jpg)\n",
    "\n",
    "Input：  \n",
    "輸入一個最大長度為1000的字串，代表勇者這一連串的攻擊，裡面只有 A、B、C、D、E、X 六種字元，其中 X 代表不攻擊，它前後的攻擊也不會形成組合技。\n",
    "\n",
    "Output：  \n",
    "請輸出這一連串的攻擊之後，能對魔王造成傷害的有幾次，也就是出現了幾次的 AC。\n",
    "\n",
    "Sample Input：\n",
    "\n",
    "輸入1:  \n",
    "ACEBD\n",
    "\n",
    "輸入2:  \n",
    "AXCXE  \n",
    "\n",
    "Sample Output ：\n",
    "\n",
    "輸出1:\n",
    "1\n",
    "\n",
    "輸出2:\n",
    "0  \n",
    "\n",
    "### Hint :\n",
    "1. 善用字串 string"
   ]
  },
  {
   "cell_type": "markdown",
   "metadata": {},
   "source": [
    "## 28.最後一個是誰\n",
    "\n",
    "Content： \n",
    "有一群人為了爭奪一件珍貴的寶物而大打出手，眼看許多人就要掛彩，於是其中一個人說，讓我們用和平的方式來解決這個問題吧。\n",
    "\n",
    "他提出的方案是這樣子，大家先圍成一個圓， 其中一個人是1號，接著順時鐘方向開始報數，接下來就是2號、3號以此類推，直到最後一號。接下來由1號擲骰子，假設擲出來的數字是3，則3號就離開這個圓，接下來再往後三位也就是6號要離開，再來是9號，假設總共有10個人，當3、6、9號離開之後，這個圓剩下1、2、4、5、7、8、10等7位，從剛才9號離開的位子再往後三位是2號，然後是7號、1號、8號、5號、10號，最後一位留下來的4號即可獲得這件寶物。\n",
    "\n",
    "只不過，當人數一多，這樣可能要玩很久才能知道最後是誰留下來，所以希望你寫一個程式來找出最後一個是誰。 \n",
    "\n",
    "\n",
    "![Circle](http://image.tupian114.com/20121210/10180792.jpg)\n",
    "![Dice](https://upload.wikimedia.org/wikipedia/commons/thumb/6/6d/Sixsided_Dice_inJapan.jpg/800px-Sixsided_Dice_inJapan.jpg)\n",
    "\n",
    "Input：  \n",
    "輸入兩個正整數 N (3<=N<=10000)、P (1<=P<=6)，N 是總共有多少人，P 是骰子擲出來的數字。\n",
    "\n",
    "\n",
    "Output：  \n",
    "請輸出最後留下來的是幾號。  \n",
    "\n",
    "Sample Input：\n",
    "\n",
    "輸入1:  \n",
    "10 3\n",
    "\n",
    "輸入2:  \n",
    "10 1\n",
    "\n",
    "Sample Output ：  \n",
    "\n",
    "輸出1:  \n",
    "4\n",
    "\n",
    "輸出2:  \n",
    "10  \n",
    "\n",
    "### Hint ：\n",
    "1. 使用 list\n",
    "2. while 迴圈"
   ]
  },
  {
   "cell_type": "markdown",
   "metadata": {},
   "source": [
    "## 29.電信方案選擇\n",
    "\n",
    "Content： \n",
    "T島上有 A、B、C 三家電信公司，由於彼此處於競爭又合作的關係，所以使用了其中一家的電信方案，打給其他的的費率是不同的。目前已經這三家的費率如下： \n",
    "\n",
    "使用A家的方案，打給A家是每分鐘1元、打給B家是每分鐘3元、打給C家是每分鐘5元。\n",
    "使用B家的方案，打給A家是每分鐘3元、打給B家是每分鐘2元、打給C家是每分鐘4元。\n",
    "使用C家的方案，打給任何一家都是每分鐘3元。\n",
    "現在給你小綠每個月分別會打給使用這三家電信方案朋友的分鐘數，請你幫她找出哪一家的方案是最便宜的。 \n",
    "\n",
    "\n",
    "![Money](http://pic.pimg.tw/tu0925399900/1414894772-1254659559_n.jpg)\n",
    "\n",
    "Input：\n",
    "輸入三個整數 A、B、C (A、B、C>=0)，代表小綠每個月打給使用這三家電信方案朋友的分鐘數。  \n",
    "\n",
    "Output：\n",
    "請印出哪一家的方案是最便宜的，以及費用是多少，中間請空一格。\n",
    "\n",
    "如果有兩家以上的費用相同，請印出字母順序比較前面的那家，例如 A、B、C 三家都相同，則印出 A。\n",
    "\n",
    "Sample Input：\n",
    "\n",
    "輸入1:  \n",
    "3 2 1\n",
    "\n",
    "輸入2:  \n",
    "2 4 2\n",
    "\n",
    "\n",
    "Sample Output ：\n",
    "\n",
    "輸出1:  \n",
    "A 14\n",
    "\n",
    "輸出2:  \n",
    "B 22  \n",
    "\n",
    "### Hint ："
   ]
  },
  {
   "cell_type": "markdown",
   "metadata": {},
   "source": [
    "## 30.數列長度\n",
    "\n",
    "Content：\n",
    "有一個數列是這樣的：\n",
    "\n",
    "第一項是一個大於等於三的正整數N。\n",
    "如果這一項是 N，而且是三的倍數，則它的下一項為 N/3。\n",
    "如果這一項是 N，而且除以三的餘數為一，則它的下一項為 2N+1。\n",
    "如果這一項是 N，而且除以三的餘數為二，則它的下一項為 2N-1。\n",
    "如此反覆，直到最後一項小於 3 的數字為止。\n",
    "現在給你第一項的 N，請你求出這個數列有幾項，例如第一項是8，則這個數列為：8、15、5、9、3、1，共6項。 \n",
    "\n",
    "![Number](http://www.qask.com.tw/Upload/ASK/C0/0/9793779e-1574-4d76-820b-081317f28233.jpg)\n",
    "\n",
    "Input：\n",
    "輸入一個大於等於3的正整數 N。\n",
    "\n",
    "\n",
    "Output：\n",
    "請輸出以 N 為第一項的數列有幾項。\n",
    "\n",
    "\n",
    "Sample Input：\n",
    "\n",
    "輸入1:  \n",
    "8\n",
    "\n",
    "輸入2:  \n",
    "3\n",
    "\n",
    "Sample Output ：  \n",
    "\n",
    "輸出1:  \n",
    "6\n",
    "\n",
    "輸出2:  \n",
    "2  \n",
    "\n",
    "### Hint ："
   ]
  },
  {
   "cell_type": "markdown",
   "metadata": {},
   "source": [
    "## 31.棄保效應\n",
    "\n",
    "Content： \n",
    "2014年11月29日是台灣七合一選舉的日子，台灣的選舉法令禁止各陣營及媒體在投票日前的一段時間內公佈民調結果，其中最重要的一個因素是要避免「棄保效應」。所謂的「棄保效應」是指選民在得知自己所支持的候選人當選無望時，有可能會把票投給其他比較可能當選的人，以免浪費了自己的一票。假設某直轄市市長選舉有三位候選人出來競選，在「棄保效應」發揮到極致的情形下，所有民調第三名的候選人的支持者都會把票投給民調第二名的候選人，也就是他們都會「棄三保二」。\n",
    "\n",
    "請寫一程式在輸入甲, 乙, 丙 三個候選人調查所得的支持者人數，判斷誰會當選？假設三個候選人的票數均不會相同，且在「棄保效應」之後，不會有相同票數的情形發生。 \n",
    "\n",
    "![election](https://cdn.udn.com/img/960/photo/web/news/20150806/353108_add9180385ab93cc_o.jpg)\n",
    "\n",
    "Input：  \n",
    "\n",
    "請輸入三個以空白隔開的整數 a, b, c (0 ≤ a, b, c ≤ 5000000)，代表甲, 乙, 丙 三個候選人調查所得的支持者人數。\n",
    "\n",
    "Output:\n",
    "\n",
    "請輸出將會當選的人是 甲, 乙 或 丙。\n",
    "\n",
    "\n",
    "Sample Input：\n",
    "\n",
    "23 60 45\n",
    "  \n",
    "Sample Output ：\n",
    "\n",
    "丙  \n",
    "\n",
    "### Hint ："
   ]
  },
  {
   "cell_type": "markdown",
   "metadata": {},
   "source": [
    "## 32.計算電費\n",
    "\n",
    "\n",
    "問題描述 ：  \n",
    "\n",
    "輸入所使用的度數，換算夏月及非夏月之電費金額  \n",
    "\n",
    "        每度（元）              夏月     非夏月\n",
    "\n",
    "        120 度以下部分        2.10    2.10\n",
    "\n",
    "        121-330 度部分       3.02    2.68\n",
    "\n",
    "        331-500 度部分       4.39    3.61\n",
    "\n",
    "        501-700 度部分       4.97    4.01\n",
    "\n",
    "        701 度以上部分       5.63    4.50\n",
    "\n",
    "![ele](https://www.cathaybk.com.tw/cathaybk/card/mybill/images/ebill.gif)\n",
    "\n",
    "=============================================================\n",
    "\n",
    "輸入說明 ：  \n",
    "\n",
    "一個度數 ( 正整數 )  \n",
    "\n",
    "輸出說明 ：  \n",
    "\n",
    "夏月與非夏月的金額，請輸出至小數點後兩位  \n",
    "\n",
    "=============================================================\n",
    "\n",
    "範例 ：  \n",
    "\n",
    "輸入範例   \n",
    "525  \n",
    "\n",
    "\n",
    "輸出範例  \n",
    "Summer months:1756.75   \n",
    "Non-Summer months:1528.75  \n",
    "\n"
   ]
  },
  {
   "cell_type": "markdown",
   "metadata": {
    "tags": [
     "Greedy"
    ]
   },
   "source": [
    "## 33.從n個數字中挑出K個數字, 且其總合是最大的\n",
    "\n",
    "例：\n",
    "\n",
    "\n",
    "使用者輸入  \n",
    "n=12  \n",
    "電腦會亂數產生 12個數字\n",
    "\n",
    "假設為： 5, 10, 24, 38 ,3, 8, 9 ,21 ,2, 15, 6, 7  \n",
    "\n",
    "若輸入 \n",
    "K = 3\n",
    "\n",
    "則輸出為 ：\n",
    "24 + 38 + 21 = 83\n",
    "\n",
    "### Hint :\n",
    "  參考 https://youtu.be/btRTorhBQmg?t=400\n",
    "\n",
    "\n",
    "![Greedy](https://image.slidesharecdn.com/algorithmfinalreport-13266371847573-phpapp01-120115091233-phpapp01/95/greedy-algorithm-4-728.jpg?cb=1326619475)\n",
    "\n",
    "\n"
   ]
  },
  {
   "cell_type": "markdown",
   "metadata": {
    "tags": [
     "Dynamic_Programming"
    ]
   },
   "source": [
    "## 34. 題目如下\n",
    "\n",
    "![Question](https://image.slidesharecdn.com/algorithmfinalreport-13266371847573-phpapp01-120115091233-phpapp01/95/greedy-algorithm-2-728.jpg?cb=1326619475)\n",
    "\n",
    "\n",
    "若使用者輸入 n 元\n",
    "\n",
    "請輸出所有硬幣的組合?  \n",
    "請輸出硬幣數練最少的組合?\n",
    "\n",
    "===================================================================\n",
    "\n",
    "如果題目改成 https://www.youtube.com/watch?v=8-AdcnTdofM&t=50s\n",
    "\n",
    "請輸出數量最少的硬幣組合為何？"
   ]
  },
  {
   "cell_type": "markdown",
   "metadata": {
    "tags": [
     "Greedy"
    ]
   },
   "source": [
    "## 35. 最短路徑求解\n",
    "\n",
    "求 S 到 T 的最段路徑為何？  \n",
    "\n",
    "![ShortCut](http://4.bp.blogspot.com/-cliCJ5qDfM4/VNovRqiOYRI/AAAAAAAAAI4/UBmPD_8-u28/s1600/%E5%8B%95%E6%85%8B%E6%BC%94%E7%AE%97%E6%B3%95.jpg)\n",
    "\n",
    "\n",
    "每兩點之間的距離由亂數產生, 請問該如何求解？\n",
    "\n",
    "### Hint :\n",
    "\n",
    "https://goo.gl/maps/p77TGcF4NPK2\n",
    "\n",
    "![ShortCut](https://image.slidesharecdn.com/5-150507111005-lva1-app6891/95/51-greedy-4-638.jpg?cb=1430997089)\n"
   ]
  },
  {
   "cell_type": "markdown",
   "metadata": {
    "tags": [
     "MST"
    ]
   },
   "source": [
    "## 36. 最小城市聯絡網\n",
    "\n",
    "假設要在n個城市之間建立通訊聯絡網，則連通n個城市只需要修建幾條線路？  \n",
    "如何在最節省經費的前提下建立這個通訊網？\n",
    "\n",
    "![shortcut](http://mindlee.com/uploads/2011/11/%E6%9C%80%E5%B0%8F%E7%94%9F%E6%88%90%E6%A0%91%E5%9B%BE%E7%A4%BA.png)\n",
    "\n",
    "### Hint:\n",
    "答案就是：最小生成樹。  \n",
    "術語描述是：在e條帶權的邊中選取n-1條邊（不構成迴路），使“權值之和”為最小。  \n",
    "\n",
    "http://mindlee.com/2011/11/16/minimum-spanning-trees/"
   ]
  },
  {
   "cell_type": "markdown",
   "metadata": {
    "tags": [
     "Extended_BT"
    ]
   },
   "source": [
    "## 37. 2-Way merging Problem\n",
    "\n",
    "有兩個數列分別為  \n",
    "la = [2,11,25,36]  \n",
    "lb = [1,4,7,8,11,17,20]  \n",
    "\n",
    "請使用最少的步驟將這兩個數列合併, 並且排序排好.\n",
    "\n",
    "### Hint:\n",
    "\n",
    "https://youtu.be/9m9AHJgojg4?t=15\n",
    "\n",
    "![Extended BT](https://image.slidesharecdn.com/5-150507111005-lva1-app6891/95/51-greedy-31-638.jpg?cb=1430997089)"
   ]
  },
  {
   "cell_type": "markdown",
   "metadata": {
    "tags": [
     "Binary_Tree"
    ]
   },
   "source": [
    "## 38. 字串編解碼\n",
    "假設小王自定義編碼方式為 ＝＝> a:10, b:0 c:11  \n",
    "若有一段字串其內容為 001101011101100101\n",
    "\n",
    "請問其原始資料為何？\n",
    "\n",
    "### Hint:\n",
    "\n",
    "https://youtu.be/9m9AHJgojg4?t=2014\n",
    "\n",
    "![code](http://www.csie.ntnu.edu.tw/~u91029/Compression4.png)\n",
    "\n",
    "https://youtu.be/9m9AHJgojg4?t=2077"
   ]
  },
  {
   "cell_type": "markdown",
   "metadata": {
    "tags": [
     "GCD",
     "Recursive"
    ]
   },
   "source": [
    "## 39.計算最大公因數（GCD)\n",
    "\n",
    "輸入任意兩個整數\n",
    "\n",
    "輸出 最大公因數\n",
    "\n",
    "\n",
    "### Hints:\n",
    "\n",
    "GCD的公式\n",
    "https://youtu.be/AJn843kplDw\n",
    "\n",
    "![GCD](http://www.csie.ntnu.edu.tw/~u91029/GreatestCommonDivisor1.png)\n",
    "\n",
    "GCD的原理\n",
    "https://youtu.be/JxzxdPZBK6k?t=6\n",
    "\n"
   ]
  },
  {
   "attachments": {
    "python014.png": {
     "image/png": "[encoded data removed]"
    }
   },
   "cell_type": "markdown",
   "metadata": {},
   "source": [
    "## 40.貪吃蛇\n",
    "\n",
    "請在終端機界面寫一個貪吃蛇的遊戲\n",
    "\n",
    "![Greedy Snake](http://read.html5.qq.com/image?src=forum&q=5&r=0&imgflag=7&imageUrl=http://mmbiz.qpic.cn/mmbiz/AjN1jquNavib3rWkwF1oa5xL79qplE2MtWzqumrEtIAkxCouR0aYPrWxNkqo4U0mdeKic24HVezbQlXkgtpeDl8g/0?wx_fmt=gif)\n",
    "\n",
    "\n",
    "### Hint:\n",
    "![python014.png](attachment:python014.png)"
   ]
  }
 ],
 "metadata": {
  "celltoolbar": "Tags",
  "kernelspec": {
   "display_name": "Python 3",
   "language": "python",
   "name": "python3"
  },
  "language_info": {
   "codemirror_mode": {
    "name": "ipython",
    "version": 3
   },
   "file_extension": ".py",
   "mimetype": "text/x-python",
   "name": "python",
   "nbconvert_exporter": "python",
   "pygments_lexer": "ipython3",
   "version": "3.5.2"
  }
 },
 "nbformat": 4,
 "nbformat_minor": 2
}
