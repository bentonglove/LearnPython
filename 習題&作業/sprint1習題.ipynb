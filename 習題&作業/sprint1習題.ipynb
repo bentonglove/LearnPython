{
 "cells": [
  {
   "cell_type": "markdown",
   "metadata": {},
   "source": [
    "# 解題心法\n",
    "1. Compuational Thinking\n",
    "2. 一次只走一步\n",
    " - 不會同時走\n",
    " - 做完這一步, 才會走下一步\n",
    "3. 善用關鍵字、搜尋引擎"
   ]
  },
  {
   "cell_type": "markdown",
   "metadata": {},
   "source": [
    "## 1. 给你一个list L,对L进行升序排序并输出 (WK2 discuss)\n",
    "\n",
    "L=[2,8,3,50],\n",
    "輸出结果为[2,3,8,50]。\n",
    "\n",
    "### Tips :\n",
    "1. 使用list變數\n",
    " - list的用法\n",
    "2. 找最大（小）值\n",
    "3. 資料分組的方法\n",
    "4. 演算法\n",
    " - 4個數字 和 400 個數字有什不一樣？\n",
    "5. 使用for...loop\n",
    "6. 使用兩層迴圈"
   ]
  },
  {
   "cell_type": "markdown",
   "metadata": {},
   "source": [
    "+++\n",
    "### 善用搜尋工具（關鍵字 list）\n",
    "![practice1.png](https://github.com/usistlab/LearnPython/blob/master/images/practice1.png?raw=true)"
   ]
  },
  {
   "cell_type": "markdown",
   "metadata": {},
   "source": [
    "+++\n",
    "### 善用搜尋工具（關鍵字 for loop）\n",
    "![practice2.png](https://github.com/usistlab/LearnPython/blob/master/images/practice2.png?raw=true)"
   ]
  },
  {
   "cell_type": "markdown",
   "metadata": {},
   "source": [
    "## 2. 請列印出 九九乘法表\n",
    "### 並且輸出以下格式\n",
    "![practice3.png](https://github.com/usistlab/LearnPython/blob/master/images/practice3.png?raw=true)\n",
    "\n",
    "### Tips:\n",
    "1. for loop\n",
    "2. 字串格式化\n",
    "3. 跳脫字元\n",
    "4. print函數的進階使用方法"
   ]
  },
  {
   "cell_type": "markdown",
   "metadata": {},
   "source": [
    "## 3. 請撰寫一程式，讓使用者可以分別輸入2位同學的名稱及分數，輸出結果並如下排列： (斜體部分為執行程式時輸入)\n",
    "\n",
    "\n",
    "請輸入A同學姓名: *Name_A*\n",
    "\n",
    "請輸入A同學分數: *90*\n",
    "\n",
    "請輸入B同學姓名: *Name_B*\n",
    "\n",
    "請輸入B同學分數: *80*\n",
    "\n",
    "姓名             分數\n",
    "\n",
    "Name_A     90\n",
    "\n",
    "Name_B     80\n",
    "\n",
    "\n",
    "### Tips：\n",
    "1. 使用 input() 函式\n",
    "2. 跳脫字元\n",
    "![python006.png](https://github.com/usistlab/LearnPython/blob/master/images/python006.png?raw=true)\n"
   ]
  },
  {
   "cell_type": "markdown",
   "metadata": {},
   "source": [
    "## 4. 精靈國的計程車由500精靈幣開始跳表，自上車後開始計算公里數，每開1公里加收1000精靈幣，下車前再收5000精靈幣作為清潔費。請問普羅搭乘計程車移動28公里應付多少錢？(請撰寫一程式計算該結果並加以輸出)\n",
    "\n",
    "### Tips：\n",
    "\n",
    "1. Computational Thinking\n",
    "2. 保持冷靜"
   ]
  },
  {
   "cell_type": "markdown",
   "metadata": {},
   "source": [
    "## 5. 輸入三角形的三個邊長\n",
    "## 輸出三角形面積\n",
    "\n",
    "### Tips：\n",
    "1. 上網找出計算三角形面積的公式\n",
    "![python001.png](https://github.com/usistlab/LearnPython/blob/master/images/python001.png?raw=true)\n",
    "2. 要能判斷使用者輸入的三個邊長是否合法\n",
    "3. 帶入公式計算三角形面積\n",
    "4. 輸出面積 = \n"
   ]
  },
  {
   "cell_type": "markdown",
   "metadata": {},
   "source": [
    "## 6. 將以下句子全部輸出成小寫，\"PLEASE CONVERT THIS SENTENCE TO LOWER CASE.\"\n",
    "### Tips:\n",
    "1. 請上網查找字串的方法\n",
    "2. Keyword 大小寫轉換"
   ]
  },
  {
   "cell_type": "markdown",
   "metadata": {},
   "source": [
    "## 7. 請修正下列程式碼，使其能正確執行： \n",
    "```python\n",
    "bornYear = input(\"請輸入你的出生年份：\")\n",
    "nowYear = input(\"請輸入今年的年份：\")\n",
    "age = nowYear - bornYear\n",
    "print(\"你今年%d歲\" % age)\n",
    "```\n",
    "\n",
    "### Tips:\n",
    "1. 資料型別"
   ]
  },
  {
   "cell_type": "markdown",
   "metadata": {},
   "source": [
    "## 8. 輸入年月日, 然後輸出在那一年經過了幾天 （從1/1到輸入的那一天)\n",
    "\n",
    "例如：\n",
    "\n",
    "輸入 2017, 2 , 3\n",
    "\n",
    "輸出 34\n",
    "\n",
    "### Tips:\n",
    "1. 要判斷是否閏年\n",
    "![python004.png](https://github.com/usistlab/LearnPython/blob/master/images/python004.png?raw=true)\n",
    "2. 要判斷日期是否符合規則\n"
   ]
  },
  {
   "cell_type": "markdown",
   "metadata": {},
   "source": [
    "## 9.讓使用者分別輸入身高(cm)及體重(kg)後，進一步計算出其身體質量指數(BMI值)，並根據下表輸出該BMI值及其分級。例如輸入身高為160公分、體重50公斤，則輸出：BMI值為19.53(顯示至小數第二位)，屬正常範圍。\n",
    "\n",
    "![Table](http://pythonpro.weebly.com/uploads/9/9/3/0/9930914/6937765.png?535)\n",
    "\n",
    "### Tips:\n",
    "1. 上網找BMI計算公式\n",
    "![python003.png](https://github.com/usistlab/LearnPython/blob/master/images/python003.png?raw=true)\n",
    "2. 使用 if...elif..else\n",
    "3. 要有點耐心"
   ]
  },
  {
   "cell_type": "markdown",
   "metadata": {},
   "source": [
    "## 10. 一份數學考卷共有14題，為了使及格率提高，給分方式如下：答對1～8題，每題以8分計；答對9題以上者，前8題仍以8分計，但第9題開始則每題以6分計。請根據以上敘述撰寫一支程式，讓使用者輸入答對題數，再經程式計算後輸出得分。\n",
    "\n",
    "例：  \n",
    "請輸入您答對幾題： 7\n",
    "您得到：  56分\n",
    "\n",
    "請輸入您答對幾題： 100  \n",
    "別開完笑了！\n",
    "\n",
    "請輸入您答對幾題： 0\n",
    "您的程度還真爛！\n",
    "\n",
    "### Tips:\n",
    "1. Computional Thinking\n",
    "2. 保持冷靜\n",
    "3. 畫張表自己分析一下\n",
    "4. if...elif..else\n",
    "![python002.png](https://github.com/usistlab/LearnPython/blob/master/images/python002.png?raw=true)"
   ]
  },
  {
   "cell_type": "markdown",
   "metadata": {},
   "source": [
    "## 11.請修改習題5的程式碼：若三數可形成三角形，請判斷圍成的三角形是為銳角、直角或鈍角三角形，然後輸出結果。\n",
    "\n",
    "例：  \n",
    "輸入三個邊：  *5 7 6*  \n",
    "答案： 這是銳角三角形  \n",
    "\n",
    "輸入三個邊：  *5 3 4*  \n",
    "答案： 這是直角三角形  \n",
    "\n",
    "\n",
    "\n",
    "### Tips：\n",
    "1. 對使用者輸入的資料要先做處理\n",
    " - 怎樣把輸入的字串切成三個整數？\n",
    "2. 三個邊的邊長要不要先排序過？\n",
    "3. 是否合法三角形\n",
    " - 三角形三邊合法的判斷式？\n",
    "4. 上網找三角形 銳角、直角或鈍角 的判斷式？\n",
    "![7.png](https://github.com/usistlab/LearnPython/blob/master/images/7.png?raw=true)\n",
    "5. if...then\n",
    "6. 輸出答案"
   ]
  },
  {
   "cell_type": "markdown",
   "metadata": {},
   "source": [
    "## 12. 金字塔是世界七大奇景之一，請利用for迴圈寫出如下圖所示的4層金字塔圖形。\n",
    "\n",
    "```python\n",
    "   * \n",
    "\n",
    "  * * \n",
    "\n",
    " * * * \n",
    "\n",
    "* * * * \n",
    "```\n",
    "\n",
    "\n",
    "### Tips:\n",
    "1. for loop\n",
    "2. 每一層分兩次印, 第一次印空白, 第二次印＊號\n",
    "3. 找出演算法口訣\n",
    "4. 使用print 函數的進階功能\n",
    "### 5.如果印 100層, 要怎寫？"
   ]
  },
  {
   "cell_type": "markdown",
   "metadata": {},
   "source": [
    "## 13. 輸出當前時間, 間隔三秒後，再次輸出當前時間。\n",
    "例：  \n",
    "當前時間 2017-04-23 21:02:00  \n",
    "三秒以後 2017-04-23 21:05:00  \n",
    "\n",
    "### Tips:\n",
    "1. 上網找時間有關的模組(module)\n",
    "![6.png](https://github.com/usistlab/LearnPython/blob/master/images/6.png?raw=true)\n",
    "2. 使用現成的時間方法 (method)\n",
    "        "
   ]
  },
  {
   "cell_type": "markdown",
   "metadata": {},
   "source": [
    "## 14. 用Python每秒鐘ping一次Google, 並輸出回應是否成功\n",
    "\n",
    "### Tips:\n",
    "![python005.png](https://github.com/usistlab/LearnPython/blob/master/images/python005.png?raw=true)"
   ]
  },
  {
   "cell_type": "markdown",
   "metadata": {},
   "source": [
    "## 15. 在範圍 0~99 猜數字\n",
    "\n",
    "要紀錄猜的次數  \n",
    "要紀錄完幾回合  \n",
    "要能算出平均每一回合花幾次猜中  \n",
    "太大或太小要能提示user  \n",
    "\n",
    "### Tips:\n",
    "1. 要有亂數\n",
    "![python007.png](https://github.com/usistlab/LearnPython/blob/master/images/python007.png?raw=true)\n",
    "2. 要幾個迴圈？\n",
    "3. 資料用什來保存紀錄？\n",
    "4. 演算法？\n",
    "\n"
   ]
  },
  {
   "cell_type": "markdown",
   "metadata": {},
   "source": [
    "## 16. 利用Python來批次自動更改檔案名稱\n",
    "\n",
    "### Tips:\n",
    "1. 開始找吧, 一定有人幹過這檔事\n",
    "![python008.png](https://github.com/usistlab/LearnPython/blob/master/images/python008.png?raw=true)"
   ]
  },
  {
   "cell_type": "markdown",
   "metadata": {},
   "source": [
    "## 17.輸入任意十進位整數,將其轉換為二進位輸出\n",
    "### Tips:\n",
    "1. 自己寫一個函式來轉換\n",
    "![python009.png](https://github.com/usistlab/LearnPython/blob/master/images/python009.png?raw=true)\n",
    "2. 找現成的 python 函數來轉換\n",
    "![python010.png](https://github.com/usistlab/LearnPython/blob/master/images/python010.png?raw=true)"
   ]
  },
  {
   "cell_type": "markdown",
   "metadata": {},
   "source": [
    "![python012.png](https://github.com/usistlab/LearnPython/blob/master/images/python012.png?raw=true)\n",
    "\n",
    "http://python-basics.blogspot.tw/2005/10/blog-post.html"
   ]
  },
  {
   "cell_type": "markdown",
   "metadata": {},
   "source": [
    "## 18.題目：有1、2、3、4個數字，能組成多少個互不相同且無重複數字的三位元數？都是多少？\n",
    "\n",
    "例：\n",
    "1,2,3\n",
    "1,3,4\n",
    "2,3,4\n",
    ".....\n",
    "\n",
    "Tips:\n",
    "1. 想想看,這要用幾層迴圈？\n",
    "2. 什叫做互不相同且無重複？"
   ]
  },
  {
   "cell_type": "markdown",
   "metadata": {},
   "source": [
    "## 19.題目：企業發放的獎金根據利潤抽成。利潤(I)低於或等於10萬元時，獎金可提10%；\n",
    "    利潤高于10萬元，低於20萬元時，低於10萬元的部分按10%提成，高於10萬元的部分，可提成7.5%；\n",
    "    20萬到40萬之間時，高於20萬元的部分，可提成5%；\n",
    "    40萬到60萬之間時高於40萬元的部分，可提成3%；\n",
    "    60萬到100萬之間時，高於60萬元的部分，可提成1.5%，\n",
    "    高於100萬元時，超過100萬元的部分按1%提成，從鍵盤輸入當月利潤I，求應發放獎金總數？"
   ]
  },
  {
   "cell_type": "markdown",
   "metadata": {},
   "source": [
    "## 20.題目：一個整數，它加上100後是一個完全平方數，再加上168又是一個完全平方數，請問該數是多少？\n",
    "Tips:\n",
    "1. int i\n",
    "2. i + 100 = x*x\n",
    "3. i + 100 + 168 = y*y\n",
    "4. i = ?"
   ]
  },
  {
   "cell_type": "markdown",
   "metadata": {},
   "source": [
    "## 21.身份證號碼檢查\n",
    "\n",
    "我國的身分證字號有底下這樣的規則，因此對於任意輸入的身分證字號可以有一些基本的判斷原則，請您來判斷一個身分證字號是否是正常的號碼(不代表確有此號、此人)。\n",
    "\n",
    "(1) 英文代號以下表轉換成數字\n",
    "\n",
    "      A=10 台北市     J=18 新竹縣     S=26 高雄縣\n",
    "      B=11 台中市     K=19 苗栗縣     T=27 屏東縣\n",
    "      C=12 基隆市     L=20 台中縣     U=28 花蓮縣\n",
    "      D=13 台南市     M=21 南投縣     V=29 台東縣\n",
    "      E=14 高雄市     N=22 彰化縣     W=32 金門縣\n",
    "      F=15 台北縣     O=35 新竹市     X=30 澎湖縣\n",
    "      G=16 宜蘭縣     P=23 雲林縣     Y=31 陽明山\n",
    "      H=17 桃園縣     Q=24 嘉義縣     Z=33 連江縣\n",
    "      I=34 嘉義市     R=25 台南縣\n",
    "\n",
    "  (2) 英文轉成的數字, 個位數乘９再加上十位數的數字\n",
    "\n",
    "  (3) 各數字從右到左依次乘１、２、３、４．．．．８\n",
    "\n",
    "  (4) 求出(2),(3) 及最後一碼的和\n",
    "\n",
    "  (5) (4)除10 若整除，則為 real，否則為 fake\n",
    "\n",
    " 例： T112663836\n",
    "\n",
    "2 + 7*9 + 1*8 + 1*7 + 2*6 + 6*5 + 6*4 + 3*3 + 8*2 + 3*1 + 6 = 180\n",
    "\n",
    "除以 10 整除，因此為 real\n",
    "\n",
    "輸入說明 ：\n",
    "一組身分證號碼\n",
    "\n",
    "輸出說明 ：\n",
    "輸出 real or fake\"\"\""
   ]
  }
 ],
 "metadata": {
  "celltoolbar": "Tags",
  "kernelspec": {
   "display_name": "Python 3",
   "language": "python",
   "name": "python3"
  },
  "language_info": {
   "codemirror_mode": {
    "name": "ipython",
    "version": 3.0
   },
   "file_extension": ".py",
   "mimetype": "text/x-python",
   "name": "python",
   "nbconvert_exporter": "python",
   "pygments_lexer": "ipython3",
   "version": "3.5.2"
  }
 },
 "nbformat": 4,
 "nbformat_minor": 0
}