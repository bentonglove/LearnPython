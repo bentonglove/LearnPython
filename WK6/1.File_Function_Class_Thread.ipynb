{
 "cells": [
  {
   "cell_type": "markdown",
   "metadata": {
    "slideshow": {
     "slide_type": "slide"
    }
   },
   "source": [
    "回車和換行\n",
    "今天，我總算搞清楚 **“回車”（carriage return）** 和 **“換行”（line feed）** 這兩個概念的來歷和區別了。\n",
    "在計算機還沒有出現之前，有一種叫做電傳打字機（Teletype Model 33）的玩意，每秒鐘可以打10個字符。但是它有一個問題，就是打完一行換行的時候，要用去0.2秒，正好可以打兩個字符。要是在這0.2秒裡面，又有新的字符傳過來，那麼這個字符將丟失。\n",
    "\n",
    "於是，研製人員想了個辦法解決這個問題，就是在每行後面加兩個表示結束的字符。\n",
    "- 一個叫做“回車”，告訴打字機把打印頭定位在左邊界；\n",
    "- 另一個叫做“換行”，告訴打字機把紙向下移一行。\n",
    "\n",
    "這就是“換行”和“回車”的來歷，從它們的英語名字上也可以看出一二。\n",
    "\n",
    "後來，計算機發明了，這兩個概念也就被般到了計算機上。那時，存儲器很貴，一些科學家認為在每行結尾加兩個字符太浪費了，加一個就可以。於是，就出現了分歧。\n",
    "\n",
    "Unix系統裡，每行結尾只有“<換行>”，即“\\n”；\n",
    "\n",
    "Windows系統裡面，每行結尾是“<換行><回車>”，即“\\n\\r”；\n",
    "\n",
    "Mac系統裡，每行結尾是“<回車>”。\n",
    "\n",
    "\n",
    "一個直接後果是，Unix/Mac系統下的文件在Windows裡打開的話，所有文字會變成一行；\n",
    "而Windows裡的文件在Unix/Mac下打開的話，在每行的結尾可能會多出一個^M符號。\n"
   ]
  },
  {
   "cell_type": "markdown",
   "metadata": {
    "heading_collapsed": true
   },
   "source": [
    "# 再看檔案系統\n",
    "\n",
    "用 Hex Editor 來介紹檔案系統（數據空間）"
   ]
  },
  {
   "cell_type": "markdown",
   "metadata": {},
   "source": [
    "# 函數, 參數"
   ]
  },
  {
   "cell_type": "code",
   "execution_count": null,
   "metadata": {
    "scrolled": true
   },
   "outputs": [],
   "source": [
    "from IPython.display import YouTubeVideo\n",
    "# a talk about IPython at Sage Days at U. Washington, Seattle.\n",
    "# Video credit: William Stein.\n",
    "YouTubeVideo('taXgBMn3wh8')"
   ]
  },
  {
   "cell_type": "code",
   "execution_count": null,
   "metadata": {},
   "outputs": [],
   "source": [
    "from IPython.display import HTML\n",
    "HTML('<iframe src=http://www.runoob.com/python3/python3-function.html width=900 height=600></iframe>')"
   ]
  },
  {
   "cell_type": "markdown",
   "metadata": {
    "heading_collapsed": true
   },
   "source": [
    "###  Break"
   ]
  },
  {
   "cell_type": "markdown",
   "metadata": {
    "heading_collapsed": true
   },
   "source": [
    "# Class (用 Linked list 來介紹 )"
   ]
  },
  {
   "cell_type": "markdown",
   "metadata": {
    "hidden": true
   },
   "source": [
    "## Lined List Structure\n",
    "![Linked list](https://upload.wikimedia.org/wikipedia/commons/thumb/4/4b/CPT-LinkedLists-addingnode.svg/474px-CPT-LinkedLists-addingnode.svg.png)\n",
    "\n",
    "![Add-on](http://www.cs.usfca.edu/%7Esrollins/courses/cs112-f08/web/notes/linkedlists/ll2.gif)"
   ]
  },
  {
   "cell_type": "code",
   "execution_count": null,
   "metadata": {
    "hidden": true
   },
   "outputs": [],
   "source": [
    "#\n",
    "# http://stackoverflow.com/questions/21136284/implementing-a-linked-list-in-python\n",
    "#\n",
    "\n",
    "class Node(object):\n",
    "\n",
    "    def __init__(self, data, next=None):\n",
    "\n",
    "        self.data = data\n",
    "        self.next = next\n",
    "\n",
    "    def __str__(self):\n",
    "        return str(self.data)\n",
    "\n",
    "\n",
    "\n",
    "class LinkedList(object):\n",
    "\n",
    "\n",
    "\n",
    "    def __init__(self):\n",
    "\n",
    "        self.head = None\n",
    "        self.size = 0\n",
    "\n",
    "\n",
    "    def append(self, data):\n",
    "            if not self.head:\n",
    "                n = Node(data)\n",
    "                self.head = n\n",
    "                return\n",
    "            else:\n",
    "                n = self.head\n",
    "\n",
    "                while n.next != None:\n",
    "                    n = n.next\n",
    "\n",
    "                new_node = Node(data)\n",
    "                n.next = new_node;\n",
    "                return\n",
    "\n",
    "\n",
    "    def isEmpty(self):\n",
    "        return not self.head\n",
    "\n",
    "    def printList(self):\n",
    "        n = self.head\n",
    "\n",
    "        while n:\n",
    "            print (str(n))\n",
    "            n = n.next\n",
    "# ============================================================================\n",
    "ll = LinkedList()\n",
    "elems = [1, 2, 3, 54, 6]\n",
    "for elem in elems:\n",
    "    ll.append(elem)\n",
    "\n",
    "ll.printList()"
   ]
  },
  {
   "cell_type": "code",
   "execution_count": null,
   "metadata": {
    "hidden": true,
    "scrolled": true
   },
   "outputs": [],
   "source": [
    "from IPython.display import YouTubeVideo\n",
    "# a talk about IPython at Sage Days at U. Washington, Seattle.\n",
    "# Video credit: William Stein.\n",
    "YouTubeVideo('Ast5sKQXxEU')"
   ]
  },
  {
   "cell_type": "markdown",
   "metadata": {
    "hidden": true
   },
   "source": [
    "## Python 的類的下劃線命名有什麼不同？\n",
    "1. 以一個下劃線開頭的命名，如_getFile   \n",
    "2. 以兩個下劃線開頭的命名，如__filename   \n",
    "3. 以兩個下劃線開頭和結尾的命名，如__init__()   \n",
    "4. 其它  \n",
    "\n",
    "這些命名有什麼不同嗎?  \n",
    "\n",
    "1. 首先是**單下劃線**開頭， 這個被常用於 Module 中，在一個模塊中以單下劃線開頭的 變量 和 函數 被默認當作內部函數，如果使用 from a_module import *導入時，這部分變量和函數不會被導入。   \n",
    " - 不過值得注意的是，如果使用 import a_module 這樣導入模塊，仍然可以用a_module._some_var這樣的形式訪問到這樣的對象。\n",
    "\n",
    " - 在Python的官方推薦的代碼樣式中，還有一種單下劃線結尾的樣式，這在解析時並沒有特別的含義，但通常用於和Python關鍵詞區分開來，比如如果我們需要一個變量叫做class，但class是Python的關鍵詞，就可以以單下劃線結尾寫作class_。\n",
    "\n",
    "2. 雙下劃線開頭的命名形式在Python的類成員中使用表示名字改編(Name Mangling)，  \n",
    " - 即如果有一Test類裡有一成員__x，那麼dir(Test)時會看到_Test__x而非__x。這是為了避免該成員的名稱與子類中的名稱衝突。但要注意這要求該名稱末尾沒有下劃線。\n",
    "\n",
    "3. 雙下劃線開頭雙下劃線結尾的是一些Python的“魔術”對象，如類成員的__init__、__del__、__add__、__getitem__等，以及全局的__file__、__name__等。Python官方推薦永遠不要將這樣的命名方式應用於自己的變量或函數，而是按照文檔說明來使用。\n",
    "\n",
    "另外單下劃線開頭還有一種一般不會用到的情況在於使用一個C編寫的擴展庫有時會用下劃線開頭命名，然後使用一個去掉下劃線的Python模塊進行包裝。如struct這個模塊實際上是C模塊_struct的一個Python包裝。\n",
    "\n",
    "更多關於命名的內容可以參考PEP 8 《代碼風格指南》的Name Conventions一節：http://www.python.org/dev/peps/pep-0008/"
   ]
  },
  {
   "cell_type": "markdown",
   "metadata": {},
   "source": [
    "# Multithread\n",
    "\n",
    "Python3 线程中常用的两个模块为：  \n",
    "1. _thread    \n",
    "2. threading(推荐使用)   \n",
    "\n",
    "thread 模块已被废弃。用户可以使用 threading 模块代替。所以，在 Python3 中不能再使用\"thread\" 模块。为了兼容性，Python3 将 thread 重命名为 \"_thread\"。\n",
    "\n",
    "\n",
    "thread.start_new_thread ( function, args[, kwargs] )\n",
    "\n",
    "function - 线程函数。  \n",
    "args - 传递给线程函数的参数,他必须是个tuple类型。  \n",
    "kwargs - 可选参数。  "
   ]
  },
  {
   "cell_type": "code",
   "execution_count": null,
   "metadata": {
    "collapsed": true
   },
   "outputs": [],
   "source": [
    "#!/usr/bin/python3\n",
    "\n",
    "import _thread\n",
    "import time\n",
    "\n",
    "# 为线程定义一个函数\n",
    "def print_time( threadName, delay):\n",
    "    count = 0\n",
    "    while count < 5:\n",
    "        time.sleep(delay)\n",
    "        count += 1\n",
    "        print (\"%s: %s\" % ( threadName, time.ctime(time.time()) ))\n",
    "\n",
    "# 创建两个线程\n",
    "try:\n",
    "    _thread.start_new_thread( print_time, (\"Thread-1\", 2, ) )\n",
    "    _thread.start_new_thread( print_time, (\"Thread-2\", 4, ) )\n",
    "except:\n",
    "    print (\"Error: 无法启动线程\")\n",
    "\n",
    "while 1:\n",
    "    pass"
   ]
  },
  {
   "cell_type": "markdown",
   "metadata": {},
   "source": [
    "## Python 線程使用介紹\n",
    "\n",
    "https://puremonkey2010.blogspot.tw/2012/05/python-python.html\n",
    "\n",
    "##  Python 模塊學習 - threading 多線程控制和處理\n",
    "\n",
    "https://puremonkey2010.blogspot.tw/2012/07/python-python-threading.html"
   ]
  },
  {
   "cell_type": "markdown",
   "metadata": {},
   "source": [
    "### 啟動Multithread\n",
    "### 同步 (pending)\n",
    "### 隊列 (pending)"
   ]
  },
  {
   "cell_type": "code",
   "execution_count": null,
   "metadata": {
    "scrolled": true
   },
   "outputs": [],
   "source": [
    "from IPython.display import HTML\n",
    "HTML('<iframe src=http://www.runoob.com/python3/python3-multithreading.html width=900 height=600></iframe>')"
   ]
  },
  {
   "cell_type": "markdown",
   "metadata": {},
   "source": [
    "### Another simple Multithread Application without inherient a Class"
   ]
  },
  {
   "cell_type": "code",
   "execution_count": null,
   "metadata": {
    "collapsed": true
   },
   "outputs": [],
   "source": [
    "#filename:thread_fun.py\n",
    "#function:thread using function\n",
    "\n",
    "import threading\n",
    "import time\n",
    "sleep_sec=1\n",
    "id=[]\n",
    "def thrd_fun():\n",
    "    print(\"\\n now is doing the thread using function\")\n",
    "    for i in range(1, 3):\n",
    "        time.sleep(sleep_sec)\n",
    "        print(\"i=\",i)\n",
    "#    exit()\n",
    "    \n",
    "thrdobj=threading.Thread(target=thrd_fun)\n",
    "thrdobj.start()\n",
    "print(threading.active_count())"
   ]
  },
  {
   "cell_type": "code",
   "execution_count": null,
   "metadata": {
    "collapsed": true
   },
   "outputs": [],
   "source": [
    "#filename:thrd_example.py\n",
    "#function: using the threading \n",
    "\n",
    "import time\n",
    "from threading import Thread\n",
    "sec=2\n",
    "\n",
    "def thrdsleep(id):\n",
    "    print (\"\\nsleep %d sec by thread-id %d\" % (sec,id))\n",
    "    time.sleep(sec)\n",
    "    print (\"\\nfinish sleep by thread-id %d\" % id)\n",
    "\n",
    "print(\"\\n\\n\")\n",
    "for i in range(3):\n",
    "    thrd = Thread(target=thrdsleep, args=(i+1,))\n",
    "    thrd.start()"
   ]
  },
  {
   "cell_type": "markdown",
   "metadata": {},
   "source": [
    "# 奇怪的Class"
   ]
  },
  {
   "cell_type": "code",
   "execution_count": null,
   "metadata": {},
   "outputs": [],
   "source": [
    "class Point:\n",
    "    def move_x(n):\n",
    "        Point.x += n\n",
    "    def move_y(n):\n",
    "        Point.y +=n\n",
    "        \n",
    "Point.x =1\n",
    "Point.y =2\n",
    "print( \"({}, {})\".format(Point.x, Point.y))\n",
    "Point.move_x(200)\n",
    "print(Point.x)\n",
    "\n",
    "Point.distance = Point.x**2 + Point.y**2\n",
    "print (Point.distance)"
   ]
  },
  {
   "cell_type": "code",
   "execution_count": null,
   "metadata": {
    "scrolled": true
   },
   "outputs": [],
   "source": [
    "class Point:\n",
    "    def move_x(n):\n",
    "        Point.x += n\n",
    "    def move_y(n):\n",
    "        Point.y +=n\n",
    "        \n",
    "p1 = Point\n",
    "print (p1.x)"
   ]
  },
  {
   "cell_type": "code",
   "execution_count": 14,
   "metadata": {
    "scrolled": true
   },
   "outputs": [
    {
     "data": {
      "text/html": [
       "<iframe src=https://marco79423.net/articles/%E6%B7%BA%E8%AB%87-python-%E7%9A%84%E5%B1%AC%E6%80%A7/ width=900 height=600></iframe>"
      ],
      "text/plain": [
       "<IPython.core.display.HTML object>"
      ]
     },
     "execution_count": 14,
     "metadata": {},
     "output_type": "execute_result"
    }
   ],
   "source": [
    "from IPython.display import HTML\n",
    "HTML('<iframe src=https://marco79423.net/articles/%E6%B7%BA%E8%AB%87-python-%E7%9A%84%E5%B1%AC%E6%80%A7/ width=900 height=600></iframe>')"
   ]
  },
  {
   "cell_type": "code",
   "execution_count": null,
   "metadata": {
    "scrolled": true
   },
   "outputs": [],
   "source": [
    "from IPython.display import HTML\n",
    "HTML('<iframe src=http://allenchien.logdown.com/posts/425648-python-study-notes-8-class width=900 height=600></iframe>')"
   ]
  },
  {
   "cell_type": "markdown",
   "metadata": {},
   "source": [
    "## GOTOP 使用類別\n",
    "\n",
    "http://epaper.gotop.com.tw/pdf/ACL026800.pdf"
   ]
  }
 ],
 "metadata": {
  "celltoolbar": "Slideshow",
  "kernelspec": {
   "display_name": "Python 3",
   "language": "python",
   "name": "python3"
  },
  "language_info": {
   "codemirror_mode": {
    "name": "ipython",
    "version": 3
   },
   "file_extension": ".py",
   "mimetype": "text/x-python",
   "name": "python",
   "nbconvert_exporter": "python",
   "pygments_lexer": "ipython3",
   "version": "3.5.2"
  }
 },
 "nbformat": 4,
 "nbformat_minor": 2
}
