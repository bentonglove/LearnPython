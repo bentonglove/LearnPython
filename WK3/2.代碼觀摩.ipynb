{
 "cells": [
  {
   "cell_type": "markdown",
   "metadata": {},
   "source": [
    "# 初學者代碼觀摩\n",
    "\n",
    "http://www.cnblogs.com/CheeseZH/archive/2012/11/05/2755107.html"
   ]
  },
  {
   "cell_type": "markdown",
   "metadata": {},
   "source": [
    "##  懶人跑碼之地\n",
    "\n",
    "https://repl.it/Hkku/0"
   ]
  },
  {
   "cell_type": "markdown",
   "metadata": {
    "collapsed": true
   },
   "source": [
    "# 快速觀摩視頻 （五集81分钟）\n",
    "\n",
    "https://www.bilibili.com/video/av4404866/index_5.html\n",
    "\n",
    "https://www.bilibili.com/video/av4404866/index_4.html\n",
    "\n",
    "https://www.bilibili.com/video/av4404866/index_3.html\n",
    "\n",
    "https://www.bilibili.com/video/av4404866/index_2.html"
   ]
  }
 ],
 "metadata": {
  "kernelspec": {
   "display_name": "Python 3",
   "language": "python",
   "name": "python3"
  },
  "language_info": {
   "codemirror_mode": {
    "name": "ipython",
    "version": 3
   },
   "file_extension": ".py",
   "mimetype": "text/x-python",
   "name": "python",
   "nbconvert_exporter": "python",
   "pygments_lexer": "ipython3",
   "version": "3.5.2"
  }
 },
 "nbformat": 4,
 "nbformat_minor": 2
}
