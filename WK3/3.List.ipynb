{
 "cells": [
  {
   "cell_type": "markdown",
   "metadata": {
    "slideshow": {
     "slide_type": "slide"
    }
   },
   "source": [
    "## Learn Python Programming \n",
    "![5.png](https://github.com/usistlab/LearnPython/blob/master/images/5.png?raw=true)\n",
    "\n",
    "https://www.programiz.com/python-programming"
   ]
  },
  {
   "cell_type": "markdown",
   "metadata": {
    "collapsed": true,
    "slideshow": {
     "slide_type": "slide"
    }
   },
   "source": [
    "## 序列型別的資料結構  \n",
    "\n",
    "https://books.google.com.tw/books?id=thu0DQAAQBAJ&lpg=SA6-PA10&ots=Ru1u_cWNzh&dq=python%20%E4%B8%B2%E5%88%97%E8%88%87%E8%B3%87%E6%96%99%E7%B5%90%E6%A7%8B%E7%9A%84%E6%87%89%E7%94%A8&hl=zh-TW&pg=SA6-PA2#v=onepage&q=python%20%E4%B8%B2%E5%88%97%E8%88%87%E8%B3%87%E6%96%99%E7%B5%90%E6%A7%8B%E7%9A%84%E6%87%89%E7%94%A8&f=false  \n",
    "\n",
    "- string\n",
    "- list [ ]\n",
    "- tuple ( )\n",
    "\n",
    "#### 操作（operate)串列的函式有:\n",
    "- cmp(lsit1, list2)  # not work for python3\n",
    "- len(list)\n",
    "- max(list)\n",
    "- min(list)\n",
    "- list(tuple)\n",
    "\n",
    "#### 串列的方法（method)有:\n",
    "- list.append(obj)\n",
    "- list.extend(obj)\n",
    "- list.count(obj)\n",
    "- list.index(obj)\n",
    "- list.insert(index, obj)\n",
    "- list.pop()\n",
    "- list.remove(obj)\n",
    "- lsit.reverse()\n",
    "- list.sort()"
   ]
  },
  {
   "cell_type": "code",
   "execution_count": 25,
   "metadata": {
    "slideshow": {
     "slide_type": "slide"
    }
   },
   "outputs": [
    {
     "name": "stdout",
     "output_type": "stream",
     "text": [
      "3\n"
     ]
    }
   ],
   "source": [
    "sample = [1, [\"another\", \"list\"], (\"a\", \"tuple\")]\n",
    "mylist = [\"List item 1\", 2, 3.14]\n",
    "mylist[0] = \"List item 1 again\" # We're changing the item.\n",
    "mylist[-1] = 3.21 # Here, we refer to the last item.\n",
    "\n",
    "mydict = {\"Key 1\": \"Value 1\", 2: 3, \"pi\": 3.14}\n",
    "mydict[\"pi\"] = 3.15 # This is how you change dictionary values.\n",
    "\n",
    "mytuple = (1, 2, 3)\n",
    "\n",
    "myfunction = len    # 指定函數變數\n",
    "print(myfunction(mylist))"
   ]
  },
  {
   "cell_type": "code",
   "execution_count": 26,
   "metadata": {
    "scrolled": true,
    "slideshow": {
     "slide_type": "subslide"
    }
   },
   "outputs": [
    {
     "name": "stdout",
     "output_type": "stream",
     "text": [
      "[1, 2, 'I am in the middle', 3, 3.14]\n",
      "[1, 2]\n",
      "['I am in the middle', 3]\n",
      "[2, 'I am in the middle', 3, 3.14]\n",
      "[1, 2, 'I am in the middle', 3]\n",
      "[1, 'I am in the middle', 3.14]\n"
     ]
    }
   ],
   "source": [
    "# : 的用法 slice 切片\n",
    "mylist = [1, 2 , \"I am in the middle\", 3, 3.14]\n",
    "print(mylist[:])\n",
    "\n",
    "print(mylist[0:2]) # Indexing is inclusive-exclusive\n",
    "\n",
    "print(mylist[-3:-1])\n",
    "\n",
    "print(mylist[1:])\n",
    "\n",
    "print(mylist[:-1]) # -1 is the last item\n",
    "\n",
    "# Adding a third parameter, \"step\" will have Python step in\n",
    "# N item increments, rather than 1.\n",
    "# E.g., this will return the first item, then go to the third and\n",
    "# return that (so, items 0 and 2 in 0-indexing).\n",
    "print(mylist[::2])"
   ]
  },
  {
   "cell_type": "code",
   "execution_count": 27,
   "metadata": {
    "scrolled": true,
    "slideshow": {
     "slide_type": "subslide"
    }
   },
   "outputs": [
    {
     "name": "stdout",
     "output_type": "stream",
     "text": [
      "5\n",
      "['Alger', 18, '香蕉', '蘋果', '鳳梨', ['Roson', 38, '香蕉', '蘋果', '鳳梨']]\n",
      "('xyz', 20, '香蕉', '蘋果', '鳳梨')\n",
      "['xyz', 20, '香蕉', '蘋果', '鳳梨']\n",
      "17\n",
      "oson,38,香\n"
     ]
    }
   ],
   "source": [
    "list1 = [\"Alger\", 18, \"香蕉\", \"蘋果\", \"鳳梨\" ]\n",
    "list2 = [\"Roson\", 38, \"香蕉\", \"蘋果\", \"鳳梨\" ]\n",
    "mytuple = (\"xyz\", 20, \"香蕉\", \"蘋果\", \"鳳梨\")\n",
    "myString = \"Roson,38,香蕉,蘋果,鳳梨\"\n",
    "\n",
    "print (len(list1))\n",
    "list1.append(list2)  #串接兩個 lsit 如果改成extend又會是如何\n",
    "print (list1)\n",
    "# print (max(list1)) 會產生錯誤\n",
    "\n",
    "print (mytuple)\n",
    "print (list(mytuple))   #將tuple轉換為list\n",
    "\n",
    "print (len(myString))\n",
    "print (myString[1:10])\n"
   ]
  },
  {
   "cell_type": "code",
   "execution_count": 3,
   "metadata": {
    "slideshow": {
     "slide_type": "slide"
    }
   },
   "outputs": [
    {
     "name": "stdout",
     "output_type": "stream",
     "text": [
      "The string is: I am studying Python\n",
      "['I', 'a', 'm', 's', 't', 'u', 'd', 'y', 'i', 'n', 'g', 'P', 'y', 't', 'h', 'o', 'n']\n",
      "I出現1次\n",
      "a出現1次\n",
      "m出現1次\n",
      "s出現1次\n",
      "t出現2次\n",
      "u出現1次\n",
      "d出現1次\n",
      "y出現2次\n",
      "i出現1次\n",
      "n出現2次\n",
      "g出現1次\n",
      "P出現1次\n",
      "y出現2次\n",
      "t出現2次\n",
      "h出現1次\n",
      "o出現1次\n",
      "n出現2次\n"
     ]
    }
   ],
   "source": [
    "#filename:listex.py\n",
    "# 題目： 計算字母出現的次數\n",
    "\n",
    "#function: create the empy list, list can contains different data type\n",
    "#把下列字串的空格移除\n",
    "string = \"I am studying Python\"\n",
    "print(\"The string is: {}\".format(string))\n",
    "\n",
    "elements = []\n",
    "for v in string:\n",
    "#  print(v)\n",
    "    if v == ' ':\n",
    "        continue\n",
    "    elements.append(v)\n",
    "\n",
    "print(elements)\n",
    "\n",
    "#計算每個字母出現的次數\n",
    "for a in elements:\n",
    "    print (\"{}出現{}次\".format(a, elements.count(a)))\n",
    "    \n",
    "# 習題： 怎樣不要讓重複的統計字母再跑出來"
   ]
  },
  {
   "cell_type": "markdown",
   "metadata": {
    "collapsed": true,
    "slideshow": {
     "slide_type": "slide"
    }
   },
   "source": [
    "### 建立串列的三種方法\n",
    "- x = [ ]\n",
    "- x = list()\n",
    "- x = [ _expression_ for _元素_ in _序列資料內_ if _條件_ ]"
   ]
  },
  {
   "cell_type": "code",
   "execution_count": 28,
   "metadata": {
    "slideshow": {
     "slide_type": "subslide"
    }
   },
   "outputs": [
    {
     "name": "stdout",
     "output_type": "stream",
     "text": [
      "[]\n"
     ]
    }
   ],
   "source": [
    "# 起始一個空的串列物件（變數）\n",
    "a = list ()\n",
    "print (a)"
   ]
  },
  {
   "cell_type": "code",
   "execution_count": 29,
   "metadata": {
    "slideshow": {
     "slide_type": "subslide"
    }
   },
   "outputs": [
    {
     "name": "stdout",
     "output_type": "stream",
     "text": [
      "['中文', '日文', 'English', 6, [29, 23, 18, 5, 19, 12]]\n"
     ]
    }
   ],
   "source": [
    "#串列可以包含各種不同的資料內容\n",
    "listex = ['中文', '日文','English', 6, [29,23,18,5,19,12]]\n",
    "print (listex)"
   ]
  },
  {
   "cell_type": "code",
   "execution_count": 31,
   "metadata": {
    "scrolled": false,
    "slideshow": {
     "slide_type": "subslide"
    }
   },
   "outputs": [
    {
     "name": "stdout",
     "output_type": "stream",
     "text": [
      "newLIst= []\n",
      "newlist after using append()= []\n",
      "Outputlist= []\n",
      "outputlist after using append()= [2, 4, 6, 8, 10, 14, 18, 24, 26]\n",
      "Ouput= []\n",
      "output after using list comprehension= [2, 4, 6, 8, 10, 14, 18, 24, 26]\n"
     ]
    }
   ],
   "source": [
    "#filename:list_create.py\n",
    "#function:list creation\n",
    "\n",
    "# Creat list using []\n",
    "newList = []\n",
    "print(\"newLIst=\", newList0)\n",
    "\n",
    "for i in range(0, 5):\n",
    "    newList.append(i*2)\n",
    "print(\"newlist after using append()=\",newList0)\n",
    "\n",
    "\n",
    "newList = [1,2,3,4,5,6,7,8,9,10,13,14,17,18,23,24,25,26]\n",
    "\n",
    "#create list using list()\n",
    "outputlist=list()\n",
    "print(\"Outputlist=\",outputlist)\n",
    "for x in newList:\n",
    "    if x%2 == 0:  # 把偶數值挑出來\n",
    "        outputlist.append(x)\n",
    "print(\"outputlist after using append()=\",outputlist)\n",
    "\n",
    "#create list using list comprehension\n",
    "output=[]\n",
    "print(\"Ouput=\",output)\n",
    "output = [x for x in newList if x%2 == 0]   #這樣寫更為簡短,python的思維模式\n",
    "print(\"output after using list comprehension=\",output)"
   ]
  },
  {
   "cell_type": "code",
   "execution_count": 4,
   "metadata": {
    "slideshow": {
     "slide_type": "slide"
    }
   },
   "outputs": [
    {
     "name": "stdout",
     "output_type": "stream",
     "text": [
      "She101Who\n",
      "['1', '0', '1']\n",
      "3\n",
      "password new= ['V', 'k', 'h', '4', '3', '4', 'Z', 'k', 'r']\n",
      "V k h 4 3 4 Z k r \n",
      " ['V', 'k', 'h', '7', '6', '7', 'Z', 'k', 'r']\n",
      "\n",
      " Vkh767Zkr\n"
     ]
    }
   ],
   "source": [
    "#filename:list_access.py\n",
    "### 搞密碼\n",
    "### 串列的存取及修改\n",
    "import string\n",
    "\n",
    "Password_string = \"She101Who\"\n",
    "print(Password_string)\n",
    "isnumbers = [x for x in Password_string if x.isdigit()]  #把數字的部份挑出來\n",
    "print( isnumbers)\n",
    "print(len(isnumbers))\n",
    "\n",
    "    \n",
    "Password_new=[]\n",
    "for x in Password_string:\n",
    "    Password_new.append(chr(ord(x)+3))   #故意把每個字元的ASCII+3\n",
    "print(\"password new=\",Password_new)\n",
    "\n",
    "index=0\n",
    "for item in Password_new:\n",
    "    print(item,end=' ')\n",
    "    if Password_new[index].isdigit():   #假如是數字的話\n",
    "        Password_new[index]=chr((ord(Password_new[index])+3)) #chr()的用法, ord()的用法\n",
    "        index+=1\n",
    "    print(\"\\n\",Password_new)\n",
    "\n",
    "#change from List to string 把串列轉換為字串\n",
    "finalstr=''.join(Password_new)\n",
    "print(\"\\n\",finalstr)"
   ]
  },
  {
   "cell_type": "code",
   "execution_count": 32,
   "metadata": {
    "slideshow": {
     "slide_type": "slide"
    }
   },
   "outputs": [
    {
     "name": "stdout",
     "output_type": "stream",
     "text": [
      "['jack  Stahl', 1, 'Jack welhse', 2, 'john Kenny', 3, 'Johnny shieh']\n",
      "['jack  Stahl', 1, 'Jack welhse', 2, 3, 'Johnny shieh']\n",
      "['Johnny shieh', 3, 2, 'Jack welhse', 1, 'jack  Stahl']\n",
      "['Johnny shieh', 2, 'Jack welhse', 1, 'jack  Stahl']\n",
      "[6, 10, 15, 22, 29, 46]\n",
      "[46, 29, 22, 15, 10, 6]\n",
      "[2, 'Jack welhse', 1, 'jack  Stahl']\n"
     ]
    }
   ],
   "source": [
    "#filename: list_operation.py\n",
    "#function: list operation\n",
    "\n",
    "members_list = [0, \"jack  Stahl\", 1, \"Jack welhse\", 2, \"john Kenny\", 3, \"Johnny shieh\"]\n",
    "\n",
    "del members_list[0]   # index 0 from the list removed \n",
    "print (members_list) \n",
    "members_list.remove(\"john Kenny\") # remove the john Kenny from the list, not the index 4\n",
    "print ( members_list)\n",
    "\n",
    "members_list.reverse()\n",
    "print ( members_list)\n",
    "\n",
    "members_list.pop(1)   # index 1 from the list removed\n",
    "print ( members_list)\n",
    "\n",
    "Listing = [6, 10,15,22,29,46]\n",
    "print(Listing)\n",
    "Listing.reverse()\n",
    "print(Listing)\n",
    "\n",
    "\n",
    "members_list.remove(members_list[0])\n",
    "print ( members_list)\n"
   ]
  },
  {
   "cell_type": "code",
   "execution_count": 2,
   "metadata": {
    "scrolled": true,
    "slideshow": {
     "slide_type": "subslide"
    }
   },
   "outputs": [
    {
     "name": "stdout",
     "output_type": "stream",
     "text": [
      "plese keyin in the range count to n for range(n):3\n",
      "doublelist is  [0, 2, 4]\n",
      "doublelist using list comprehension is  [0, 2, 4]\n"
     ]
    }
   ],
   "source": [
    "#filename:list-comp-create.py\n",
    "#function:general list creation and list comprehension \n",
    "\n",
    "n=int(input(\"plese keyin in the range count to n for range(n):\"))\n",
    "\n",
    "doublelist = []\n",
    "for x in range(n):\n",
    "    doublelist.append(x*2)\n",
    "\n",
    "print(\"doublelist is \",doublelist)\n",
    "\n",
    "\n",
    "\n",
    "doublelist = [x*2 for x in range(n)]   #三行和一行的差別\n",
    "\n",
    "print(\"doublelist using list comprehension is \",doublelist)"
   ]
  },
  {
   "cell_type": "markdown",
   "metadata": {
    "slideshow": {
     "slide_type": "slide"
    }
   },
   "source": [
    "### 串列與資料結構的應用\n",
    "\n",
    "https://books.google.com.tw/books?id=thu0DQAAQBAJ&lpg=SA6-PA10&ots=Ru1u_cWNzh&dq=python%20%E4%B8%B2%E5%88%97%E8%88%87%E8%B3%87%E6%96%99%E7%B5%90%E6%A7%8B%E7%9A%84%E6%87%89%E7%94%A8&hl=zh-TW&pg=SA6-PA10#v=onepage&q=python%20%E4%B8%B2%E5%88%97%E8%88%87%E8%B3%87%E6%96%99%E7%B5%90%E6%A7%8B%E7%9A%84%E6%87%89%E7%94%A8&f=false"
   ]
  }
 ],
 "metadata": {
  "celltoolbar": "Slideshow",
  "kernelspec": {
   "display_name": "Python 3",
   "language": "python",
   "name": "python3"
  },
  "language_info": {
   "codemirror_mode": {
    "name": "ipython",
    "version": 3
   },
   "file_extension": ".py",
   "mimetype": "text/x-python",
   "name": "python",
   "nbconvert_exporter": "python",
   "pygments_lexer": "ipython3",
   "version": "3.5.2"
  }
 },
 "nbformat": 4,
 "nbformat_minor": 2
}
