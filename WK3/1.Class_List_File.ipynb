{
 "cells": [
  {
   "cell_type": "markdown",
   "metadata": {
    "slideshow": {
     "slide_type": "slide"
    }
   },
   "source": [
    "## Learn Python Programming \n",
    "![5.png](https://github.com/usistlab/LearnPython/blob/master/images/5.png?raw=true)\n",
    "\n",
    "https://www.programiz.com/python-programming"
   ]
  },
  {
   "cell_type": "markdown",
   "metadata": {
    "collapsed": true,
    "slideshow": {
     "slide_type": "slide"
    }
   },
   "source": [
    "# Start from an object\n"
   ]
  },
  {
   "cell_type": "markdown",
   "metadata": {
    "slideshow": {
     "slide_type": "slide"
    }
   },
   "source": [
    "# 先來看一下啥是物件\n",
    "```\n",
    "1. help(<object>)\n",
    "2. dir(), which shows you all the  object’s methods\n",
    "3.  <object>.__doc__, which shows you its documentation \n",
    "```"
   ]
  },
  {
   "cell_type": "code",
   "execution_count": 19,
   "metadata": {
    "scrolled": false,
    "slideshow": {
     "slide_type": "subslide"
    }
   },
   "outputs": [
    {
     "name": "stdout",
     "output_type": "stream",
     "text": [
      "Help on int object:\n",
      "\n",
      "class int(object)\n",
      " |  int(x=0) -> integer\n",
      " |  int(x, base=10) -> integer\n",
      " |  \n",
      " |  Convert a number or string to an integer, or return 0 if no arguments\n",
      " |  are given.  If x is a number, return x.__int__().  For floating point\n",
      " |  numbers, this truncates towards zero.\n",
      " |  \n",
      " |  If x is not a number or if base is given, then x must be a string,\n",
      " |  bytes, or bytearray instance representing an integer literal in the\n",
      " |  given base.  The literal can be preceded by '+' or '-' and be surrounded\n",
      " |  by whitespace.  The base defaults to 10.  Valid bases are 0 and 2-36.\n",
      " |  Base 0 means to interpret the base from the string as an integer literal.\n",
      " |  >>> int('0b100', base=0)\n",
      " |  4\n",
      " |  \n",
      " |  Methods defined here:\n",
      " |  \n",
      " |  __abs__(self, /)\n",
      " |      abs(self)\n",
      " |  \n",
      " |  __add__(self, value, /)\n",
      " |      Return self+value.\n",
      " |  \n",
      " |  __and__(self, value, /)\n",
      " |      Return self&value.\n",
      " |  \n",
      " |  __bool__(self, /)\n",
      " |      self != 0\n",
      " |  \n",
      " |  __ceil__(...)\n",
      " |      Ceiling of an Integral returns itself.\n",
      " |  \n",
      " |  __divmod__(self, value, /)\n",
      " |      Return divmod(self, value).\n",
      " |  \n",
      " |  __eq__(self, value, /)\n",
      " |      Return self==value.\n",
      " |  \n",
      " |  __float__(self, /)\n",
      " |      float(self)\n",
      " |  \n",
      " |  __floor__(...)\n",
      " |      Flooring an Integral returns itself.\n",
      " |  \n",
      " |  __floordiv__(self, value, /)\n",
      " |      Return self//value.\n",
      " |  \n",
      " |  __format__(...)\n",
      " |      default object formatter\n",
      " |  \n",
      " |  __ge__(self, value, /)\n",
      " |      Return self>=value.\n",
      " |  \n",
      " |  __getattribute__(self, name, /)\n",
      " |      Return getattr(self, name).\n",
      " |  \n",
      " |  __getnewargs__(...)\n",
      " |  \n",
      " |  __gt__(self, value, /)\n",
      " |      Return self>value.\n",
      " |  \n",
      " |  __hash__(self, /)\n",
      " |      Return hash(self).\n",
      " |  \n",
      " |  __index__(self, /)\n",
      " |      Return self converted to an integer, if self is suitable for use as an index into a list.\n",
      " |  \n",
      " |  __int__(self, /)\n",
      " |      int(self)\n",
      " |  \n",
      " |  __invert__(self, /)\n",
      " |      ~self\n",
      " |  \n",
      " |  __le__(self, value, /)\n",
      " |      Return self<=value.\n",
      " |  \n",
      " |  __lshift__(self, value, /)\n",
      " |      Return self<<value.\n",
      " |  \n",
      " |  __lt__(self, value, /)\n",
      " |      Return self<value.\n",
      " |  \n",
      " |  __mod__(self, value, /)\n",
      " |      Return self%value.\n",
      " |  \n",
      " |  __mul__(self, value, /)\n",
      " |      Return self*value.\n",
      " |  \n",
      " |  __ne__(self, value, /)\n",
      " |      Return self!=value.\n",
      " |  \n",
      " |  __neg__(self, /)\n",
      " |      -self\n",
      " |  \n",
      " |  __new__(*args, **kwargs) from builtins.type\n",
      " |      Create and return a new object.  See help(type) for accurate signature.\n",
      " |  \n",
      " |  __or__(self, value, /)\n",
      " |      Return self|value.\n",
      " |  \n",
      " |  __pos__(self, /)\n",
      " |      +self\n",
      " |  \n",
      " |  __pow__(self, value, mod=None, /)\n",
      " |      Return pow(self, value, mod).\n",
      " |  \n",
      " |  __radd__(self, value, /)\n",
      " |      Return value+self.\n",
      " |  \n",
      " |  __rand__(self, value, /)\n",
      " |      Return value&self.\n",
      " |  \n",
      " |  __rdivmod__(self, value, /)\n",
      " |      Return divmod(value, self).\n",
      " |  \n",
      " |  __repr__(self, /)\n",
      " |      Return repr(self).\n",
      " |  \n",
      " |  __rfloordiv__(self, value, /)\n",
      " |      Return value//self.\n",
      " |  \n",
      " |  __rlshift__(self, value, /)\n",
      " |      Return value<<self.\n",
      " |  \n",
      " |  __rmod__(self, value, /)\n",
      " |      Return value%self.\n",
      " |  \n",
      " |  __rmul__(self, value, /)\n",
      " |      Return value*self.\n",
      " |  \n",
      " |  __ror__(self, value, /)\n",
      " |      Return value|self.\n",
      " |  \n",
      " |  __round__(...)\n",
      " |      Rounding an Integral returns itself.\n",
      " |      Rounding with an ndigits argument also returns an integer.\n",
      " |  \n",
      " |  __rpow__(self, value, mod=None, /)\n",
      " |      Return pow(value, self, mod).\n",
      " |  \n",
      " |  __rrshift__(self, value, /)\n",
      " |      Return value>>self.\n",
      " |  \n",
      " |  __rshift__(self, value, /)\n",
      " |      Return self>>value.\n",
      " |  \n",
      " |  __rsub__(self, value, /)\n",
      " |      Return value-self.\n",
      " |  \n",
      " |  __rtruediv__(self, value, /)\n",
      " |      Return value/self.\n",
      " |  \n",
      " |  __rxor__(self, value, /)\n",
      " |      Return value^self.\n",
      " |  \n",
      " |  __sizeof__(...)\n",
      " |      Returns size in memory, in bytes\n",
      " |  \n",
      " |  __str__(self, /)\n",
      " |      Return str(self).\n",
      " |  \n",
      " |  __sub__(self, value, /)\n",
      " |      Return self-value.\n",
      " |  \n",
      " |  __truediv__(self, value, /)\n",
      " |      Return self/value.\n",
      " |  \n",
      " |  __trunc__(...)\n",
      " |      Truncating an Integral returns itself.\n",
      " |  \n",
      " |  __xor__(self, value, /)\n",
      " |      Return self^value.\n",
      " |  \n",
      " |  bit_length(...)\n",
      " |      int.bit_length() -> int\n",
      " |      \n",
      " |      Number of bits necessary to represent self in binary.\n",
      " |      >>> bin(37)\n",
      " |      '0b100101'\n",
      " |      >>> (37).bit_length()\n",
      " |      6\n",
      " |  \n",
      " |  conjugate(...)\n",
      " |      Returns self, the complex conjugate of any int.\n",
      " |  \n",
      " |  from_bytes(...) from builtins.type\n",
      " |      int.from_bytes(bytes, byteorder, *, signed=False) -> int\n",
      " |      \n",
      " |      Return the integer represented by the given array of bytes.\n",
      " |      \n",
      " |      The bytes argument must be a bytes-like object (e.g. bytes or bytearray).\n",
      " |      \n",
      " |      The byteorder argument determines the byte order used to represent the\n",
      " |      integer.  If byteorder is 'big', the most significant byte is at the\n",
      " |      beginning of the byte array.  If byteorder is 'little', the most\n",
      " |      significant byte is at the end of the byte array.  To request the native\n",
      " |      byte order of the host system, use `sys.byteorder' as the byte order value.\n",
      " |      \n",
      " |      The signed keyword-only argument indicates whether two's complement is\n",
      " |      used to represent the integer.\n",
      " |  \n",
      " |  to_bytes(...)\n",
      " |      int.to_bytes(length, byteorder, *, signed=False) -> bytes\n",
      " |      \n",
      " |      Return an array of bytes representing an integer.\n",
      " |      \n",
      " |      The integer is represented using length bytes.  An OverflowError is\n",
      " |      raised if the integer is not representable with the given number of\n",
      " |      bytes.\n",
      " |      \n",
      " |      The byteorder argument determines the byte order used to represent the\n",
      " |      integer.  If byteorder is 'big', the most significant byte is at the\n",
      " |      beginning of the byte array.  If byteorder is 'little', the most\n",
      " |      significant byte is at the end of the byte array.  To request the native\n",
      " |      byte order of the host system, use `sys.byteorder' as the byte order value.\n",
      " |      \n",
      " |      The signed keyword-only argument determines whether two's complement is\n",
      " |      used to represent the integer.  If signed is False and a negative integer\n",
      " |      is given, an OverflowError is raised.\n",
      " |  \n",
      " |  ----------------------------------------------------------------------\n",
      " |  Data descriptors defined here:\n",
      " |  \n",
      " |  denominator\n",
      " |      the denominator of a rational number in lowest terms\n",
      " |  \n",
      " |  imag\n",
      " |      the imaginary part of a complex number\n",
      " |  \n",
      " |  numerator\n",
      " |      the numerator of a rational number in lowest terms\n",
      " |  \n",
      " |  real\n",
      " |      the real part of a complex number\n",
      "\n"
     ]
    }
   ],
   "source": [
    "alger = 100\n",
    "\n",
    "help(alger)    #物件有使用說明"
   ]
  },
  {
   "cell_type": "code",
   "execution_count": 2,
   "metadata": {
    "slideshow": {
     "slide_type": "subslide"
    }
   },
   "outputs": [
    {
     "data": {
      "text/plain": [
       "['__abs__',\n",
       " '__add__',\n",
       " '__and__',\n",
       " '__bool__',\n",
       " '__ceil__',\n",
       " '__class__',\n",
       " '__delattr__',\n",
       " '__dir__',\n",
       " '__divmod__',\n",
       " '__doc__',\n",
       " '__eq__',\n",
       " '__float__',\n",
       " '__floor__',\n",
       " '__floordiv__',\n",
       " '__format__',\n",
       " '__ge__',\n",
       " '__getattribute__',\n",
       " '__getnewargs__',\n",
       " '__gt__',\n",
       " '__hash__',\n",
       " '__index__',\n",
       " '__init__',\n",
       " '__int__',\n",
       " '__invert__',\n",
       " '__le__',\n",
       " '__lshift__',\n",
       " '__lt__',\n",
       " '__mod__',\n",
       " '__mul__',\n",
       " '__ne__',\n",
       " '__neg__',\n",
       " '__new__',\n",
       " '__or__',\n",
       " '__pos__',\n",
       " '__pow__',\n",
       " '__radd__',\n",
       " '__rand__',\n",
       " '__rdivmod__',\n",
       " '__reduce__',\n",
       " '__reduce_ex__',\n",
       " '__repr__',\n",
       " '__rfloordiv__',\n",
       " '__rlshift__',\n",
       " '__rmod__',\n",
       " '__rmul__',\n",
       " '__ror__',\n",
       " '__round__',\n",
       " '__rpow__',\n",
       " '__rrshift__',\n",
       " '__rshift__',\n",
       " '__rsub__',\n",
       " '__rtruediv__',\n",
       " '__rxor__',\n",
       " '__setattr__',\n",
       " '__sizeof__',\n",
       " '__str__',\n",
       " '__sub__',\n",
       " '__subclasshook__',\n",
       " '__truediv__',\n",
       " '__trunc__',\n",
       " '__xor__',\n",
       " 'bit_length',\n",
       " 'conjugate',\n",
       " 'denominator',\n",
       " 'from_bytes',\n",
       " 'imag',\n",
       " 'numerator',\n",
       " 'real',\n",
       " 'to_bytes']"
      ]
     },
     "execution_count": 2,
     "metadata": {},
     "output_type": "execute_result"
    }
   ],
   "source": [
    "alger = 100\n",
    "\n",
    "dir(alger)     #物件具備方法"
   ]
  },
  {
   "cell_type": "code",
   "execution_count": 3,
   "metadata": {
    "slideshow": {
     "slide_type": "subslide"
    }
   },
   "outputs": [
    {
     "data": {
      "text/plain": [
       "\"int(x=0) -> integer\\nint(x, base=10) -> integer\\n\\nConvert a number or string to an integer, or return 0 if no arguments\\nare given.  If x is a number, return x.__int__().  For floating point\\nnumbers, this truncates towards zero.\\n\\nIf x is not a number or if base is given, then x must be a string,\\nbytes, or bytearray instance representing an integer literal in the\\ngiven base.  The literal can be preceded by '+' or '-' and be surrounded\\nby whitespace.  The base defaults to 10.  Valid bases are 0 and 2-36.\\nBase 0 means to interpret the base from the string as an integer literal.\\n>>> int('0b100', base=0)\\n4\""
      ]
     },
     "execution_count": 3,
     "metadata": {},
     "output_type": "execute_result"
    }
   ],
   "source": [
    "alger = 100\n",
    "\n",
    "alger.__doc__  #物件的說明文件"
   ]
  },
  {
   "cell_type": "code",
   "execution_count": 4,
   "metadata": {
    "slideshow": {
     "slide_type": "subslide"
    }
   },
   "outputs": [
    {
     "data": {
      "text/plain": [
       "int"
      ]
     },
     "execution_count": 4,
     "metadata": {},
     "output_type": "execute_result"
    }
   ],
   "source": [
    "alger = 100\n",
    "\n",
    "type (alger)   #物件的 type"
   ]
  },
  {
   "cell_type": "code",
   "execution_count": 36,
   "metadata": {
    "slideshow": {
     "slide_type": "subslide"
    }
   },
   "outputs": [
    {
     "name": "stdout",
     "output_type": "stream",
     "text": [
      "10917536\n",
      "10917568\n"
     ]
    }
   ],
   "source": [
    "alger =100\n",
    "ben =101\n",
    "print (id(alger))    #物件佔有記憶體位置\n",
    "print(id(ben))\n"
   ]
  },
  {
   "cell_type": "markdown",
   "metadata": {
    "slideshow": {
     "slide_type": "slide"
    }
   },
   "source": [
    "# 也可以拿 print 或 int 來做實驗\n"
   ]
  },
  {
   "cell_type": "code",
   "execution_count": 1,
   "metadata": {
    "scrolled": false,
    "slideshow": {
     "slide_type": "subslide"
    }
   },
   "outputs": [
    {
     "name": "stdout",
     "output_type": "stream",
     "text": [
      "['False', 'None', 'True', 'and', 'as', 'assert', 'break', 'class', 'continue', 'def', 'del', 'elif', 'else', 'except', 'finally', 'for', 'from', 'global', 'if', 'import', 'in', 'is', 'lambda', 'nonlocal', 'not', 'or', 'pass', 'raise', 'return', 'try', 'while', 'with', 'yield']\n"
     ]
    }
   ],
   "source": [
    "# 啥是 keyword ... 關鍵字, 保留字\n",
    "\n",
    "import keyword\n",
    "print (keyword.kwlist)\n",
    "\n",
    "# Keyword 具備唯一性 和 絕對性"
   ]
  },
  {
   "cell_type": "code",
   "execution_count": 2,
   "metadata": {
    "scrolled": true,
    "slideshow": {
     "slide_type": "subslide"
    }
   },
   "outputs": [
    {
     "ename": "SyntaxError",
     "evalue": "invalid syntax (<ipython-input-2-6e575bbfeab5>, line 1)",
     "output_type": "error",
     "traceback": [
      "\u001b[0;36m  File \u001b[0;32m\"<ipython-input-2-6e575bbfeab5>\"\u001b[0;36m, line \u001b[0;32m1\u001b[0m\n\u001b[0;31m    help(while)  # 這樣可以嗎？\u001b[0m\n\u001b[0m             ^\u001b[0m\n\u001b[0;31mSyntaxError\u001b[0m\u001b[0;31m:\u001b[0m invalid syntax\n"
     ]
    }
   ],
   "source": [
    "help(while)  # 這樣可以嗎？"
   ]
  },
  {
   "cell_type": "code",
   "execution_count": 38,
   "metadata": {
    "slideshow": {
     "slide_type": "subslide"
    }
   },
   "outputs": [
    {
     "name": "stdout",
     "output_type": "stream",
     "text": [
      "hello\n"
     ]
    }
   ],
   "source": [
    "import sys\n",
    "\n",
    "def print(x):\n",
    "    sys.stdout.write('hello'+'\\n')\n",
    "    \n",
    "print (\"Good Boy\") # 所以即使是內建函數, 也可以把它改掉"
   ]
  },
  {
   "cell_type": "markdown",
   "metadata": {
    "slideshow": {
     "slide_type": "slide"
    }
   },
   "source": [
    "+++\n",
    "## 物件 (Object)\n",
    "\n",
    "This is a book  \n",
    "![python013.png](https://github.com/usistlab/LearnPython/blob/master/images/python013.png?raw=true)\n",
    "\n",
    "#### 屬性   \n",
    "#### 方法  \n",
    "#### 事件  "
   ]
  },
  {
   "cell_type": "markdown",
   "metadata": {
    "slideshow": {
     "slide_type": "subslide"
    }
   },
   "source": [
    "+++\n",
    "![Object](https://i.ytimg.com/vi/2h2qckyDQi0/maxresdefault.jpg)\n",
    "\n",
    "https://youtu.be/Jcu4taUgp-E"
   ]
  },
  {
   "cell_type": "markdown",
   "metadata": {
    "slideshow": {
     "slide_type": "slide"
    }
   },
   "source": [
    "# Class 還是 object, 有啥不同, 怎區隔\n"
   ]
  },
  {
   "cell_type": "code",
   "execution_count": 41,
   "metadata": {
    "slideshow": {
     "slide_type": "subslide"
    }
   },
   "outputs": [
    {
     "name": "stdout",
     "output_type": "stream",
     "text": [
      "0\n"
     ]
    }
   ],
   "source": [
    "x = int()        #沒有設定初始值\n",
    "\n",
    "print (x)        #所以 int() 一定做了些事情"
   ]
  },
  {
   "cell_type": "code",
   "execution_count": 42,
   "metadata": {
    "slideshow": {
     "slide_type": "subslide"
    }
   },
   "outputs": [
    {
     "name": "stdout",
     "output_type": "stream",
     "text": [
      "100\n"
     ]
    }
   ],
   "source": [
    "x = int(100)     #有設定初始值\n",
    "print (x)"
   ]
  },
  {
   "cell_type": "code",
   "execution_count": 40,
   "metadata": {
    "slideshow": {
     "slide_type": "fragment"
    }
   },
   "outputs": [],
   "source": [
    "del print   #把print救回來"
   ]
  },
  {
   "cell_type": "code",
   "execution_count": 8,
   "metadata": {
    "slideshow": {
     "slide_type": "subslide"
    }
   },
   "outputs": [
    {
     "name": "stdout",
     "output_type": "stream",
     "text": [
      "<class 'type'>\n",
      "<class 'int'>\n",
      "10\n",
      "-3\n"
     ]
    }
   ],
   "source": [
    "x = -10\n",
    "\n",
    "print(type(int))\n",
    "print(type(x))\n",
    "\n",
    "print (x.__abs__())\n",
    "print (x.__add__(7))\n"
   ]
  },
  {
   "cell_type": "code",
   "execution_count": 43,
   "metadata": {
    "scrolled": true,
    "slideshow": {
     "slide_type": "subslide"
    }
   },
   "outputs": [
    {
     "ename": "TypeError",
     "evalue": "descriptor '__abs__' requires a 'int' object but received a 'float'",
     "output_type": "error",
     "traceback": [
      "\u001b[0;31m---------------------------------------------------------------------------\u001b[0m",
      "\u001b[0;31mTypeError\u001b[0m                                 Traceback (most recent call last)",
      "\u001b[0;32m<ipython-input-43-ff209bcf5a36>\u001b[0m in \u001b[0;36m<module>\u001b[0;34m()\u001b[0m\n\u001b[0;32m----> 1\u001b[0;31m \u001b[0mprint\u001b[0m \u001b[0;34m(\u001b[0m\u001b[0mint\u001b[0m\u001b[0;34m.\u001b[0m\u001b[0m__abs__\u001b[0m\u001b[0;34m(\u001b[0m\u001b[0;34m-\u001b[0m\u001b[0;36m10.664388\u001b[0m\u001b[0;34m)\u001b[0m\u001b[0;34m)\u001b[0m  \u001b[0;31m#這在Python 裡面可以這用\u001b[0m\u001b[0;34m\u001b[0m\u001b[0m\n\u001b[0m",
      "\u001b[0;31mTypeError\u001b[0m: descriptor '__abs__' requires a 'int' object but received a 'float'"
     ]
    }
   ],
   "source": [
    "print (int.__abs__(-10))  #這在Python 裡面可以這用"
   ]
  },
  {
   "cell_type": "code",
   "execution_count": 45,
   "metadata": {
    "scrolled": true
   },
   "outputs": [
    {
     "data": {
      "text/plain": [
       "10.3894579237"
      ]
     },
     "execution_count": 45,
     "metadata": {},
     "output_type": "execute_result"
    }
   ],
   "source": [
    "abs(-10.3894579237)"
   ]
  },
  {
   "cell_type": "markdown",
   "metadata": {
    "slideshow": {
     "slide_type": "slide"
    }
   },
   "source": [
    "# Class\n",
    "### 簡言之\n",
    "### Class 就是一個描述物件的模型\n",
    "### Object 就是Class 的一個實例(instance)\n"
   ]
  },
  {
   "cell_type": "code",
   "execution_count": 10,
   "metadata": {
    "scrolled": true,
    "slideshow": {
     "slide_type": "slide"
    }
   },
   "outputs": [
    {
     "name": "stdout",
     "output_type": "stream",
     "text": [
      "屬性 =  Ben\n",
      "方法的輸出為 = \n",
      "0 1 2 3 4 5 6 7 8 9 \n",
      "方法的輸出為 = \n",
      "0 1 2 3 4 5 "
     ]
    },
    {
     "data": {
      "text/plain": [
       "' This is help message '"
      ]
     },
     "execution_count": 10,
     "metadata": {},
     "output_type": "execute_result"
    }
   ],
   "source": [
    "class A_Department:                           #類別, 名字\n",
    "    \n",
    "    ''' This is help message '''\n",
    "                                              #成員變量包含 ： 類變量 和 實例變量 兩種\n",
    "    n = 10                                    #類變量, 通常不會作用在實例上面\n",
    "    \n",
    "    def __init__(self, manager):              #self 指的是實例本身, 而實例必須在被create以後, 才會有真正的名字, 所以 ...\n",
    "        self.mname = manager                  #方法, 類別裡面的函數\n",
    "                       \n",
    "        \n",
    "    def method(self):                         #定義在方法之中的 實例變量\n",
    "        for i in range(self.n):\n",
    "            print(i, end=\" \")\n",
    "#=================================================================\n",
    "            \n",
    "st = A_Department(\"Ben\")                      #創建一個 Object (class的實例） 名叫 st\n",
    "print (\"屬性 = \", st.mname)\n",
    "print (\"方法的輸出為 = \")\n",
    "st.method()\n",
    "print()\n",
    "\n",
    "st.n = 6\n",
    "print (\"方法的輸出為 = \")\n",
    "st.method()\n",
    "\n",
    "A_Department.__doc__            # 顯示說明內容"
   ]
  },
  {
   "cell_type": "code",
   "execution_count": 11,
   "metadata": {
    "slideshow": {
     "slide_type": "subslide"
    }
   },
   "outputs": [
    {
     "name": "stdout",
     "output_type": "stream",
     "text": [
      "Total Employee 2\n",
      "Name :  Alger , Salary:  5000\n",
      "Total Employee 2\n",
      "Name :  Lisa , Salary:  8000\n"
     ]
    }
   ],
   "source": [
    "class Employee:\n",
    "    \n",
    "   empCount = 0                 #這個類變量該怎用呢?       \n",
    "\n",
    "   def __init__(self, name, salary):   # 這個name 和 那個  name的意義並不一樣\n",
    "        self.name = name                 # 實際參數 與 形式參數 \n",
    "        self.salary = salary\n",
    "        Employee.empCount += 1    # 從這裡看出類變量的用途, 猜得出來嗎？\n",
    "   \n",
    "   def displayCount(self):\n",
    "        print (\"Total Employee %d\" % Employee.empCount)\n",
    " \n",
    "   def displayEmployee(self):\n",
    "        print (\"Name : \", self.name,  \", Salary: \", self.salary)\n",
    "    \n",
    "#=============================================================================\n",
    "\n",
    "Alger = Employee(\"Alger\", 5000)\n",
    "Lisa = Employee(\"Lisa\", 8000)\n",
    "\n",
    "Alger.displayCount()\n",
    "Alger.displayEmployee()\n",
    "\n",
    "Lisa.displayCount()\n",
    "Lisa.displayEmployee()\n"
   ]
  },
  {
   "cell_type": "code",
   "execution_count": 46,
   "metadata": {
    "scrolled": false,
    "slideshow": {
     "slide_type": "subslide"
    }
   },
   "outputs": [
    {
     "name": "stdout",
     "output_type": "stream",
     "text": [
      "7\n"
     ]
    },
    {
     "data": {
      "text/plain": [
       "__main__.Employee"
      ]
     },
     "execution_count": 46,
     "metadata": {},
     "output_type": "execute_result"
    }
   ],
   "source": [
    "emp1 = Employee(\"Zara\", 4000)\n",
    "emp1.age = 7                          # 添加一个 'age' 属性\n",
    "print (emp1.age)\n",
    "type (emp1)"
   ]
  },
  {
   "cell_type": "code",
   "execution_count": 47,
   "metadata": {
    "slideshow": {
     "slide_type": "slide"
    }
   },
   "outputs": [
    {
     "ename": "TypeError",
     "evalue": "get_patent_no() missing 1 required positional argument: 'arg2'",
     "output_type": "error",
     "traceback": [
      "\u001b[0;31m---------------------------------------------------------------------------\u001b[0m",
      "\u001b[0;31mTypeError\u001b[0m                                 Traceback (most recent call last)",
      "\u001b[0;32m<ipython-input-47-b65de16858ad>\u001b[0m in \u001b[0;36m<module>\u001b[0;34m()\u001b[0m\n\u001b[1;32m     12\u001b[0m \u001b[0;31m# This is the class instantiation\u001b[0m\u001b[0;34m\u001b[0m\u001b[0;34m\u001b[0m\u001b[0m\n\u001b[1;32m     13\u001b[0m \u001b[0mben_dpt\u001b[0m \u001b[0;34m=\u001b[0m \u001b[0mDepartment\u001b[0m\u001b[0;34m(\u001b[0m\u001b[0;34m)\u001b[0m\u001b[0;34m\u001b[0m\u001b[0m\n\u001b[0;32m---> 14\u001b[0;31m \u001b[0mben_dpt\u001b[0m\u001b[0;34m.\u001b[0m\u001b[0mget_patent_no\u001b[0m\u001b[0;34m(\u001b[0m\u001b[0;36m1\u001b[0m\u001b[0;34m)\u001b[0m\u001b[0;34m\u001b[0m\u001b[0m\n\u001b[0m\u001b[1;32m     15\u001b[0m \u001b[0;31m# 3\u001b[0m\u001b[0;34m\u001b[0m\u001b[0;34m\u001b[0m\u001b[0m\n\u001b[1;32m     16\u001b[0m \u001b[0;34m\u001b[0m\u001b[0m\n",
      "\u001b[0;31mTypeError\u001b[0m: get_patent_no() missing 1 required positional argument: 'arg2'"
     ]
    }
   ],
   "source": [
    "class Department(object):    #名字\n",
    "    \n",
    "    headcount = 10           #類變量, 通常只在類裡面作用\n",
    "                             #self 指的是實例本身\n",
    "    def __init__(self):      #方法, 類別裡面的函數\n",
    "        self.patent = 3      #定義在方法之中的 實例變量\n",
    "    def get_patent_no(self, arg1, arg2):\n",
    "        return self.patent\n",
    "\n",
    "#================================================================================================    \n",
    "    \n",
    "# This is the class instantiation\n",
    "ben_dpt = Department()\n",
    "ben_dpt.get_patent_no(1)\n",
    "# 3\n",
    "\n",
    "# This variable is shared by all instances.\n",
    "jonse_dpt = Department()\n",
    "ben_dpt.headcount\n",
    "# 10\n",
    "jonse_dpt.headcount\n",
    "#10\n",
    "\n",
    "# Note how we use the class name instead of the instance.\n",
    "Department.headcount = 30\n",
    "print(ben_dpt.headcount)\n",
    "#30\n",
    "print(jonse_dpt.headcount)\n",
    "#30\n",
    "print()\n",
    "\n",
    "# This will not update the variable on the class,\n",
    "# instead it will bind a new object to the old\n",
    "# variable name.\n",
    "ben_dpt.headcount = 10\n",
    "print (ben_dpt.headcount)\n",
    "#10\n",
    "print (jonse_dpt.headcount)\n",
    "#30\n",
    "print()\n",
    "\n",
    "Department.headcount = 50    #這就是 類變量 和 實例變量亂用\n",
    "# This has not changed, because \"headcount\" is now an instance variable.\n",
    "print(ben_dpt.headcount)\n",
    "#10\n",
    "print(jonse_dpt.headcount)\n",
    "#50"
   ]
  },
  {
   "cell_type": "code",
   "execution_count": 14,
   "metadata": {
    "slideshow": {
     "slide_type": "subslide"
    }
   },
   "outputs": [
    {
     "name": "stdout",
     "output_type": "stream",
     "text": [
      "Patent no =  10\n",
      "7\n"
     ]
    }
   ],
   "source": [
    "class Department(object):\n",
    "    headcount = 10\n",
    "    def __init__(self):\n",
    "        self.patent = 3\n",
    "    def get_patent_no(self, arg1, arg2):\n",
    "        return self.patent\n",
    "    \n",
    "class OtherDpt(Department):  #繼承\n",
    "    # The \"self\" argument is passed automatically\n",
    "    # and refers to the class instance, so you can set\n",
    "    # instance variables as above, but from inside the class.\n",
    "    male = 9\n",
    "    female = 1  \n",
    "    def __init__(self, arg1=3):\n",
    "        self.patent = arg1\n",
    "        print(\"Patent no = \", arg1)\n",
    "\n",
    "department_instance = OtherDpt(10)\n",
    "\n",
    "\n",
    "# department_instance.get_patent_no(1, 2)\n",
    "#3\n",
    "\n",
    "\n",
    "# This class doesn't have a .pet member, but we can add one to the instance anyway. \n",
    "# Note that this will only be a member of department_instance.\n",
    "\n",
    "department_instance.pet = 7     #任一加入一個不在類裡面的ㄔ任一加入一個不在類裡面的成員\n",
    "print (department_instance.pet)\n",
    "#7"
   ]
  },
  {
   "cell_type": "markdown",
   "metadata": {
    "slideshow": {
     "slide_type": "slide"
    }
   },
   "source": [
    "# 談談變數數的可視範圍\n",
    "區域變數 全域變數"
   ]
  },
  {
   "cell_type": "markdown",
   "metadata": {
    "slideshow": {
     "slide_type": "slide"
    }
   },
   "source": [
    "## Python Quiz\n",
    "\n",
    "Python Object and Class Quiz  \n",
    "https://www.programiz.com/python-programming/quiz/object-class/take/1\n",
    "\n",
    "Online Python Quiz For Beginners – Python Classes And Objects  \n",
    "http://www.techbeamers.com/online-python-quiz-beginners-classes-objects/"
   ]
  },
  {
   "cell_type": "markdown",
   "metadata": {
    "slideshow": {
     "slide_type": "slide"
    }
   },
   "source": [
    "# File I/O （檔案）"
   ]
  },
  {
   "cell_type": "code",
   "execution_count": 49,
   "metadata": {
    "scrolled": true,
    "slideshow": {
     "slide_type": "slide"
    }
   },
   "outputs": [
    {
     "name": "stdout",
     "output_type": "stream",
     "text": [
      "This is a sample string\n",
      "['This', 'is', 4, 13327]\n"
     ]
    }
   ],
   "source": [
    "# converting data structures to strings using the pickle library\n",
    "\n",
    "import pickle \n",
    "\n",
    "# Open the file binary.dat for writing. \n",
    "# The letter r before the filename string is used to prevent backslash escaping.\n",
    "\n",
    "# fp = open( \"檔案名稱\", \"開啟模式\")\n",
    "\n",
    "myfile = open(r\"text.txt\", \"w\")\n",
    "\n",
    "mylist = [\"This\", \"is\", 4, 13327]\n",
    "\n",
    "myfile.write(\"This is a sample string\")\n",
    "#myfile.write(mylist)    # 如果直接把一個 串列資料寫入本文檔 是會發生錯誤的\n",
    "\n",
    "myfile.close()\n",
    "\n",
    "myfile = open(r\"text.txt\")   #檔案指標, handler\n",
    "print(myfile.read())\n",
    "#'This is a sample string'\n",
    "myfile.close()\n",
    "\n",
    "#=====================================================================================================\n",
    "\n",
    "\n",
    "mylist = [\"This\", \"is\", 4, 13327]\n",
    "# Open the file binary.dat for writing. The letter r before the filename string is used to prevent backslash escaping.\n",
    "myfile = open(r\"binary.dat\", \"wb\") #假如你有信用卡 ID 和 PWD 要除存, 應該使用這種格式\n",
    "\n",
    "pickle.dump(mylist, myfile)    # 使用pickle  來除存串列內容\n",
    "\n",
    "myfile.close()\n",
    "\n",
    "# Open the file for reading.\n",
    "myfile = open(r\"binary.dat\",\"rb\")\n",
    "loadedlist = pickle.load(myfile)\n",
    "myfile.close()\n",
    "\n",
    "print(loadedlist)\n",
    "# ['This', 'is', 4, 13327]"
   ]
  },
  {
   "cell_type": "code",
   "execution_count": 17,
   "metadata": {
    "scrolled": false,
    "slideshow": {
     "slide_type": "slide"
    }
   },
   "outputs": [
    {
     "name": "stdout",
     "output_type": "stream",
     "text": [
      "處理檔案\n",
      "abspath= /home/ben/Workspace/LearnPython/WK3/test.txt\n",
      "basename= test.txt\n",
      "dirname= /home/ben/Workspace/LearnPython/WK3\n",
      "處理路徑\n",
      "abspath= /home/ben/Workspace/LearnPython/WK3\n",
      "basename= WK3\n",
      "dirname= /home/ben/Workspace/LearnPython\n",
      "分割路徑\n",
      "split= ('/home/ben/Workspace/LearnPython/WK3', 'test.txt')\n",
      "splitdrive= ('', '/home/ben/Workspace/LearnPython/WK3/test.txt')\n"
     ]
    }
   ],
   "source": [
    "### os.path\n",
    "\n",
    "import os.path\n",
    "\n",
    "print (\"處理檔案\")\n",
    "a = os.path.abspath (\"test.txt\") # 傳回完整的路徑名稱\n",
    "print(\"abspath=\", a)\n",
    "print(\"basename=\", os.path.basename(a))\n",
    "print(\"dirname=\", os.path.dirname(a))\n",
    "\n",
    "print (\"處理路徑\")\n",
    "a = os.path.abspath (\".\") # 傳回路徑的完整名稱\n",
    "print(\"abspath=\", a)\n",
    "print(\"basename=\", os.path.basename(a))\n",
    "print(\"dirname=\", os.path.dirname(a))\n",
    "\n",
    "print (\"分割路徑\")\n",
    "a = os.path.abspath (\"test.txt\") # 傳回完整的路徑名稱\n",
    "print(\"split=\", os.path.split(a))\n",
    "print(\"splitdrive=\", os.path.splitdrive(a))\n"
   ]
  },
  {
   "cell_type": "code",
   "execution_count": 18,
   "metadata": {
    "scrolled": true,
    "slideshow": {
     "slide_type": "slide"
    }
   },
   "outputs": [
    {
     "name": "stdout",
     "output_type": "stream",
     "text": [
      "binary.dat\n",
      "school.txt\n",
      "1.Class_List_File.ipynb\n",
      "sample.txt\n",
      "earthquake.json\n",
      "text.txt\n",
      "s1.txt\n",
      "climate.txt\n",
      "test.py\n",
      "zop.txt\n",
      "class_101.txt\n",
      "2.代碼觀摩.ipynb\n"
     ]
    }
   ],
   "source": [
    "# glob\n",
    "\n",
    "import glob\n",
    "files = glob.glob(\"*.*\") #列出當前路徑下的所有檔案\n",
    "for f in files:\n",
    "    print(f)"
   ]
  },
  {
   "cell_type": "code",
   "execution_count": 19,
   "metadata": {
    "scrolled": true,
    "slideshow": {
     "slide_type": "subslide"
    }
   },
   "outputs": [
    {
     "name": "stdout",
     "output_type": "stream",
     "text": [
      "/home/ben/Workspace/LearnPython/WK3/binary.dat\n",
      "/home/ben/Workspace/LearnPython/WK3/school.txt\n",
      "/home/ben/Workspace/LearnPython/WK3/1.Class_List_File.ipynb\n",
      "/home/ben/Workspace/LearnPython/WK3/sample.txt\n",
      "/home/ben/Workspace/LearnPython/WK3/earthquake.json\n",
      "/home/ben/Workspace/LearnPython/WK3/text.txt\n",
      "/home/ben/Workspace/LearnPython/WK3/s1.txt\n",
      "/home/ben/Workspace/LearnPython/WK3/climate.txt\n",
      "/home/ben/Workspace/LearnPython/WK3/test.py\n",
      "/home/ben/Workspace/LearnPython/WK3/zop.txt\n",
      "/home/ben/Workspace/LearnPython/WK3/class_101.txt\n",
      "/home/ben/Workspace/LearnPython/WK3/2.代碼觀摩.ipynb\n",
      "[]\n"
     ]
    }
   ],
   "source": [
    "import os.path, glob\n",
    "files = glob.glob(\"*.*\") #列出當前路徑下的所有檔案\n",
    "for f in files:\n",
    "    print(os.path.abspath(f))\n",
    "print(glob.glob(\"subdir\"))"
   ]
  },
  {
   "cell_type": "code",
   "execution_count": 20,
   "metadata": {
    "scrolled": true,
    "slideshow": {
     "slide_type": "subslide"
    }
   },
   "outputs": [
    {
     "name": "stdout",
     "output_type": "stream",
     "text": [
      "sampletree\n",
      "['dirB', 'dirA', 'dirC']\n",
      "['f3', 'f1', 'f2']\n",
      "\n",
      "sampletree/dirB\n",
      "[]\n",
      "[]\n",
      "\n",
      "sampletree/dirA\n",
      "[]\n",
      "['f5', 'f4', 'f6']\n",
      "\n",
      "sampletree/dirC\n",
      "[]\n",
      "[]\n",
      "\n"
     ]
    }
   ],
   "source": [
    "import os\n",
    "mydirtree = os.walk(\"sampletree\")   # 代表一個資料夾的樹狀結構\n",
    "\n",
    "for dirname, subdir, files in mydirtree :      #有三個元素 ： dirname, subdir and files\n",
    "    print(dirname)\n",
    "    print(subdir)\n",
    "    print(files)\n",
    "    print()\n"
   ]
  },
  {
   "cell_type": "code",
   "execution_count": 22,
   "metadata": {
    "slideshow": {
     "slide_type": "subslide"
    }
   },
   "outputs": [
    {
     "data": {
      "text/plain": [
       "0"
      ]
     },
     "execution_count": 22,
     "metadata": {},
     "output_type": "execute_result"
    }
   ],
   "source": [
    "# os.system\n",
    "# os.system(cmd)\n",
    "\n",
    "import os\n",
    "\n",
    "os.system(\"pwd\")\n"
   ]
  },
  {
   "cell_type": "code",
   "execution_count": 23,
   "metadata": {
    "scrolled": false,
    "slideshow": {
     "slide_type": "slide"
    }
   },
   "outputs": [
    {
     "name": "stdout",
     "output_type": "stream",
     "text": [
      "fp的型態是 <class '_io.TextIOWrapper'>\n",
      "zops的型態是 <class 'list'>\n",
      "The Zen of Python\n",
      "Zen  1: Beautiful is better than ugly.\n",
      "Zen  2: Explicit is better than implicit.\n",
      "Zen  3: Simple is better than complex.\n",
      "Zen  4: Complex is better than complicated.\n",
      "Zen  5: Flat is better than nested.\n",
      "Zen  6: Sparse is better than dense.\n",
      "Zen  7: Readability counts.\n",
      "Zen  8: Special cases aren't special enough to break the rules.\n",
      "Zen  9: Although practicality beats purity.\n",
      "Zen 10: Errors should never pass silently.\n",
      "Zen 11: Unless explicitly silenced.\n",
      "Zen 12: In the face of ambiguity, refuse the temptation to guess.\n",
      "Zen 13: There should be one-- and preferably only one --obvious way to do it.\n",
      "Zen 14: Although that way may not be obvious at first unless you're Dutch.\n",
      "Zen 15: Now is better than never.\n",
      "Zen 16: Although never is often better than *right* now.\n",
      "Zen 17: If the implementation is hard to explain, it's a bad idea.\n",
      "Zen 18: If the implementation is easy to explain, it may be a good idea.\n",
      "Zen 19: Namespaces are one honking great idea -- let's do more of those!\n"
     ]
    }
   ],
   "source": [
    "# 讀入一個檔案看看\n",
    "\n",
    "# _*_ coding: utf-8 _*_\n",
    "# 程式 8-1.py (Python 3 version)\n",
    "\n",
    "fp = open(\"zop.txt\", \"r\") # 指定要處理的檔案\n",
    "\n",
    "zops = fp.readlines() #讀取檔案內容, 並將其內容除存到 zops 物件裡面\n",
    "\n",
    "fp.close() # 關閉檔案物件\n",
    "\n",
    "print(\"fp的型態是\", type(fp))\n",
    "print(\"zops的型態是\", type(zops))\n",
    "\n",
    "i=1\n",
    "print(\"The Zen of Python\")\n",
    "for zen in zops:\n",
    "    print(\"Zen {:2}: {}\".format(i, zen), end=\"\")   #由於每一行尾端已經自帶 \\n, 所以不需要print 再印一遍 \\n\n",
    "    i += 1"
   ]
  },
  {
   "cell_type": "code",
   "execution_count": 2,
   "metadata": {
    "slideshow": {
     "slide_type": "slide"
    }
   },
   "outputs": [
    {
     "name": "stdout",
     "output_type": "stream",
     "text": [
      " 0:淡水    \t 1:鞍部    \t 2:臺北    \t 3:竹子湖   \t 4:基隆    \t\n",
      " 5:彭佳嶼   \t 6:花蓮    \t 7:蘇澳    \t 8:宜蘭    \t 9:東吉島   \t\n",
      "10:澎湖    \t11:臺南    \t12:高雄    \t13:嘉義    \t14:臺中    \t\n",
      "15:阿里山   \t16:大武    \t17:玉山    \t18:新竹    \t19:恆春    \t\n",
      "20:成功    \t21:蘭嶼    \t22:日月潭   \t23:臺東    \t24:梧棲    \t\n",
      "\n",
      "請輸入你要查詢平均溫度的地區：(-1結束)0\n",
      "顯示區域: 淡水\n",
      "---------------------\n",
      " 1月均溫:15.2度\n",
      " 2月均溫:15.6度\n",
      " 3月均溫:17.4度\n",
      " 4月均溫:21.1度\n",
      " 5月均溫:24.5度\n",
      " 6月均溫:26.9度\n",
      " 7月均溫:28.8度\n",
      " 8月均溫:28.6度\n",
      " 9月均溫:26.7度\n",
      "10月均溫:23.7度\n",
      "11月均溫:20.6度\n",
      "12月均溫:16.9度\n",
      "本地區年均溫為22.2度\n",
      "---------------------\n",
      "請按Enter鍵回主選單-1\n",
      " 0:淡水    \t 1:鞍部    \t 2:臺北    \t 3:竹子湖   \t 4:基隆    \t\n",
      " 5:彭佳嶼   \t 6:花蓮    \t 7:蘇澳    \t 8:宜蘭    \t 9:東吉島   \t\n",
      "10:澎湖    \t11:臺南    \t12:高雄    \t13:嘉義    \t14:臺中    \t\n",
      "15:阿里山   \t16:大武    \t17:玉山    \t18:新竹    \t19:恆春    \t\n",
      "20:成功    \t21:蘭嶼    \t22:日月潭   \t23:臺東    \t24:梧棲    \t\n",
      "\n",
      "請輸入你要查詢平均溫度的地區：(-1結束)-1\n"
     ]
    }
   ],
   "source": [
    "# 再讀入一個檔案看看, 進階版\n",
    "# 天氣溫度的查詢系統\n",
    "\n",
    "# _*_ coding: utf-8 _*_\n",
    "# 程式 8-6.py (Python 3 version)\n",
    "\n",
    "# 顯示區域\n",
    "def disp_area():\n",
    "    i = 0\n",
    "    for a in climate_data:     # climate_data 在哪裡？  如果是編譯語言恐怕會報錯\n",
    "        # 向右對齊     向左對齊\n",
    "        print(\"{:>2}:{:<6}\\t\".format(i,a[0]), end=\"\")  #因為地區名稱在第0個位置\n",
    "        i += 1\n",
    "        if not (i % 5): print() #每5筆資料換行\n",
    "    print()\n",
    "\n",
    "def disp_temp(data):                 # 傳入區域串列, data 是一個串列型態\n",
    "    print(\"顯示區域:\", data[0])\n",
    "    print(\"---------------------\")\n",
    "    for i in range(1,13):\n",
    "        print(\"{:>2}月均溫:{:>.1f}度\".format(i, float(data[i])))\n",
    "    print(\"本地區年均溫為{}度\".format(data[13]))\n",
    "    print(\"---------------------\")\n",
    "\n",
    "# ============================================================================================\n",
    "\n",
    "target_file = 'climate.txt'\n",
    "with open(target_file, 'r', encoding='utf-8') as fp:\n",
    "    raw_data = fp.readlines() # raw_data 也是串列資料, 全部都讀進來\n",
    "\n",
    "#print( raw_data)   ＃ 看一下 raw_data 是長怎樣子？\n",
    "    \n",
    "climate_data=[]\n",
    "for item in raw_data:\n",
    "    climate_data.append(item.rstrip('\\n').split('\\t')) #把raw_data 再經過修改(去掉 \\n,然後以 \\t 分割欄位） 放入 climate_data\n",
    "\n",
    "#print(climate_data)   #比較一下 climate_data 是長怎樣子？ 應該是一個二維的串列\n",
    "\n",
    "while True:\n",
    "    disp_area()\n",
    "    area = int(input(\"請輸入你要查詢平均溫度的地區：(-1結束)\"))\n",
    "    if area == -1: break\n",
    "        \n",
    "    disp_temp(climate_data[area])\n",
    "    x = input(\"請按Enter鍵回主選單\")"
   ]
  },
  {
   "cell_type": "code",
   "execution_count": 24,
   "metadata": {
    "slideshow": {
     "slide_type": "slide"
    }
   },
   "outputs": [
    {
     "name": "stdout",
     "output_type": "stream",
     "text": [
      "過去7天全球發生重大的地震資訊：\n",
      "地點:230km SE of Sarangani, Philippines\n",
      "震度:6.5\n",
      "時間:2016-01-12 00:38:07\n",
      "地點:32km NW of Fairview, Oklahoma\n",
      "震度:4.8\n",
      "時間:2016-01-07 12:27:58\n",
      "地點:4km NNW of Banning, California\n",
      "震度:4.39\n",
      "時間:2016-01-06 22:42:34\n"
     ]
    }
   ],
   "source": [
    "# 支援JSON \n",
    "# 瞭解JSON格式 http://j796160836.pixnet.net/blog/post/30530326-%E7%9E%AD%E8%A7%A3json%E6%A0%BC%E5%BC%8F\n",
    "# 地震資訊的格式說明 http://earthquake.usgs.gov/earthquakes/feed/v1.0/geojson.php\n",
    "\n",
    "# _*_ coding: utf-8 _*_\n",
    "# 程式 8-7.py (Python 3 version)\n",
    "\n",
    "import json, datetime\n",
    "\n",
    "fp = open('earthquake.json','r')\n",
    "earthquakes = json.load(fp)\n",
    "\n",
    "print(\"過去7天全球發生重大的地震資訊：\")\n",
    "for eq in earthquakes['features']:\n",
    "    print(\"地點:{}\".format(eq['properties']['place']))\n",
    "    print(\"震度:{}\".format(eq['properties']['mag']))\n",
    "    et = float(eq['properties']['time']) /1000.0\n",
    "    d=datetime.datetime.fromtimestamp(et).strftime('%Y-%m-%d %H:%M:%S')\n",
    "    print(\"時間:{}\".format(d))"
   ]
  },
  {
   "cell_type": "markdown",
   "metadata": {
    "slideshow": {
     "slide_type": "slide"
    }
   },
   "source": [
    "### Python File and Exception Handling Quiz  \n",
    "\n",
    "https://www.programiz.com/python-programming/quiz/files-exception/take/1"
   ]
  },
  {
   "cell_type": "markdown",
   "metadata": {
    "slideshow": {
     "slide_type": "skip"
    }
   },
   "source": [
    "## 下週預告\n",
    "\n",
    "Python + 資料庫"
   ]
  },
  {
   "cell_type": "markdown",
   "metadata": {
    "collapsed": true,
    "slideshow": {
     "slide_type": "slide"
    }
   },
   "source": [
    "## 序列型別的資料結構  \n",
    "\n",
    "https://books.google.com.tw/books?id=thu0DQAAQBAJ&lpg=SA6-PA10&ots=Ru1u_cWNzh&dq=python%20%E4%B8%B2%E5%88%97%E8%88%87%E8%B3%87%E6%96%99%E7%B5%90%E6%A7%8B%E7%9A%84%E6%87%89%E7%94%A8&hl=zh-TW&pg=SA6-PA2#v=onepage&q=python%20%E4%B8%B2%E5%88%97%E8%88%87%E8%B3%87%E6%96%99%E7%B5%90%E6%A7%8B%E7%9A%84%E6%87%89%E7%94%A8&f=false  \n",
    "\n",
    "- string\n",
    "- list [ ]\n",
    "- tuple ( )\n",
    "\n",
    "#### 操作（operate)串列的函式有:\n",
    "- cmp(lsit1, list2)  # not work for python3\n",
    "- len(list)\n",
    "- max(list)\n",
    "- min(list)\n",
    "- list(tuple)\n",
    "\n",
    "#### 串列的方法（method)有:\n",
    "- list.append(obj)\n",
    "- list.extend(obj)\n",
    "- list.count(obj)\n",
    "- list.index(obj)\n",
    "- list.insert(index, obj)\n",
    "- list.pop()\n",
    "- list.remove(obj)\n",
    "- lsit.reverse()\n",
    "- list.sort()"
   ]
  },
  {
   "cell_type": "code",
   "execution_count": 25,
   "metadata": {
    "slideshow": {
     "slide_type": "slide"
    }
   },
   "outputs": [
    {
     "name": "stdout",
     "output_type": "stream",
     "text": [
      "3\n"
     ]
    }
   ],
   "source": [
    "sample = [1, [\"another\", \"list\"], (\"a\", \"tuple\")]\n",
    "mylist = [\"List item 1\", 2, 3.14]\n",
    "mylist[0] = \"List item 1 again\" # We're changing the item.\n",
    "mylist[-1] = 3.21 # Here, we refer to the last item.\n",
    "\n",
    "mydict = {\"Key 1\": \"Value 1\", 2: 3, \"pi\": 3.14}\n",
    "mydict[\"pi\"] = 3.15 # This is how you change dictionary values.\n",
    "\n",
    "mytuple = (1, 2, 3)\n",
    "\n",
    "myfunction = len    # 指定函數變數\n",
    "print(myfunction(mylist))"
   ]
  },
  {
   "cell_type": "code",
   "execution_count": 26,
   "metadata": {
    "scrolled": true,
    "slideshow": {
     "slide_type": "subslide"
    }
   },
   "outputs": [
    {
     "name": "stdout",
     "output_type": "stream",
     "text": [
      "[1, 2, 'I am in the middle', 3, 3.14]\n",
      "[1, 2]\n",
      "['I am in the middle', 3]\n",
      "[2, 'I am in the middle', 3, 3.14]\n",
      "[1, 2, 'I am in the middle', 3]\n",
      "[1, 'I am in the middle', 3.14]\n"
     ]
    }
   ],
   "source": [
    "# : 的用法 slice 切片\n",
    "mylist = [1, 2 , \"I am in the middle\", 3, 3.14]\n",
    "print(mylist[:])\n",
    "\n",
    "print(mylist[0:2]) # Indexing is inclusive-exclusive\n",
    "\n",
    "print(mylist[-3:-1])\n",
    "\n",
    "print(mylist[1:])\n",
    "\n",
    "print(mylist[:-1]) # -1 is the last item\n",
    "\n",
    "# Adding a third parameter, \"step\" will have Python step in\n",
    "# N item increments, rather than 1.\n",
    "# E.g., this will return the first item, then go to the third and\n",
    "# return that (so, items 0 and 2 in 0-indexing).\n",
    "print(mylist[::2])"
   ]
  },
  {
   "cell_type": "code",
   "execution_count": 27,
   "metadata": {
    "scrolled": true,
    "slideshow": {
     "slide_type": "subslide"
    }
   },
   "outputs": [
    {
     "name": "stdout",
     "output_type": "stream",
     "text": [
      "5\n",
      "['Alger', 18, '香蕉', '蘋果', '鳳梨', ['Roson', 38, '香蕉', '蘋果', '鳳梨']]\n",
      "('xyz', 20, '香蕉', '蘋果', '鳳梨')\n",
      "['xyz', 20, '香蕉', '蘋果', '鳳梨']\n",
      "17\n",
      "oson,38,香\n"
     ]
    }
   ],
   "source": [
    "list1 = [\"Alger\", 18, \"香蕉\", \"蘋果\", \"鳳梨\" ]\n",
    "list2 = [\"Roson\", 38, \"香蕉\", \"蘋果\", \"鳳梨\" ]\n",
    "mytuple = (\"xyz\", 20, \"香蕉\", \"蘋果\", \"鳳梨\")\n",
    "myString = \"Roson,38,香蕉,蘋果,鳳梨\"\n",
    "\n",
    "print (len(list1))\n",
    "list1.append(list2)  #串接兩個 lsit 如果改成extend又會是如何\n",
    "print (list1)\n",
    "# print (max(list1)) 會產生錯誤\n",
    "\n",
    "print (mytuple)\n",
    "print (list(mytuple))   #將tuple轉換為list\n",
    "\n",
    "print (len(myString))\n",
    "print (myString[1:10])\n"
   ]
  },
  {
   "cell_type": "code",
   "execution_count": 3,
   "metadata": {
    "slideshow": {
     "slide_type": "slide"
    }
   },
   "outputs": [
    {
     "name": "stdout",
     "output_type": "stream",
     "text": [
      "The string is: I am studying Python\n",
      "['I', 'a', 'm', 's', 't', 'u', 'd', 'y', 'i', 'n', 'g', 'P', 'y', 't', 'h', 'o', 'n']\n",
      "I出現1次\n",
      "a出現1次\n",
      "m出現1次\n",
      "s出現1次\n",
      "t出現2次\n",
      "u出現1次\n",
      "d出現1次\n",
      "y出現2次\n",
      "i出現1次\n",
      "n出現2次\n",
      "g出現1次\n",
      "P出現1次\n",
      "y出現2次\n",
      "t出現2次\n",
      "h出現1次\n",
      "o出現1次\n",
      "n出現2次\n"
     ]
    }
   ],
   "source": [
    "#filename:listex.py\n",
    "# 題目： 計算字母出現的次數\n",
    "\n",
    "#function: create the empy list, list can contains different data type\n",
    "#把下列字串的空格移除\n",
    "string = \"I am studying Python\"\n",
    "print(\"The string is: {}\".format(string))\n",
    "\n",
    "elements = []\n",
    "for v in string:\n",
    "#  print(v)\n",
    "    if v == ' ':\n",
    "        continue\n",
    "    elements.append(v)\n",
    "\n",
    "print(elements)\n",
    "\n",
    "#計算每個字母出現的次數\n",
    "for a in elements:\n",
    "    print (\"{}出現{}次\".format(a, elements.count(a)))\n",
    "    \n",
    "# 習題： 怎樣不要讓重複的統計字母再跑出來"
   ]
  },
  {
   "cell_type": "markdown",
   "metadata": {
    "collapsed": true,
    "slideshow": {
     "slide_type": "slide"
    }
   },
   "source": [
    "### 建立串列的三種方法\n",
    "- x = [ ]\n",
    "- x = list()\n",
    "- x = [ _expression_ for _元素_ in _序列資料內_ if _條件_ ]"
   ]
  },
  {
   "cell_type": "code",
   "execution_count": 28,
   "metadata": {
    "slideshow": {
     "slide_type": "subslide"
    }
   },
   "outputs": [
    {
     "name": "stdout",
     "output_type": "stream",
     "text": [
      "[]\n"
     ]
    }
   ],
   "source": [
    "# 起始一個空的串列物件（變數）\n",
    "a = list ()\n",
    "print (a)"
   ]
  },
  {
   "cell_type": "code",
   "execution_count": 29,
   "metadata": {
    "slideshow": {
     "slide_type": "subslide"
    }
   },
   "outputs": [
    {
     "name": "stdout",
     "output_type": "stream",
     "text": [
      "['中文', '日文', 'English', 6, [29, 23, 18, 5, 19, 12]]\n"
     ]
    }
   ],
   "source": [
    "#串列可以包含各種不同的資料內容\n",
    "listex = ['中文', '日文','English', 6, [29,23,18,5,19,12]]\n",
    "print (listex)"
   ]
  },
  {
   "cell_type": "code",
   "execution_count": 31,
   "metadata": {
    "scrolled": false,
    "slideshow": {
     "slide_type": "subslide"
    }
   },
   "outputs": [
    {
     "name": "stdout",
     "output_type": "stream",
     "text": [
      "newLIst= []\n",
      "newlist after using append()= []\n",
      "Outputlist= []\n",
      "outputlist after using append()= [2, 4, 6, 8, 10, 14, 18, 24, 26]\n",
      "Ouput= []\n",
      "output after using list comprehension= [2, 4, 6, 8, 10, 14, 18, 24, 26]\n"
     ]
    }
   ],
   "source": [
    "#filename:list_create.py\n",
    "#function:list creation\n",
    "\n",
    "# Creat list using []\n",
    "newList = []\n",
    "print(\"newLIst=\", newList0)\n",
    "\n",
    "for i in range(0, 5):\n",
    "    newList.append(i*2)\n",
    "print(\"newlist after using append()=\",newList0)\n",
    "\n",
    "\n",
    "newList = [1,2,3,4,5,6,7,8,9,10,13,14,17,18,23,24,25,26]\n",
    "\n",
    "#create list using list()\n",
    "outputlist=list()\n",
    "print(\"Outputlist=\",outputlist)\n",
    "for x in newList:\n",
    "    if x%2 == 0:  # 把偶數值挑出來\n",
    "        outputlist.append(x)\n",
    "print(\"outputlist after using append()=\",outputlist)\n",
    "\n",
    "#create list using list comprehension\n",
    "output=[]\n",
    "print(\"Ouput=\",output)\n",
    "output = [x for x in newList if x%2 == 0]   #這樣寫更為簡短,python的思維模式\n",
    "print(\"output after using list comprehension=\",output)"
   ]
  },
  {
   "cell_type": "code",
   "execution_count": 4,
   "metadata": {
    "slideshow": {
     "slide_type": "slide"
    }
   },
   "outputs": [
    {
     "name": "stdout",
     "output_type": "stream",
     "text": [
      "She101Who\n",
      "['1', '0', '1']\n",
      "3\n",
      "password new= ['V', 'k', 'h', '4', '3', '4', 'Z', 'k', 'r']\n",
      "V k h 4 3 4 Z k r \n",
      " ['V', 'k', 'h', '7', '6', '7', 'Z', 'k', 'r']\n",
      "\n",
      " Vkh767Zkr\n"
     ]
    }
   ],
   "source": [
    "#filename:list_access.py\n",
    "### 搞密碼\n",
    "### 串列的存取及修改\n",
    "import string\n",
    "\n",
    "Password_string = \"She101Who\"\n",
    "print(Password_string)\n",
    "isnumbers = [x for x in Password_string if x.isdigit()]  #把數字的部份挑出來\n",
    "print( isnumbers)\n",
    "print(len(isnumbers))\n",
    "\n",
    "    \n",
    "Password_new=[]\n",
    "for x in Password_string:\n",
    "    Password_new.append(chr(ord(x)+3))   #故意把每個字元的ASCII+3\n",
    "print(\"password new=\",Password_new)\n",
    "\n",
    "index=0\n",
    "for item in Password_new:\n",
    "    print(item,end=' ')\n",
    "    if Password_new[index].isdigit():   #假如是數字的話\n",
    "        Password_new[index]=chr((ord(Password_new[index])+3)) #chr()的用法, ord()的用法\n",
    "        index+=1\n",
    "    print(\"\\n\",Password_new)\n",
    "\n",
    "#change from List to string 把串列轉換為字串\n",
    "finalstr=''.join(Password_new)\n",
    "print(\"\\n\",finalstr)"
   ]
  },
  {
   "cell_type": "code",
   "execution_count": 32,
   "metadata": {
    "slideshow": {
     "slide_type": "slide"
    }
   },
   "outputs": [
    {
     "name": "stdout",
     "output_type": "stream",
     "text": [
      "['jack  Stahl', 1, 'Jack welhse', 2, 'john Kenny', 3, 'Johnny shieh']\n",
      "['jack  Stahl', 1, 'Jack welhse', 2, 3, 'Johnny shieh']\n",
      "['Johnny shieh', 3, 2, 'Jack welhse', 1, 'jack  Stahl']\n",
      "['Johnny shieh', 2, 'Jack welhse', 1, 'jack  Stahl']\n",
      "[6, 10, 15, 22, 29, 46]\n",
      "[46, 29, 22, 15, 10, 6]\n",
      "[2, 'Jack welhse', 1, 'jack  Stahl']\n"
     ]
    }
   ],
   "source": [
    "#filename: list_operation.py\n",
    "#function: list operation\n",
    "\n",
    "members_list = [0, \"jack  Stahl\", 1, \"Jack welhse\", 2, \"john Kenny\", 3, \"Johnny shieh\"]\n",
    "\n",
    "del members_list[0]   # index 0 from the list removed \n",
    "print (members_list) \n",
    "members_list.remove(\"john Kenny\") # remove the john Kenny from the list, not the index 4\n",
    "print ( members_list)\n",
    "\n",
    "members_list.reverse()\n",
    "print ( members_list)\n",
    "\n",
    "members_list.pop(1)   # index 1 from the list removed\n",
    "print ( members_list)\n",
    "\n",
    "Listing = [6, 10,15,22,29,46]\n",
    "print(Listing)\n",
    "Listing.reverse()\n",
    "print(Listing)\n",
    "\n",
    "\n",
    "members_list.remove(members_list[0])\n",
    "print ( members_list)\n"
   ]
  },
  {
   "cell_type": "code",
   "execution_count": 2,
   "metadata": {
    "scrolled": true,
    "slideshow": {
     "slide_type": "subslide"
    }
   },
   "outputs": [
    {
     "name": "stdout",
     "output_type": "stream",
     "text": [
      "plese keyin in the range count to n for range(n):3\n",
      "doublelist is  [0, 2, 4]\n",
      "doublelist using list comprehension is  [0, 2, 4]\n"
     ]
    }
   ],
   "source": [
    "#filename:list-comp-create.py\n",
    "#function:general list creation and list comprehension \n",
    "\n",
    "n=int(input(\"plese keyin in the range count to n for range(n):\"))\n",
    "\n",
    "doublelist = []\n",
    "for x in range(n):\n",
    "    doublelist.append(x*2)\n",
    "\n",
    "print(\"doublelist is \",doublelist)\n",
    "\n",
    "\n",
    "\n",
    "doublelist = [x*2 for x in range(n)]   #三行和一行的差別\n",
    "\n",
    "print(\"doublelist using list comprehension is \",doublelist)"
   ]
  },
  {
   "cell_type": "markdown",
   "metadata": {
    "slideshow": {
     "slide_type": "slide"
    }
   },
   "source": [
    "### 串列與資料結構的應用\n",
    "\n",
    "https://books.google.com.tw/books?id=thu0DQAAQBAJ&lpg=SA6-PA10&ots=Ru1u_cWNzh&dq=python%20%E4%B8%B2%E5%88%97%E8%88%87%E8%B3%87%E6%96%99%E7%B5%90%E6%A7%8B%E7%9A%84%E6%87%89%E7%94%A8&hl=zh-TW&pg=SA6-PA10#v=onepage&q=python%20%E4%B8%B2%E5%88%97%E8%88%87%E8%B3%87%E6%96%99%E7%B5%90%E6%A7%8B%E7%9A%84%E6%87%89%E7%94%A8&f=false"
   ]
  }
 ],
 "metadata": {
  "celltoolbar": "Slideshow",
  "kernelspec": {
   "display_name": "Python 3",
   "language": "python",
   "name": "python3"
  },
  "language_info": {
   "codemirror_mode": {
    "name": "ipython",
    "version": 3
   },
   "file_extension": ".py",
   "mimetype": "text/x-python",
   "name": "python",
   "nbconvert_exporter": "python",
   "pygments_lexer": "ipython3",
   "version": "3.5.2"
  }
 },
 "nbformat": 4,
 "nbformat_minor": 2
}
