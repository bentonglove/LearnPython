{
 "cells": [
  {
   "cell_type": "markdown",
   "metadata": {
    "slideshow": {
     "slide_type": "slide"
    }
   },
   "source": [
    "## Learn Python Programming \n",
    "![5.png](https://github.com/usistlab/LearnPython/blob/master/images/5.png?raw=true)\n",
    "\n",
    "https://www.programiz.com/python-programming"
   ]
  },
  {
   "cell_type": "markdown",
   "metadata": {
    "collapsed": true,
    "slideshow": {
     "slide_type": "slide"
    }
   },
   "source": [
    "# Start from an object\n"
   ]
  },
  {
   "cell_type": "markdown",
   "metadata": {
    "slideshow": {
     "slide_type": "slide"
    }
   },
   "source": [
    "# 先來看一下啥是物件\n",
    "```\n",
    "1. dir(), which shows you all the  object’s methods  \n",
    "2. help(<object>)\n",
    "3.  <object>.__doc__, which shows you its documentation \n",
    "```"
   ]
  },
  {
   "cell_type": "code",
   "execution_count": 1,
   "metadata": {
    "scrolled": false,
    "slideshow": {
     "slide_type": "subslide"
    }
   },
   "outputs": [
    {
     "name": "stdout",
     "output_type": "stream",
     "text": [
      "Help on int object:\n",
      "\n",
      "class int(object)\n",
      " |  int(x=0) -> integer\n",
      " |  int(x, base=10) -> integer\n",
      " |  \n",
      " |  Convert a number or string to an integer, or return 0 if no arguments\n",
      " |  are given.  If x is a number, return x.__int__().  For floating point\n",
      " |  numbers, this truncates towards zero.\n",
      " |  \n",
      " |  If x is not a number or if base is given, then x must be a string,\n",
      " |  bytes, or bytearray instance representing an integer literal in the\n",
      " |  given base.  The literal can be preceded by '+' or '-' and be surrounded\n",
      " |  by whitespace.  The base defaults to 10.  Valid bases are 0 and 2-36.\n",
      " |  Base 0 means to interpret the base from the string as an integer literal.\n",
      " |  >>> int('0b100', base=0)\n",
      " |  4\n",
      " |  \n",
      " |  Methods defined here:\n",
      " |  \n",
      " |  __abs__(self, /)\n",
      " |      abs(self)\n",
      " |  \n",
      " |  __add__(self, value, /)\n",
      " |      Return self+value.\n",
      " |  \n",
      " |  __and__(self, value, /)\n",
      " |      Return self&value.\n",
      " |  \n",
      " |  __bool__(self, /)\n",
      " |      self != 0\n",
      " |  \n",
      " |  __ceil__(...)\n",
      " |      Ceiling of an Integral returns itself.\n",
      " |  \n",
      " |  __divmod__(self, value, /)\n",
      " |      Return divmod(self, value).\n",
      " |  \n",
      " |  __eq__(self, value, /)\n",
      " |      Return self==value.\n",
      " |  \n",
      " |  __float__(self, /)\n",
      " |      float(self)\n",
      " |  \n",
      " |  __floor__(...)\n",
      " |      Flooring an Integral returns itself.\n",
      " |  \n",
      " |  __floordiv__(self, value, /)\n",
      " |      Return self//value.\n",
      " |  \n",
      " |  __format__(...)\n",
      " |      default object formatter\n",
      " |  \n",
      " |  __ge__(self, value, /)\n",
      " |      Return self>=value.\n",
      " |  \n",
      " |  __getattribute__(self, name, /)\n",
      " |      Return getattr(self, name).\n",
      " |  \n",
      " |  __getnewargs__(...)\n",
      " |  \n",
      " |  __gt__(self, value, /)\n",
      " |      Return self>value.\n",
      " |  \n",
      " |  __hash__(self, /)\n",
      " |      Return hash(self).\n",
      " |  \n",
      " |  __index__(self, /)\n",
      " |      Return self converted to an integer, if self is suitable for use as an index into a list.\n",
      " |  \n",
      " |  __int__(self, /)\n",
      " |      int(self)\n",
      " |  \n",
      " |  __invert__(self, /)\n",
      " |      ~self\n",
      " |  \n",
      " |  __le__(self, value, /)\n",
      " |      Return self<=value.\n",
      " |  \n",
      " |  __lshift__(self, value, /)\n",
      " |      Return self<<value.\n",
      " |  \n",
      " |  __lt__(self, value, /)\n",
      " |      Return self<value.\n",
      " |  \n",
      " |  __mod__(self, value, /)\n",
      " |      Return self%value.\n",
      " |  \n",
      " |  __mul__(self, value, /)\n",
      " |      Return self*value.\n",
      " |  \n",
      " |  __ne__(self, value, /)\n",
      " |      Return self!=value.\n",
      " |  \n",
      " |  __neg__(self, /)\n",
      " |      -self\n",
      " |  \n",
      " |  __new__(*args, **kwargs) from builtins.type\n",
      " |      Create and return a new object.  See help(type) for accurate signature.\n",
      " |  \n",
      " |  __or__(self, value, /)\n",
      " |      Return self|value.\n",
      " |  \n",
      " |  __pos__(self, /)\n",
      " |      +self\n",
      " |  \n",
      " |  __pow__(self, value, mod=None, /)\n",
      " |      Return pow(self, value, mod).\n",
      " |  \n",
      " |  __radd__(self, value, /)\n",
      " |      Return value+self.\n",
      " |  \n",
      " |  __rand__(self, value, /)\n",
      " |      Return value&self.\n",
      " |  \n",
      " |  __rdivmod__(self, value, /)\n",
      " |      Return divmod(value, self).\n",
      " |  \n",
      " |  __repr__(self, /)\n",
      " |      Return repr(self).\n",
      " |  \n",
      " |  __rfloordiv__(self, value, /)\n",
      " |      Return value//self.\n",
      " |  \n",
      " |  __rlshift__(self, value, /)\n",
      " |      Return value<<self.\n",
      " |  \n",
      " |  __rmod__(self, value, /)\n",
      " |      Return value%self.\n",
      " |  \n",
      " |  __rmul__(self, value, /)\n",
      " |      Return value*self.\n",
      " |  \n",
      " |  __ror__(self, value, /)\n",
      " |      Return value|self.\n",
      " |  \n",
      " |  __round__(...)\n",
      " |      Rounding an Integral returns itself.\n",
      " |      Rounding with an ndigits argument also returns an integer.\n",
      " |  \n",
      " |  __rpow__(self, value, mod=None, /)\n",
      " |      Return pow(value, self, mod).\n",
      " |  \n",
      " |  __rrshift__(self, value, /)\n",
      " |      Return value>>self.\n",
      " |  \n",
      " |  __rshift__(self, value, /)\n",
      " |      Return self>>value.\n",
      " |  \n",
      " |  __rsub__(self, value, /)\n",
      " |      Return value-self.\n",
      " |  \n",
      " |  __rtruediv__(self, value, /)\n",
      " |      Return value/self.\n",
      " |  \n",
      " |  __rxor__(self, value, /)\n",
      " |      Return value^self.\n",
      " |  \n",
      " |  __sizeof__(...)\n",
      " |      Returns size in memory, in bytes\n",
      " |  \n",
      " |  __str__(self, /)\n",
      " |      Return str(self).\n",
      " |  \n",
      " |  __sub__(self, value, /)\n",
      " |      Return self-value.\n",
      " |  \n",
      " |  __truediv__(self, value, /)\n",
      " |      Return self/value.\n",
      " |  \n",
      " |  __trunc__(...)\n",
      " |      Truncating an Integral returns itself.\n",
      " |  \n",
      " |  __xor__(self, value, /)\n",
      " |      Return self^value.\n",
      " |  \n",
      " |  bit_length(...)\n",
      " |      int.bit_length() -> int\n",
      " |      \n",
      " |      Number of bits necessary to represent self in binary.\n",
      " |      >>> bin(37)\n",
      " |      '0b100101'\n",
      " |      >>> (37).bit_length()\n",
      " |      6\n",
      " |  \n",
      " |  conjugate(...)\n",
      " |      Returns self, the complex conjugate of any int.\n",
      " |  \n",
      " |  from_bytes(...) from builtins.type\n",
      " |      int.from_bytes(bytes, byteorder, *, signed=False) -> int\n",
      " |      \n",
      " |      Return the integer represented by the given array of bytes.\n",
      " |      \n",
      " |      The bytes argument must be a bytes-like object (e.g. bytes or bytearray).\n",
      " |      \n",
      " |      The byteorder argument determines the byte order used to represent the\n",
      " |      integer.  If byteorder is 'big', the most significant byte is at the\n",
      " |      beginning of the byte array.  If byteorder is 'little', the most\n",
      " |      significant byte is at the end of the byte array.  To request the native\n",
      " |      byte order of the host system, use `sys.byteorder' as the byte order value.\n",
      " |      \n",
      " |      The signed keyword-only argument indicates whether two's complement is\n",
      " |      used to represent the integer.\n",
      " |  \n",
      " |  to_bytes(...)\n",
      " |      int.to_bytes(length, byteorder, *, signed=False) -> bytes\n",
      " |      \n",
      " |      Return an array of bytes representing an integer.\n",
      " |      \n",
      " |      The integer is represented using length bytes.  An OverflowError is\n",
      " |      raised if the integer is not representable with the given number of\n",
      " |      bytes.\n",
      " |      \n",
      " |      The byteorder argument determines the byte order used to represent the\n",
      " |      integer.  If byteorder is 'big', the most significant byte is at the\n",
      " |      beginning of the byte array.  If byteorder is 'little', the most\n",
      " |      significant byte is at the end of the byte array.  To request the native\n",
      " |      byte order of the host system, use `sys.byteorder' as the byte order value.\n",
      " |      \n",
      " |      The signed keyword-only argument determines whether two's complement is\n",
      " |      used to represent the integer.  If signed is False and a negative integer\n",
      " |      is given, an OverflowError is raised.\n",
      " |  \n",
      " |  ----------------------------------------------------------------------\n",
      " |  Data descriptors defined here:\n",
      " |  \n",
      " |  denominator\n",
      " |      the denominator of a rational number in lowest terms\n",
      " |  \n",
      " |  imag\n",
      " |      the imaginary part of a complex number\n",
      " |  \n",
      " |  numerator\n",
      " |      the numerator of a rational number in lowest terms\n",
      " |  \n",
      " |  real\n",
      " |      the real part of a complex number\n",
      "\n"
     ]
    }
   ],
   "source": [
    "alger = 100\n",
    "\n",
    "help(alger)    #物件有使用說明"
   ]
  },
  {
   "cell_type": "code",
   "execution_count": 2,
   "metadata": {
    "slideshow": {
     "slide_type": "subslide"
    }
   },
   "outputs": [
    {
     "data": {
      "text/plain": [
       "['__abs__',\n",
       " '__add__',\n",
       " '__and__',\n",
       " '__bool__',\n",
       " '__ceil__',\n",
       " '__class__',\n",
       " '__delattr__',\n",
       " '__dir__',\n",
       " '__divmod__',\n",
       " '__doc__',\n",
       " '__eq__',\n",
       " '__float__',\n",
       " '__floor__',\n",
       " '__floordiv__',\n",
       " '__format__',\n",
       " '__ge__',\n",
       " '__getattribute__',\n",
       " '__getnewargs__',\n",
       " '__gt__',\n",
       " '__hash__',\n",
       " '__index__',\n",
       " '__init__',\n",
       " '__int__',\n",
       " '__invert__',\n",
       " '__le__',\n",
       " '__lshift__',\n",
       " '__lt__',\n",
       " '__mod__',\n",
       " '__mul__',\n",
       " '__ne__',\n",
       " '__neg__',\n",
       " '__new__',\n",
       " '__or__',\n",
       " '__pos__',\n",
       " '__pow__',\n",
       " '__radd__',\n",
       " '__rand__',\n",
       " '__rdivmod__',\n",
       " '__reduce__',\n",
       " '__reduce_ex__',\n",
       " '__repr__',\n",
       " '__rfloordiv__',\n",
       " '__rlshift__',\n",
       " '__rmod__',\n",
       " '__rmul__',\n",
       " '__ror__',\n",
       " '__round__',\n",
       " '__rpow__',\n",
       " '__rrshift__',\n",
       " '__rshift__',\n",
       " '__rsub__',\n",
       " '__rtruediv__',\n",
       " '__rxor__',\n",
       " '__setattr__',\n",
       " '__sizeof__',\n",
       " '__str__',\n",
       " '__sub__',\n",
       " '__subclasshook__',\n",
       " '__truediv__',\n",
       " '__trunc__',\n",
       " '__xor__',\n",
       " 'bit_length',\n",
       " 'conjugate',\n",
       " 'denominator',\n",
       " 'from_bytes',\n",
       " 'imag',\n",
       " 'numerator',\n",
       " 'real',\n",
       " 'to_bytes']"
      ]
     },
     "execution_count": 2,
     "metadata": {},
     "output_type": "execute_result"
    }
   ],
   "source": [
    "alger = 100\n",
    "\n",
    "dir(alger)     #物件具備方法"
   ]
  },
  {
   "cell_type": "code",
   "execution_count": 3,
   "metadata": {
    "slideshow": {
     "slide_type": "subslide"
    }
   },
   "outputs": [
    {
     "data": {
      "text/plain": [
       "\"int(x=0) -> integer\\nint(x, base=10) -> integer\\n\\nConvert a number or string to an integer, or return 0 if no arguments\\nare given.  If x is a number, return x.__int__().  For floating point\\nnumbers, this truncates towards zero.\\n\\nIf x is not a number or if base is given, then x must be a string,\\nbytes, or bytearray instance representing an integer literal in the\\ngiven base.  The literal can be preceded by '+' or '-' and be surrounded\\nby whitespace.  The base defaults to 10.  Valid bases are 0 and 2-36.\\nBase 0 means to interpret the base from the string as an integer literal.\\n>>> int('0b100', base=0)\\n4\""
      ]
     },
     "execution_count": 3,
     "metadata": {},
     "output_type": "execute_result"
    }
   ],
   "source": [
    "alger = 100\n",
    "\n",
    "alger.__doc__  #物件的說明文件"
   ]
  },
  {
   "cell_type": "code",
   "execution_count": 4,
   "metadata": {
    "slideshow": {
     "slide_type": "subslide"
    }
   },
   "outputs": [
    {
     "data": {
      "text/plain": [
       "int"
      ]
     },
     "execution_count": 4,
     "metadata": {},
     "output_type": "execute_result"
    }
   ],
   "source": [
    "alger = 100\n",
    "\n",
    "type (alger)   #物件的 type"
   ]
  },
  {
   "cell_type": "code",
   "execution_count": 5,
   "metadata": {
    "slideshow": {
     "slide_type": "subslide"
    }
   },
   "outputs": [
    {
     "name": "stdout",
     "output_type": "stream",
     "text": [
      "10917536\n",
      "10917568\n"
     ]
    }
   ],
   "source": [
    "alger =100\n",
    "ben =101\n",
    "print (id(alger))    #物件佔有記憶體位置\n",
    "print(id(ben))\n"
   ]
  },
  {
   "cell_type": "markdown",
   "metadata": {
    "slideshow": {
     "slide_type": "slide"
    }
   },
   "source": [
    "# 也可以拿 print 或 int 來做實驗\n"
   ]
  },
  {
   "cell_type": "code",
   "execution_count": 6,
   "metadata": {
    "scrolled": false,
    "slideshow": {
     "slide_type": "subslide"
    }
   },
   "outputs": [
    {
     "name": "stdout",
     "output_type": "stream",
     "text": [
      "['False', 'None', 'True', 'and', 'as', 'assert', 'break', 'class', 'continue', 'def', 'del', 'elif', 'else', 'except', 'finally', 'for', 'from', 'global', 'if', 'import', 'in', 'is', 'lambda', 'nonlocal', 'not', 'or', 'pass', 'raise', 'return', 'try', 'while', 'with', 'yield']\n"
     ]
    }
   ],
   "source": [
    "# 啥是 keyword ... 關鍵字, 保留字\n",
    "\n",
    "import keyword\n",
    "print (keyword.kwlist)\n",
    "\n",
    "# Keyword 具備唯一性 和 絕對性"
   ]
  },
  {
   "cell_type": "code",
   "execution_count": 7,
   "metadata": {
    "scrolled": true,
    "slideshow": {
     "slide_type": "subslide"
    }
   },
   "outputs": [
    {
     "ename": "SyntaxError",
     "evalue": "invalid syntax (<ipython-input-7-6e575bbfeab5>, line 1)",
     "output_type": "error",
     "traceback": [
      "\u001b[0;36m  File \u001b[0;32m\"<ipython-input-7-6e575bbfeab5>\"\u001b[0;36m, line \u001b[0;32m1\u001b[0m\n\u001b[0;31m    help(while)  # 這樣可以嗎？\u001b[0m\n\u001b[0m             ^\u001b[0m\n\u001b[0;31mSyntaxError\u001b[0m\u001b[0;31m:\u001b[0m invalid syntax\n"
     ]
    }
   ],
   "source": [
    "help(while)  # 這樣可以嗎？"
   ]
  },
  {
   "cell_type": "code",
   "execution_count": 8,
   "metadata": {
    "slideshow": {
     "slide_type": "subslide"
    }
   },
   "outputs": [
    {
     "name": "stdout",
     "output_type": "stream",
     "text": [
      "hello\n"
     ]
    }
   ],
   "source": [
    "import sys\n",
    "\n",
    "def print(x):\n",
    "    sys.stdout.write('hello'+'\\n')\n",
    "    \n",
    "print (\"Good Boy\") # 所以即使是內建函數, 也可以把它改掉"
   ]
  },
  {
   "cell_type": "markdown",
   "metadata": {
    "slideshow": {
     "slide_type": "slide"
    }
   },
   "source": [
    "+++\n",
    "## 物件 (Object)\n",
    "\n",
    "This is a book  \n",
    "![python013.png](https://github.com/usistlab/LearnPython/blob/master/images/python013.png?raw=true)\n",
    "\n",
    "#### 屬性   \n",
    "#### 方法  \n",
    "#### 事件  "
   ]
  },
  {
   "cell_type": "markdown",
   "metadata": {
    "slideshow": {
     "slide_type": "subslide"
    }
   },
   "source": [
    "+++\n",
    "![Object](https://i.ytimg.com/vi/2h2qckyDQi0/maxresdefault.jpg)\n",
    "\n",
    "https://youtu.be/Jcu4taUgp-E"
   ]
  },
  {
   "cell_type": "markdown",
   "metadata": {
    "slideshow": {
     "slide_type": "slide"
    }
   },
   "source": [
    "# Class 還是 object, 有啥不同, 怎區隔\n"
   ]
  },
  {
   "cell_type": "code",
   "execution_count": 9,
   "metadata": {
    "slideshow": {
     "slide_type": "subslide"
    }
   },
   "outputs": [
    {
     "name": "stdout",
     "output_type": "stream",
     "text": [
      "hello\n"
     ]
    }
   ],
   "source": [
    "x = int()        #沒有設定初始值\n",
    "\n",
    "print (x)        #所以 int() 一定做了些事情"
   ]
  },
  {
   "cell_type": "code",
   "execution_count": 10,
   "metadata": {
    "slideshow": {
     "slide_type": "subslide"
    }
   },
   "outputs": [
    {
     "name": "stdout",
     "output_type": "stream",
     "text": [
      "hello\n"
     ]
    }
   ],
   "source": [
    "x = int(100)     #有設定初始值\n",
    "print (x)"
   ]
  },
  {
   "cell_type": "code",
   "execution_count": 11,
   "metadata": {
    "collapsed": true,
    "slideshow": {
     "slide_type": "fragment"
    }
   },
   "outputs": [],
   "source": [
    "del print   #把print救回來"
   ]
  },
  {
   "cell_type": "code",
   "execution_count": 12,
   "metadata": {
    "slideshow": {
     "slide_type": "subslide"
    }
   },
   "outputs": [
    {
     "name": "stdout",
     "output_type": "stream",
     "text": [
      "<class 'type'>\n",
      "<class 'int'>\n",
      "10\n",
      "-3\n"
     ]
    }
   ],
   "source": [
    "x = -10\n",
    "\n",
    "print(type(int))\n",
    "print(type(x))\n",
    "\n",
    "print (x.__abs__())\n",
    "print (x.__add__(7))\n"
   ]
  },
  {
   "cell_type": "code",
   "execution_count": 13,
   "metadata": {
    "scrolled": false,
    "slideshow": {
     "slide_type": "subslide"
    }
   },
   "outputs": [
    {
     "name": "stdout",
     "output_type": "stream",
     "text": [
      "10\n"
     ]
    }
   ],
   "source": [
    "print (int.__abs__(-10))  #這在Python 裡面可以這用"
   ]
  },
  {
   "cell_type": "code",
   "execution_count": 14,
   "metadata": {
    "scrolled": true
   },
   "outputs": [
    {
     "data": {
      "text/plain": [
       "10.3894579237"
      ]
     },
     "execution_count": 14,
     "metadata": {},
     "output_type": "execute_result"
    }
   ],
   "source": [
    "abs(-10.3894579237)"
   ]
  },
  {
   "cell_type": "markdown",
   "metadata": {
    "slideshow": {
     "slide_type": "slide"
    }
   },
   "source": [
    "# Class\n",
    "### 簡言之\n",
    "### Class 就是一個描述物件的模型\n",
    "### Object 就是Class 的一個實例(instance)\n"
   ]
  },
  {
   "cell_type": "code",
   "execution_count": 15,
   "metadata": {
    "scrolled": true,
    "slideshow": {
     "slide_type": "slide"
    }
   },
   "outputs": [
    {
     "name": "stdout",
     "output_type": "stream",
     "text": [
      "屬性 =  Ben\n",
      "方法的輸出為 = \n",
      "0 1 2 3 4 5 6 7 8 9 \n",
      "方法的輸出為 = \n",
      "0 1 2 3 4 5 "
     ]
    },
    {
     "data": {
      "text/plain": [
       "' This is help message '"
      ]
     },
     "execution_count": 15,
     "metadata": {},
     "output_type": "execute_result"
    }
   ],
   "source": [
    "class A_Department:                           #類別, 名字\n",
    "    \n",
    "    ''' This is help message '''\n",
    "                                              #成員變量包含 ： 類變量 和 實例變量 兩種\n",
    "    n = 10                                    #類變量, 通常不會作用在實例上面\n",
    "    \n",
    "    def __init__(self, manager):              #self 指的是實例本身, 而實例必須在被create以後, 才會有真正的名字, 所以 ...\n",
    "        self.mname = manager                  #方法, 類別裡面的函數\n",
    "                       \n",
    "        \n",
    "    def method(self):                         #定義在方法之中的 實例變量\n",
    "        for i in range(self.n):\n",
    "            print(i, end=\" \")\n",
    "#=================================================================\n",
    "            \n",
    "st = A_Department(\"Ben\")                      #創建一個 Object (class的實例） 名叫 st\n",
    "print (\"屬性 = \", st.mname)\n",
    "print (\"方法的輸出為 = \")\n",
    "st.method()\n",
    "print()\n",
    "\n",
    "st.n = 6\n",
    "print (\"方法的輸出為 = \")\n",
    "st.method()\n",
    "\n",
    "A_Department.__doc__            # 顯示說明內容"
   ]
  },
  {
   "cell_type": "code",
   "execution_count": 16,
   "metadata": {
    "slideshow": {
     "slide_type": "subslide"
    }
   },
   "outputs": [
    {
     "name": "stdout",
     "output_type": "stream",
     "text": [
      "Total Employee 2\n",
      "Name :  Alger , Salary:  5000\n",
      "Total Employee 2\n",
      "Name :  Lisa , Salary:  8000\n"
     ]
    }
   ],
   "source": [
    "class Employee:\n",
    "    \n",
    "   empCount = 0                 #這個類變量該怎用呢?       \n",
    "\n",
    "   def __init__(self, name, salary):   # 這個name 和 那個  name的意義並不一樣\n",
    "        self.name = name                 # 實際參數 與 形式參數 \n",
    "        self.salary = salary\n",
    "        Employee.empCount += 1    # 從這裡看出類變量的用途, 猜得出來嗎？\n",
    "   \n",
    "   def displayCount(self):\n",
    "        print (\"Total Employee %d\" % Employee.empCount)\n",
    " \n",
    "   def displayEmployee(self):\n",
    "        print (\"Name : \", self.name,  \", Salary: \", self.salary)\n",
    "    \n",
    "#=============================================================================\n",
    "\n",
    "Alger = Employee(\"Alger\", 5000)\n",
    "Lisa = Employee(\"Lisa\", 8000)\n",
    "\n",
    "Alger.displayCount()\n",
    "Alger.displayEmployee()\n",
    "\n",
    "Lisa.displayCount()\n",
    "Lisa.displayEmployee()\n"
   ]
  },
  {
   "cell_type": "code",
   "execution_count": 17,
   "metadata": {
    "scrolled": false,
    "slideshow": {
     "slide_type": "subslide"
    }
   },
   "outputs": [
    {
     "name": "stdout",
     "output_type": "stream",
     "text": [
      "7\n"
     ]
    },
    {
     "data": {
      "text/plain": [
       "__main__.Employee"
      ]
     },
     "execution_count": 17,
     "metadata": {},
     "output_type": "execute_result"
    }
   ],
   "source": [
    "emp1 = Employee(\"Zara\", 4000)\n",
    "emp1.age = 7                          # 添加一个 'age' 属性\n",
    "print (emp1.age)\n",
    "type (emp1)"
   ]
  },
  {
   "cell_type": "code",
   "execution_count": 19,
   "metadata": {
    "scrolled": true,
    "slideshow": {
     "slide_type": "slide"
    }
   },
   "outputs": [
    {
     "name": "stdout",
     "output_type": "stream",
     "text": [
      "30\n",
      "30\n",
      "\n",
      "10\n",
      "30\n",
      "\n",
      "10\n",
      "50\n"
     ]
    }
   ],
   "source": [
    "class Department(object):    #名字\n",
    "    \n",
    "    headcount = 10           #類變量, 通常只在類裡面作用\n",
    "                             #self 指的是實例本身\n",
    "    def __init__(self):      #方法, 類別裡面的函數\n",
    "        self.patent = 3      #定義在方法之中的 實例變量\n",
    "    def get_patent_no(self, arg1, arg2):\n",
    "        return self.patent\n",
    "\n",
    "#================================================================================================    \n",
    "    \n",
    "# This is the class instantiation\n",
    "ben_dpt = Department()\n",
    "ben_dpt.get_patent_no(1,2)\n",
    "# 3\n",
    "\n",
    "# This variable is shared by all instances.\n",
    "jonse_dpt = Department()\n",
    "ben_dpt.headcount\n",
    "# 10\n",
    "jonse_dpt.headcount\n",
    "#10\n",
    "\n",
    "# Note how we use the class name instead of the instance.\n",
    "Department.headcount = 30\n",
    "print(ben_dpt.headcount)\n",
    "#30\n",
    "print(jonse_dpt.headcount)\n",
    "#30\n",
    "print()\n",
    "\n",
    "# This will not update the variable on the class,\n",
    "# instead it will bind a new object to the old\n",
    "# variable name.\n",
    "ben_dpt.headcount = 10\n",
    "print (ben_dpt.headcount)\n",
    "#10\n",
    "print (jonse_dpt.headcount)\n",
    "#30\n",
    "print()\n",
    "\n",
    "Department.headcount = 50    #這就是 類變量 和 實例變量亂用\n",
    "# This has not changed, because \"headcount\" is now an instance variable.\n",
    "print(ben_dpt.headcount)\n",
    "#10\n",
    "print(jonse_dpt.headcount)\n",
    "#50"
   ]
  },
  {
   "cell_type": "code",
   "execution_count": 20,
   "metadata": {
    "slideshow": {
     "slide_type": "subslide"
    }
   },
   "outputs": [
    {
     "name": "stdout",
     "output_type": "stream",
     "text": [
      "Patent no =  10\n",
      "7\n"
     ]
    }
   ],
   "source": [
    "class Department(object):\n",
    "    headcount = 10\n",
    "    def __init__(self):\n",
    "        self.patent = 3\n",
    "    def get_patent_no(self, arg1, arg2):\n",
    "        return self.patent\n",
    "    \n",
    "class OtherDpt(Department):  #繼承\n",
    "    # The \"self\" argument is passed automatically\n",
    "    # and refers to the class instance, so you can set\n",
    "    # instance variables as above, but from inside the class.\n",
    "    male = 9\n",
    "    female = 1  \n",
    "    def __init__(self, arg1=3):\n",
    "        self.patent = arg1\n",
    "        print(\"Patent no = \", arg1)\n",
    "\n",
    "department_instance = OtherDpt(10)\n",
    "\n",
    "\n",
    "# department_instance.get_patent_no(1, 2)\n",
    "#3\n",
    "\n",
    "\n",
    "# This class doesn't have a .pet member, but we can add one to the instance anyway. \n",
    "# Note that this will only be a member of department_instance.\n",
    "\n",
    "department_instance.pet = 7     #任一加入一個不在類裡面的ㄔ任一加入一個不在類裡面的成員\n",
    "print (department_instance.pet)\n",
    "#7"
   ]
  },
  {
   "cell_type": "markdown",
   "metadata": {
    "slideshow": {
     "slide_type": "slide"
    }
   },
   "source": [
    "# 談談變數數的可視範圍\n",
    "區域變數 全域變數"
   ]
  },
  {
   "cell_type": "markdown",
   "metadata": {
    "slideshow": {
     "slide_type": "slide"
    }
   },
   "source": [
    "## Python Quiz\n",
    "\n",
    "Python Object and Class Quiz  \n",
    "https://www.programiz.com/python-programming/quiz/object-class/take/1\n",
    "\n",
    "Online Python Quiz For Beginners – Python Classes And Objects  \n",
    "http://www.techbeamers.com/online-python-quiz-beginners-classes-objects/"
   ]
  },
  {
   "cell_type": "markdown",
   "metadata": {
    "slideshow": {
     "slide_type": "slide"
    }
   },
   "source": [
    "# File I/O （檔案）"
   ]
  },
  {
   "cell_type": "code",
   "execution_count": 30,
   "metadata": {
    "scrolled": true,
    "slideshow": {
     "slide_type": "slide"
    }
   },
   "outputs": [
    {
     "name": "stdout",
     "output_type": "stream",
     "text": [
      "This is a sample string\n",
      "['This', 'is', 4, 13327]\n"
     ]
    }
   ],
   "source": [
    "# converting data structures to strings using the pickle library\n",
    "\n",
    "import pickle \n",
    "\n",
    "# Open the file binary.dat for writing. \n",
    "# The letter r before the filename string is used to prevent backslash escaping.\n",
    "\n",
    "# fp = open( \"檔案名稱\", \"開啟模式\")\n",
    "\n",
    "myfile = open(r\"text.txt\", \"w\")\n",
    "\n",
    "mylist = [\"This\", \"is\", 4, 13327]\n",
    "\n",
    "myfile.write(\"This is a sample string\")\n",
    "#myfile.write(mylist)    # 如果直接把一個 串列資料寫入本文檔 是會發生錯誤的\n",
    "\n",
    "myfile.close()\n",
    "\n",
    "myfile = open(r\"text.txt\")   #檔案指標, handler\n",
    "print(myfile.read())\n",
    "#'This is a sample string'\n",
    "myfile.close()\n",
    "\n",
    "#=====================================================================================================\n",
    "\n",
    "\n",
    "mylist = [\"This\", \"is\", 4, 13327]\n",
    "# Open the file binary.dat for writing. The letter r before the filename string is used to prevent backslash escaping.\n",
    "myfile = open(r\"binary.dat\", \"wb\") #假如你有信用卡 ID 和 PWD 要除存, 應該使用這種格式\n",
    "\n",
    "pickle.dump(mylist, myfile)    # 使用pickle  來除存串列內容\n",
    "\n",
    "myfile.close()\n",
    "\n",
    "# Open the file for reading.\n",
    "myfile = open(r\"binary.dat\",\"rb\")\n",
    "loadedlist = pickle.load(myfile)\n",
    "myfile.close()\n",
    "\n",
    "print(loadedlist)\n",
    "# ['This', 'is', 4, 13327]"
   ]
  },
  {
   "cell_type": "code",
   "execution_count": 31,
   "metadata": {
    "scrolled": false,
    "slideshow": {
     "slide_type": "slide"
    }
   },
   "outputs": [
    {
     "name": "stdout",
     "output_type": "stream",
     "text": [
      "處理檔案\n",
      "abspath= /home/ben/Workspace/LearnPython/WK3/test.txt\n",
      "basename= test.txt\n",
      "dirname= /home/ben/Workspace/LearnPython/WK3\n",
      "處理路徑\n",
      "abspath= /home/ben/Workspace/LearnPython/WK3\n",
      "basename= WK3\n",
      "dirname= /home/ben/Workspace/LearnPython\n",
      "分割路徑\n",
      "split= ('/home/ben/Workspace/LearnPython/WK3', 'test.txt')\n",
      "splitdrive= ('', '/home/ben/Workspace/LearnPython/WK3/test.txt')\n"
     ]
    }
   ],
   "source": [
    "### os.path\n",
    "\n",
    "import os.path\n",
    "\n",
    "print (\"處理檔案\")\n",
    "a = os.path.abspath (\"test.txt\") # 傳回完整的路徑名稱\n",
    "print(\"abspath=\", a)\n",
    "print(\"basename=\", os.path.basename(a))\n",
    "print(\"dirname=\", os.path.dirname(a))\n",
    "\n",
    "print (\"處理路徑\")\n",
    "a = os.path.abspath (\".\") # 傳回路徑的完整名稱\n",
    "print(\"abspath=\", a)\n",
    "print(\"basename=\", os.path.basename(a))\n",
    "print(\"dirname=\", os.path.dirname(a))\n",
    "\n",
    "print (\"分割路徑\")\n",
    "a = os.path.abspath (\"test.txt\") # 傳回完整的路徑名稱\n",
    "print(\"split=\", os.path.split(a))\n",
    "print(\"splitdrive=\", os.path.splitdrive(a))\n"
   ]
  },
  {
   "cell_type": "code",
   "execution_count": 32,
   "metadata": {
    "scrolled": true,
    "slideshow": {
     "slide_type": "slide"
    }
   },
   "outputs": [
    {
     "name": "stdout",
     "output_type": "stream",
     "text": [
      "binary.dat\n",
      "3.List.ipynb\n",
      "earthquake.json\n",
      "text.txt\n",
      "1.Class_File.ipynb\n",
      "climate.txt\n",
      "zop.txt\n",
      "2.代碼觀摩.ipynb\n",
      "hexdump.py\n"
     ]
    }
   ],
   "source": [
    "# glob\n",
    "\n",
    "import glob\n",
    "files = glob.glob(\"*.*\") #列出當前路徑下的所有檔案\n",
    "for f in files:\n",
    "    print(f)"
   ]
  },
  {
   "cell_type": "code",
   "execution_count": 33,
   "metadata": {
    "scrolled": true,
    "slideshow": {
     "slide_type": "subslide"
    }
   },
   "outputs": [
    {
     "name": "stdout",
     "output_type": "stream",
     "text": [
      "/home/ben/Workspace/LearnPython/WK3/binary.dat\n",
      "/home/ben/Workspace/LearnPython/WK3/3.List.ipynb\n",
      "/home/ben/Workspace/LearnPython/WK3/earthquake.json\n",
      "/home/ben/Workspace/LearnPython/WK3/text.txt\n",
      "/home/ben/Workspace/LearnPython/WK3/1.Class_File.ipynb\n",
      "/home/ben/Workspace/LearnPython/WK3/climate.txt\n",
      "/home/ben/Workspace/LearnPython/WK3/zop.txt\n",
      "/home/ben/Workspace/LearnPython/WK3/2.代碼觀摩.ipynb\n",
      "/home/ben/Workspace/LearnPython/WK3/hexdump.py\n",
      "[]\n"
     ]
    }
   ],
   "source": [
    "import os.path, glob\n",
    "files = glob.glob(\"*.*\") #列出當前路徑下的所有檔案\n",
    "for f in files:\n",
    "    print(os.path.abspath(f))\n",
    "print(glob.glob(\"subdir\"))"
   ]
  },
  {
   "cell_type": "code",
   "execution_count": 34,
   "metadata": {
    "scrolled": true,
    "slideshow": {
     "slide_type": "subslide"
    }
   },
   "outputs": [
    {
     "name": "stdout",
     "output_type": "stream",
     "text": [
      "sampletree\n",
      "['dirB', 'dirA', 'dirC']\n",
      "['f3', 'f1', 'f2']\n",
      "\n",
      "sampletree/dirB\n",
      "[]\n",
      "[]\n",
      "\n",
      "sampletree/dirA\n",
      "[]\n",
      "['f5', 'f4', 'f6']\n",
      "\n",
      "sampletree/dirC\n",
      "[]\n",
      "[]\n",
      "\n"
     ]
    }
   ],
   "source": [
    "import os\n",
    "mydirtree = os.walk(\"sampletree\")   # 代表一個資料夾的樹狀結構\n",
    "\n",
    "for dirname, subdir, files in mydirtree :      #有三個元素 ： dirname, subdir and files\n",
    "    print(dirname)\n",
    "    print(subdir)\n",
    "    print(files)\n",
    "    print()\n"
   ]
  },
  {
   "cell_type": "code",
   "execution_count": 35,
   "metadata": {
    "slideshow": {
     "slide_type": "subslide"
    }
   },
   "outputs": [
    {
     "data": {
      "text/plain": [
       "0"
      ]
     },
     "execution_count": 35,
     "metadata": {},
     "output_type": "execute_result"
    }
   ],
   "source": [
    "# os.system\n",
    "# os.system(cmd)\n",
    "\n",
    "import os\n",
    "\n",
    "os.system(\"pwd\")\n"
   ]
  },
  {
   "cell_type": "code",
   "execution_count": 36,
   "metadata": {
    "scrolled": false,
    "slideshow": {
     "slide_type": "slide"
    }
   },
   "outputs": [
    {
     "name": "stdout",
     "output_type": "stream",
     "text": [
      "fp的型態是 <class '_io.TextIOWrapper'>\n",
      "zops的型態是 <class 'list'>\n",
      "The Zen of Python\n",
      "Zen  1: Beautiful is better than ugly.\n",
      "Zen  2: Explicit is better than implicit.\n",
      "Zen  3: Simple is better than complex.\n",
      "Zen  4: Complex is better than complicated.\n",
      "Zen  5: Flat is better than nested.\n",
      "Zen  6: Sparse is better than dense.\n",
      "Zen  7: Readability counts.\n",
      "Zen  8: Special cases aren't special enough to break the rules.\n",
      "Zen  9: Although practicality beats purity.\n",
      "Zen 10: Errors should never pass silently.\n",
      "Zen 11: Unless explicitly silenced.\n",
      "Zen 12: In the face of ambiguity, refuse the temptation to guess.\n",
      "Zen 13: There should be one-- and preferably only one --obvious way to do it.\n",
      "Zen 14: Although that way may not be obvious at first unless you're Dutch.\n",
      "Zen 15: Now is better than never.\n",
      "Zen 16: Although never is often better than *right* now.\n",
      "Zen 17: If the implementation is hard to explain, it's a bad idea.\n",
      "Zen 18: If the implementation is easy to explain, it may be a good idea.\n",
      "Zen 19: Namespaces are one honking great idea -- let's do more of those!\n"
     ]
    }
   ],
   "source": [
    "# 讀入一個檔案看看\n",
    "\n",
    "# _*_ coding: utf-8 _*_\n",
    "# 程式 8-1.py (Python 3 version)\n",
    "\n",
    "fp = open(\"zop.txt\", \"r\") # 指定要處理的檔案\n",
    "\n",
    "zops = fp.readlines() #讀取檔案內容, 並將其內容除存到 zops 物件裡面\n",
    "\n",
    "fp.close() # 關閉檔案物件\n",
    "\n",
    "print(\"fp的型態是\", type(fp))\n",
    "print(\"zops的型態是\", type(zops))\n",
    "\n",
    "i=1\n",
    "print(\"The Zen of Python\")\n",
    "for zen in zops:\n",
    "    print(\"Zen {:2}: {}\".format(i, zen), end=\"\")   #由於每一行尾端已經自帶 \\n, 所以不需要print 再印一遍 \\n\n",
    "    i += 1"
   ]
  },
  {
   "cell_type": "code",
   "execution_count": 37,
   "metadata": {
    "slideshow": {
     "slide_type": "slide"
    }
   },
   "outputs": [
    {
     "name": "stdout",
     "output_type": "stream",
     "text": [
      " 0:淡水    \t 1:鞍部    \t 2:臺北    \t 3:竹子湖   \t 4:基隆    \t\n",
      " 5:彭佳嶼   \t 6:花蓮    \t 7:蘇澳    \t 8:宜蘭    \t 9:東吉島   \t\n",
      "10:澎湖    \t11:臺南    \t12:高雄    \t13:嘉義    \t14:臺中    \t\n",
      "15:阿里山   \t16:大武    \t17:玉山    \t18:新竹    \t19:恆春    \t\n",
      "20:成功    \t21:蘭嶼    \t22:日月潭   \t23:臺東    \t24:梧棲    \t\n",
      "\n",
      "請輸入你要查詢平均溫度的地區：(-1結束)1\n",
      "顯示區域: 鞍部\n",
      "---------------------\n",
      " 1月均溫:10.1度\n",
      " 2月均溫:10.9度\n",
      " 3月均溫:13.0度\n",
      " 4月均溫:16.4度\n",
      " 5月均溫:19.4度\n",
      " 6月均溫:21.8度\n",
      " 7月均溫:23.2度\n",
      " 8月均溫:22.9度\n",
      " 9月均溫:21.0度\n",
      "10月均溫:17.9度\n",
      "11月均溫:14.9度\n",
      "12月均溫:11.4度\n",
      "本地區年均溫為16.9度\n",
      "---------------------\n",
      "請按Enter鍵回主選單\n",
      " 0:淡水    \t 1:鞍部    \t 2:臺北    \t 3:竹子湖   \t 4:基隆    \t\n",
      " 5:彭佳嶼   \t 6:花蓮    \t 7:蘇澳    \t 8:宜蘭    \t 9:東吉島   \t\n",
      "10:澎湖    \t11:臺南    \t12:高雄    \t13:嘉義    \t14:臺中    \t\n",
      "15:阿里山   \t16:大武    \t17:玉山    \t18:新竹    \t19:恆春    \t\n",
      "20:成功    \t21:蘭嶼    \t22:日月潭   \t23:臺東    \t24:梧棲    \t\n",
      "\n",
      "請輸入你要查詢平均溫度的地區：(-1結束)-1\n"
     ]
    }
   ],
   "source": [
    "# 再讀入一個檔案看看, 進階版\n",
    "# 天氣溫度的查詢系統\n",
    "\n",
    "# _*_ coding: utf-8 _*_\n",
    "# 程式 8-6.py (Python 3 version)\n",
    "\n",
    "# 顯示區域\n",
    "def disp_area():\n",
    "    i = 0\n",
    "    for a in climate_data:     # climate_data 在哪裡？  如果是編譯語言恐怕會報錯\n",
    "        # 向右對齊     向左對齊\n",
    "        print(\"{:>2}:{:<6}\\t\".format(i,a[0]), end=\"\")  #因為地區名稱在第0個位置\n",
    "        i += 1\n",
    "        if not (i % 5): print() #每5筆資料換行\n",
    "    print()\n",
    "\n",
    "def disp_temp(data):                 # 傳入區域串列, data 是一個串列型態\n",
    "    print(\"顯示區域:\", data[0])\n",
    "    print(\"---------------------\")\n",
    "    for i in range(1,13):\n",
    "        print(\"{:>2}月均溫:{:>.1f}度\".format(i, float(data[i])))\n",
    "    print(\"本地區年均溫為{}度\".format(data[13]))\n",
    "    print(\"---------------------\")\n",
    "\n",
    "# ============================================================================================\n",
    "\n",
    "target_file = 'climate.txt'\n",
    "with open(target_file, 'r', encoding='utf-8') as fp:\n",
    "    raw_data = fp.readlines() # raw_data 也是串列資料, 全部都讀進來\n",
    "\n",
    "#print( raw_data)   ＃ 看一下 raw_data 是長怎樣子？\n",
    "    \n",
    "climate_data=[]\n",
    "for item in raw_data:\n",
    "    climate_data.append(item.rstrip('\\n').split('\\t')) #把raw_data 再經過修改(去掉 \\n,然後以 \\t 分割欄位） 放入 climate_data\n",
    "\n",
    "#print(climate_data)   #比較一下 climate_data 是長怎樣子？ 應該是一個二維的串列\n",
    "\n",
    "while True:\n",
    "    disp_area()\n",
    "    area = int(input(\"請輸入你要查詢平均溫度的地區：(-1結束)\"))\n",
    "    if area == -1: break\n",
    "        \n",
    "    disp_temp(climate_data[area])\n",
    "    x = input(\"請按Enter鍵回主選單\")"
   ]
  },
  {
   "cell_type": "code",
   "execution_count": 38,
   "metadata": {
    "slideshow": {
     "slide_type": "slide"
    }
   },
   "outputs": [
    {
     "name": "stdout",
     "output_type": "stream",
     "text": [
      "過去7天全球發生重大的地震資訊：\n",
      "地點:230km SE of Sarangani, Philippines\n",
      "震度:6.5\n",
      "時間:2016-01-12 00:38:07\n",
      "地點:32km NW of Fairview, Oklahoma\n",
      "震度:4.8\n",
      "時間:2016-01-07 12:27:58\n",
      "地點:4km NNW of Banning, California\n",
      "震度:4.39\n",
      "時間:2016-01-06 22:42:34\n"
     ]
    }
   ],
   "source": [
    "# 支援JSON \n",
    "# 瞭解JSON格式 http://j796160836.pixnet.net/blog/post/30530326-%E7%9E%AD%E8%A7%A3json%E6%A0%BC%E5%BC%8F\n",
    "# 地震資訊的格式說明 http://earthquake.usgs.gov/earthquakes/feed/v1.0/geojson.php\n",
    "\n",
    "# _*_ coding: utf-8 _*_\n",
    "# 程式 8-7.py (Python 3 version)\n",
    "\n",
    "import json, datetime\n",
    "\n",
    "fp = open('earthquake.json','r')\n",
    "earthquakes = json.load(fp)\n",
    "\n",
    "print(\"過去7天全球發生重大的地震資訊：\")\n",
    "for eq in earthquakes['features']:\n",
    "    print(\"地點:{}\".format(eq['properties']['place']))\n",
    "    print(\"震度:{}\".format(eq['properties']['mag']))\n",
    "    et = float(eq['properties']['time']) /1000.0\n",
    "    d=datetime.datetime.fromtimestamp(et).strftime('%Y-%m-%d %H:%M:%S')\n",
    "    print(\"時間:{}\".format(d))"
   ]
  },
  {
   "cell_type": "markdown",
   "metadata": {
    "slideshow": {
     "slide_type": "slide"
    }
   },
   "source": [
    "### Python File and Exception Handling Quiz  \n",
    "\n",
    "https://www.programiz.com/python-programming/quiz/files-exception/take/1"
   ]
  },
  {
   "cell_type": "markdown",
   "metadata": {
    "slideshow": {
     "slide_type": "skip"
    }
   },
   "source": [
    "(ROSON 請假提早離開)  \n",
    "\n",
    "## 下週預告\n",
    "\n",
    "Python + 資料庫"
   ]
  }
 ],
 "metadata": {
  "celltoolbar": "Slideshow",
  "kernelspec": {
   "display_name": "Python 3",
   "language": "python",
   "name": "python3"
  },
  "language_info": {
   "codemirror_mode": {
    "name": "ipython",
    "version": 3
   },
   "file_extension": ".py",
   "mimetype": "text/x-python",
   "name": "python",
   "nbconvert_exporter": "python",
   "pygments_lexer": "ipython3",
   "version": "3.5.2"
  }
 },
 "nbformat": 4,
 "nbformat_minor": 2
}
