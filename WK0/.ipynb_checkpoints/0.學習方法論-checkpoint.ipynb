{
 "cells": [
  {
   "cell_type": "markdown",
   "metadata": {
    "heading_collapsed": true
   },
   "source": [
    "## 學習方法論（學習如何學習）\n",
    "\n",
    "學習目標\n",
    "---------\n",
    "1. 搜尋答案近似值 （關鍵字技巧）\n",
    "2. 看懂別人在寫蝦米\n",
    "3. 改成符合自己需要的"
   ]
  },
  {
   "cell_type": "markdown",
   "metadata": {
    "hidden": true
   },
   "source": [
    "![CT](http://blog.orangeapple.tw/wp-content/uploads/2015/06/maxresdefault-1-e1433259516781.jpg)\n",
    "## Computational Thinking\n",
    "1. 拆解 (Decomposition): 將一個任務或問題拆解成數個步驟或部分。 \n",
    "2. 找出規律 (Pattern Recognition): 預測問題的規律，並找出模式做測試。 \n",
    " 1. 歸納 (Pattern Generalization): 找出異同之處\n",
    " 2. 與抽象化 ( and Abstraction):\n",
    "3. 設計演算法 (Algorithm Design)：\n",
    "$y = x^2$\n"
   ]
  },
  {
   "cell_type": "markdown",
   "metadata": {
    "heading_collapsed": true,
    "hidden": true
   },
   "source": [
    "### 建立學習環境 Checklist\n",
    "1. 學會安裝虛擬機器（Virtual Machine)\n",
    "2. 在虛擬機器上安裝並執行Linux(Ubuntu 16.04LTS)\n",
    "3. 在Linux上建立Python的執行環境\n",
    " 1. python2, python3\n",
    " 2. pip2, pip3\n",
    "4. 安裝 ipython 套件\n",
    "5. 安裝 jupyter notebook 套件\n",
    "6. 初步認識 jupyter善用學習工具"
   ]
  },
  {
   "cell_type": "markdown",
   "metadata": {
    "hidden": true
   },
   "source": [
    "\n",
    "### 建立開發環境\n",
    "### HOW?"
   ]
  },
  {
   "cell_type": "markdown",
   "metadata": {
    "heading_collapsed": true,
    "hidden": true
   },
   "source": [
    "### 習題\n",
    "請在 jupyter notebook上執行 \n",
    "```python\n",
    "print (\"我把學習環境都設定好了\")\n",
    "```\n",
    "並且得到以下結果"
   ]
  },
  {
   "cell_type": "code",
   "execution_count": 1,
   "metadata": {
    "collapsed": true,
    "hidden": true
   },
   "outputs": [
    {
     "name": "stdout",
     "output_type": "stream",
     "text": [
      "我把學習環境都設定好了\n"
     ]
    }
   ],
   "source": [
    "print (\"我把學習環境都設定好了\")"
   ]
  }
 ],
 "metadata": {
  "kernelspec": {
   "display_name": "Python 3",
   "language": "python",
   "name": "python3"
  },
  "language_info": {
   "codemirror_mode": {
    "name": "ipython",
    "version": 3
   },
   "file_extension": ".py",
   "mimetype": "text/x-python",
   "name": "python",
   "nbconvert_exporter": "python",
   "pygments_lexer": "ipython3",
   "version": "3.5.2"
  }
 },
 "nbformat": 4,
 "nbformat_minor": 2
}
