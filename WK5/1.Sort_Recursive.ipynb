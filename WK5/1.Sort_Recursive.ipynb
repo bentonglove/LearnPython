{
 "cells": [
  {
   "cell_type": "markdown",
   "metadata": {},
   "source": [
    "## Ask Vincent to explain Deamon's code again"
   ]
  },
  {
   "cell_type": "code",
   "execution_count": 1,
   "metadata": {},
   "outputs": [
    {
     "name": "stdout",
     "output_type": "stream",
     "text": [
      "字串長度為 54\n",
      "string = XACBBCECEBEXCACDCBEBEXBECXXACEDCEEAAEACADCBBEEEDCXBAAC\n",
      "AC combine at 1\n",
      "Find X\n",
      "AC combine at 13\n",
      "AC combine at 27\n",
      "Find X\n",
      "AC combine at 37\n",
      "AC combine at 52\n",
      "A workable fight is 3\n"
     ]
    }
   ],
   "source": [
    "'''\n",
    "import random\n",
    "button = [\"A\", \"B\", \"C\", \"D\", \"E\", \"X\"]\n",
    "x = random.randint(5,1000)\n",
    "\n",
    "strike = ''\n",
    "for i in range(x):\n",
    "    strike =strike + button[random.randint(0,5)]\n",
    "'''\n",
    "\n",
    "# strike = 'ACBBCECEBEXCACDCBEBEXBECXXACEDCEEAAEACADCBBEEEDCXBAAC'\n",
    "strike = 'XACBBCECEBEXCACDCBEBEXBECXXACEDCEEAAEACADCBBEEEDCXBAAC'\n",
    "# strike = 'ACBBCECEBEXCACDCBEBEXBECXXACEDCEEAAEACADCBBEEEDCXBAACX'\n",
    "\n",
    "\n",
    "n = len(strike)\n",
    "print(\"字串長度為 {}\\nstring = {}\".format(n,strike))\n",
    "\n",
    "effect = 0\n",
    "for i in range (n-1):\n",
    "    if strike[i:i+2] == 'AC':\n",
    "        print(\"{} combine at {}\".format(strike[i:i+2], i))\n",
    "        effect += 1\n",
    "        if (i > 0) and (i < n-2) :\n",
    "            if (strike[i-1] == 'X') or (strike[i+2] == 'X') :\n",
    "                print (\"Find X\")\n",
    "                effect -= 1\n",
    "\n",
    "print (\"A workable fight is {}\".format(effect))"
   ]
  },
  {
   "cell_type": "markdown",
   "metadata": {
    "slideshow": {
     "slide_type": "slide"
    }
   },
   "source": [
    "# Lets PPT first"
   ]
  },
  {
   "cell_type": "markdown",
   "metadata": {
    "slideshow": {
     "slide_type": "subslide"
    }
   },
   "source": [
    "## Selection Sort  \n",
    "\n",
    "http://www.algomation.com/player?algorithm=58b44c490e406f04000c7137"
   ]
  },
  {
   "cell_type": "markdown",
   "metadata": {
    "slideshow": {
     "slide_type": "subslide"
    }
   },
   "source": [
    "## Merge Sort\n",
    "http://www.algomation.com/algorithm/merge-sort"
   ]
  },
  {
   "cell_type": "markdown",
   "metadata": {},
   "source": [
    "## Quick Sort\n",
    "\n",
    "http://www.algomation.com/player?algorithm=58bb2ef75b2b830400b05118"
   ]
  },
  {
   "cell_type": "markdown",
   "metadata": {
    "slideshow": {
     "slide_type": "subslide"
    }
   },
   "source": [
    "## Compare Sort Video -- 8 Method\n"
   ]
  },
  {
   "cell_type": "markdown",
   "metadata": {},
   "source": [
    "### Break"
   ]
  },
  {
   "cell_type": "markdown",
   "metadata": {},
   "source": [
    "## 遞迴歸納"
   ]
  },
  {
   "cell_type": "markdown",
   "metadata": {},
   "source": [
    "## Visualization Algorithm  \n",
    "\n",
    "VisuAlgo.net/en https://visualgo.net/en  \n",
    "\n",
    "Algomation http://www.algomation.com/\n",
    "\n",
    "Make $$ => Visualizing Algorithms  https://bost.ocks.org/mike/algorithms/\n",
    "\n",
    "Data Structure Visualizations   https://www.cs.usfca.edu/~galles/visualization/StackArray.html\n",
    "\n",
    "http://algo-visualizer.jasonpark.me/#path=sorting/bucket/basic\n",
    "\n",
    "Visualizations: Algorithms http://cs.smith.edu/dftwiki/index.php/Visualizations:_Algorithms\n",
    "\n",
    "AlgoViz.org  https://algoviz.org/catalog/entry/571\n",
    "\n",
    "Vamonos http://rosulek.github.io/vamonos/demos/"
   ]
  },
  {
   "cell_type": "markdown",
   "metadata": {},
   "source": [
    "### Break"
   ]
  }
 ],
 "metadata": {
  "celltoolbar": "Slideshow",
  "kernelspec": {
   "display_name": "Python 3",
   "language": "python",
   "name": "python3"
  },
  "language_info": {
   "codemirror_mode": {
    "name": "ipython",
    "version": 3
   },
   "file_extension": ".py",
   "mimetype": "text/x-python",
   "name": "python",
   "nbconvert_exporter": "python",
   "pygments_lexer": "ipython3",
   "version": "3.5.2"
  }
 },
 "nbformat": 4,
 "nbformat_minor": 2
}
