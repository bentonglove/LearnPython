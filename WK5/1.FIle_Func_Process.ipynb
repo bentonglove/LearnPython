{
 "cells": [
  {
   "cell_type": "markdown",
   "metadata": {},
   "source": [
    "回車和換行\n",
    "今天，我總算搞清楚 **“回車”（carriage return）** 和 **“換行”（line feed）** 這兩個概念的來歷和區別了。\n",
    "在計算機還沒有出現之前，有一種叫做電傳打字機（Teletype Model 33）的玩意，每秒鐘可以打10個字符。但是它有一個問題，就是打完一行換行的時候，要用去0.2秒，正好可以打兩個字符。要是在這0.2秒裡面，又有新的字符傳過來，那麼這個字符將丟失。\n",
    "\n",
    "於是，研製人員想了個辦法解決這個問題，就是在每行後面加兩個表示結束的字符。\n",
    "- 一個叫做“回車”，告訴打字機把打印頭定位在左邊界；\n",
    "- 另一個叫做“換行”，告訴打字機把紙向下移一行。\n",
    "\n",
    "這就是“換行”和“回車”的來歷，從它們的英語名字上也可以看出一二。\n",
    "\n",
    "後來，計算機發明了，這兩個概念也就被般到了計算機上。那時，存儲器很貴，一些科學家認為在每行結尾加兩個字符太浪費了，加一個就可以。於是，就出現了分歧。\n",
    "\n",
    "Unix系統裡，每行結尾只有“<換行>”，即“\\n”；\n",
    "\n",
    "Windows系統裡面，每行結尾是“<換行><回車>”，即“\\n\\r”；\n",
    "\n",
    "Mac系統裡，每行結尾是“<回車>”。\n",
    "\n",
    "\n",
    "一個直接後果是，Unix/Mac系統下的文件在Windows裡打開的話，所有文字會變成一行；\n",
    "而Windows裡的文件在Unix/Mac下打開的話，在每行的結尾可能會多出一個^M符號。\n"
   ]
  },
  {
   "cell_type": "markdown",
   "metadata": {},
   "source": [
    "## 再看檔案系統\n",
    "\n",
    "用 Hex Editor 來介紹檔案系統（數據空間）"
   ]
  },
  {
   "cell_type": "markdown",
   "metadata": {},
   "source": [
    "## 特殊函數"
   ]
  },
  {
   "cell_type": "markdown",
   "metadata": {},
   "source": [
    "## 再談函數"
   ]
  },
  {
   "cell_type": "markdown",
   "metadata": {},
   "source": [
    "## Multithread"
   ]
  }
 ],
 "metadata": {
  "kernelspec": {
   "display_name": "Python 3",
   "language": "python",
   "name": "python3"
  },
  "language_info": {
   "codemirror_mode": {
    "name": "ipython",
    "version": 3
   },
   "file_extension": ".py",
   "mimetype": "text/x-python",
   "name": "python",
   "nbconvert_exporter": "python",
   "pygments_lexer": "ipython3",
   "version": "3.5.2"
  }
 },
 "nbformat": 4,
 "nbformat_minor": 2
}
