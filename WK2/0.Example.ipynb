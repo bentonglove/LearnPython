{
 "cells": [
  {
   "cell_type": "markdown",
   "metadata": {
    "heading_collapsed": true
   },
   "source": [
    "## 解題示範\n",
    "\n",
    "\n",
    "### 原始題目\n",
    "Q562: Dividing coins\n",
    "\n",
    "很多人都知道銅線是荷蘭人發明的。聽說是有2個荷蘭人在爭奪一個銅幣，由於搶的太激烈，銅幣被約拉越長，最後銅線就被發明出來了。\n",
    "\n",
    "現在，你要來幫助處理一個關於銅幣的問題。給你一袋銅幣（裡面最多有100個，面值可能有1分錢到500分錢，但單一銅幣是不可分割的）。若要把銅幣分成2堆，並且使得這2堆銅幣的面值和盡可能接近，你必須回答這2堆銅幣面值和的差是多少。\n",
    "\n",
    "Input\n",
    "\n",
    "輸入的第一列有一個整數，代表以下有幾組測試資料。\n",
    "\n",
    "每組測試資料2列，其中第一列有1個不為負的整數m（m <= 100），代表袋中銅幣的數目。接下來的一列有m個正整數，代表袋中各銅幣的面值。\n",
    "\n",
    "Output\n",
    "\n",
    "對每一組測試資料，輸出2堆銅幣面值和的差是多少。\n",
    "\n",
    "Sample Input\n",
    "\n",
    "2  \n",
    "3  \n",
    "2 3 5  \n",
    "4  \n",
    "1 2 4 6  \n",
    "\n",
    "Sample Output\n",
    "\n",
    "0  \n",
    "1"
   ]
  },
  {
   "cell_type": "markdown",
   "metadata": {},
   "source": [
    "## 解題示範\n",
    "\n",
    "Q562: Dividing coins\n",
    "\n",
    "~~很多人都知道銅線是荷蘭人發明的。聽說是有2個荷蘭人在爭奪一個銅幣，由於搶的太激烈，銅幣被約拉越長，最後銅線就被發明出來~~\n",
    "\n",
    "~~現在，你要來幫助處理一個關於銅幣的問題。~~ \n",
    "\n",
    "給你一袋銅幣（裡面最多有100個，面值可能有1分錢到500分錢，但單一銅幣是不可分割的）。  \n",
    "\n",
    "若要把銅幣分成2堆，並且使得這2堆銅幣的面值和盡可能接近，  \n",
    "\n",
    "你必須回答這2堆銅幣面值和的差是多少。\n",
    "\n",
    "Input\n",
    "\n",
    "輸入的第一列有一個整數，代表以下有幾組測試資料。\n",
    "\n",
    "每組測試資料有2列，  \n",
    "其中第一列有1個不為負的整數m（m <= 100），代表袋中銅幣的數目。  \n",
    "接下來的一列有m個正整數，代表袋中各銅幣的面值。\n",
    "\n",
    "Output\n",
    "\n",
    "對每一組測試資料，輸出2堆銅幣面值和的差是多少。\n",
    "\n",
    "Sample Input\n",
    "\n",
    "請問輸入幾組問題： 2  \n",
    "\n",
    "第一組有幾個硬幣： 3  \n",
    "幣值分別是多少： 2 5 3\n",
    "\n",
    "第二組有幾個硬幣： 4  \n",
    "幣值分別是多少： 6 2 4 1\n",
    "\n",
    "Sample Output\n",
    "\n",
    "第一組分組結果為 (2,3) 和 (5) 其差值為 0  \n",
    "第二組分組結果為 （1,2,4) 和 （6) 其差值為 1"
   ]
  },
  {
   "cell_type": "code",
   "execution_count": null,
   "metadata": {},
   "outputs": [],
   "source": [
    "import random\n",
    "\n",
    "m = int (input (\"please input a test number = \"))\n",
    "   \n",
    "# initiate coin_value \n",
    "\n",
    "for i in range(m):\n",
    "    coin_value[i] = random.randint(1,500)\n",
    "    \n",
    "print (coin_value)\n",
    "\n",
    "# 檢查一下哪裡有問題？"
   ]
  },
  {
   "cell_type": "markdown",
   "metadata": {},
   "source": [
    "## 怎樣初始(initiate) 一個 list ?\n",
    "## 或者怎樣初始一個變數?"
   ]
  },
  {
   "cell_type": "code",
   "execution_count": null,
   "metadata": {
    "scrolled": false
   },
   "outputs": [],
   "source": [
    "# 看看下面這樣會不會有問題\n",
    "x = 0\n",
    "\n",
    "for i in range(1,100):\n",
    "    x = x + i\n",
    "    \n",
    "print (x)"
   ]
  },
  {
   "cell_type": "markdown",
   "metadata": {},
   "source": [
    "### 怎會這樣？\n",
    "不是說好都不用宣告, 直接拿來用就可以了 ... XD\n",
    "\n",
    "回去看一下小三徵求範例是怎樣用的 ..."
   ]
  },
  {
   "cell_type": "code",
   "execution_count": null,
   "metadata": {
    "collapsed": true
   },
   "outputs": [],
   "source": [
    "x = 0\n",
    "\n",
    "for i in range(1,100):\n",
    "    x = x + i\n",
    "    \n",
    "print (x)"
   ]
  },
  {
   "cell_type": "code",
   "execution_count": null,
   "metadata": {
    "collapsed": true
   },
   "outputs": [],
   "source": [
    "x = int()\n",
    "\n",
    "for i in range(1,100):\n",
    "    x = x + i\n",
    "    \n",
    "print (x)"
   ]
  },
  {
   "cell_type": "code",
   "execution_count": null,
   "metadata": {
    "scrolled": true
   },
   "outputs": [],
   "source": [
    "myprint = print()\n",
    "\n",
    "# myprint = \"This is the print\"\n",
    "# 什是 return None ?"
   ]
  },
  {
   "cell_type": "code",
   "execution_count": null,
   "metadata": {
    "collapsed": true
   },
   "outputs": [],
   "source": []
  },
  {
   "cell_type": "markdown",
   "metadata": {},
   "source": [
    "## 每個物件都必須初始化, 才能使用它\n",
    "\n",
    "變數是物件  \n",
    "\n",
    "list 也是物件"
   ]
  },
  {
   "cell_type": "code",
   "execution_count": null,
   "metadata": {
    "collapsed": true
   },
   "outputs": [],
   "source": [
    "coin_value = list()\n",
    "print (coin_value)\n",
    "coin_value.append(1)\n",
    "print (coin_value)\n",
    "coin_value.append(2)\n",
    "print (coin_value)"
   ]
  },
  {
   "cell_type": "code",
   "execution_count": null,
   "metadata": {
    "collapsed": true
   },
   "outputs": [],
   "source": [
    "import random\n",
    "\n",
    "m = int (input (\"please input a test number = \"))\n",
    "   \n",
    "coin_value = [ random.randint(1,500) for i  in range (m) ] #Python: List Comprehensions expression\n",
    "    \n",
    "print (coin_value)"
   ]
  },
  {
   "cell_type": "code",
   "execution_count": null,
   "metadata": {
    "collapsed": true
   },
   "outputs": [],
   "source": [
    "import random\n",
    "m = int (input (\"please input a test number = \"))\n",
    "coin_value = []\n",
    "for i  in range(m):\n",
    "    coin_value.append(random.randint(1,500))\n",
    "    \n",
    "print (\"總共有{}枚硬幣\".format(m))\n",
    "print (\"這些硬幣的面值分別是 \" , coin_value)\n",
    "\n",
    "# 排序\n",
    "coin_value.sort()\n",
    "print (\"把它排序排好 \", coin_value)"
   ]
  },
  {
   "cell_type": "code",
   "execution_count": null,
   "metadata": {
    "collapsed": true
   },
   "outputs": [],
   "source": [
    "# Method 1\n",
    "import random\n",
    "m = int (input (\"please input a test number = \"))\n",
    "coin_value = []\n",
    "for i  in range(m):\n",
    "    coin_value.append(random.randint(1,500))\n",
    "    \n",
    "print (\"總共有{}枚硬幣\".format(m))\n",
    "print (\"這些硬幣的面值分別是 \" , coin_value)\n",
    "\n",
    "# 排序\n",
    "coin_value.sort()\n",
    "print (\"把它排序排好 \", coin_value)\n",
    "\n",
    "# ====================================Algorithm Method 1 ===============================\n",
    "# 取平均數 任取相加等於或接近數值總和/2\n",
    "# 從最大的開始加, 超過就往下一個挑"
   ]
  },
  {
   "cell_type": "code",
   "execution_count": null,
   "metadata": {},
   "outputs": [],
   "source": [
    "# Method 2\n",
    "import random\n",
    "\n",
    "'''\n",
    "m = int (input (\"please input a test number = \"))\n",
    "coin_value = []\n",
    "for i  in range(m):\n",
    "    coin_value.append(random.randint(1,500))\n",
    "'''\n",
    "\n",
    "# m=10\n",
    "# coin_value = [6,104,107,124,309,320,343,440,443,445]\n",
    "# m=2\n",
    "# coin_value = [1,1]\n",
    "# m=3\n",
    "# coin_value = [1,1,1]\n",
    "m=5\n",
    "coin_value = [1,2,3,4,5]\n",
    "    \n",
    "print (\"總共有{}枚硬幣\".format(m))\n",
    "print (\"這些硬幣的面值分別是 \" , coin_value)\n",
    "\n",
    "# 排序\n",
    "coin_value.sort()\n",
    "print (\"把它排序排好 \", coin_value)\n",
    "\n",
    "# ====================================Algorithm Method 2 ===============================\n",
    "\n",
    "half = m//2 if m%2 == 0 else m//2+1\n",
    "i = half\n",
    "diff = sum(coin_value[:i])-sum (coin_value[i:])\n",
    "\n",
    "while diff < 0 :\n",
    "    i+=1         # 目標是取得 i 值\n",
    "    diff = sum(coin_value[:i])-sum (coin_value[i:])\n",
    "                          \n",
    "print (\"當 i = {} 時的 差值為 {}\".format(i, diff))\n",
    "print (\"當 i = {} 時的 差值為 {}\".format(i-1, abs(diff-coin_value[i-1]*2)))\n",
    "print (\"當分成兩堆的最小差值為 {}\".format(min(diff, abs(diff-coin_value[i-1]*2))))"
   ]
  },
  {
   "cell_type": "code",
   "execution_count": null,
   "metadata": {
    "collapsed": true
   },
   "outputs": [],
   "source": [
    "# About Unit Test\n",
    "\n",
    "'''\n",
    "m = int (input (\"please input a test number = \"))\n",
    "coin_value = []\n",
    "for i  in range(m):\n",
    "    coin_value.append(random.randint(1,500))\n",
    "'''\n",
    "\n",
    "# m=10\n",
    "# coin_value = [6,104,107,124,309,320,343,440,443,445]\n",
    "\n",
    "# m=2\n",
    "# coin_value = [1,1]\n",
    "ASSERT(0)\n",
    "# m=3\n",
    "# coin_value = [1,1,1]\n",
    "ASSERT(1)\n",
    "# m=5\n",
    "# coin_value = [1,2,3,4,5]\n",
    "ASSERT(1)\n"
   ]
  },
  {
   "cell_type": "markdown",
   "metadata": {},
   "source": [
    "### 這題沒這簡單\n",
    "\n",
    "Partition Problem\n",
    "\n",
    "Knapsack Problem\n",
    "\n",
    "![Algorithm](http://www.csie.ntnu.edu.tw/~u91029/KnapsackProblem1.png)\n",
    "![Back](http://2.bp.blogspot.com/-P9RSZhtSp24/VNyix9l-t9I/AAAAAAAAAKI/JjuCtgUjsgw/s1600/%E5%8B%95%E6%85%8B%E6%BC%94%E7%AE%97%E6%B3%95%E8%83%8C%E5%8C%85%E7%B7%B4%E7%BF%92%E9%A1%8C.jpg)\n"
   ]
  },
  {
   "cell_type": "markdown",
   "metadata": {},
   "source": [
    "## 來完貪吃蛇吧\n",
    "\n",
    "![Snake](http://ww4.sinaimg.cn/bmiddle/005N3SJDgw1f2wn7o2vebg308b08bqjk.jpg)\n",
    "\n",
    "\n"
   ]
  },
  {
   "cell_type": "code",
   "execution_count": null,
   "metadata": {},
   "outputs": [],
   "source": [
    "# 看看有哪些字元可以拿來畫圖\n",
    "\n",
    "for i in range(256) :\n",
    "    print(chr(i), end=\"\")   "
   ]
  },
  {
   "cell_type": "code",
   "execution_count": null,
   "metadata": {
    "scrolled": true
   },
   "outputs": [],
   "source": [
    "# 先畫一個長方形\n",
    "\n",
    "s0 = \"=\" * 42\n",
    "s1 = \"|\"+\" \"*40+\"|\"\n",
    "print (s0)\n",
    "for i in range (24) :\n",
    "    print (s1)\n",
    "print (s0)"
   ]
  },
  {
   "cell_type": "code",
   "execution_count": null,
   "metadata": {
    "collapsed": true,
    "scrolled": true
   },
   "outputs": [],
   "source": [
    "# 移動一個字元\n",
    "\n",
    "import os\n",
    "os.system(\"cls\")\n",
    "\n",
    "for i in range (24):\n",
    "    ld = \" \"*i +\"D\"\n",
    "    print (ld)"
   ]
  },
  {
   "cell_type": "code",
   "execution_count": null,
   "metadata": {
    "collapsed": true,
    "scrolled": true
   },
   "outputs": [],
   "source": [
    "# 電腦速度太快, 要加一點延遲\n",
    "\n",
    "import os\n",
    "import time\n",
    "\n",
    "os.system(\"clear\")\n",
    "\n",
    "for i in range (40):\n",
    "    os.system(\"clear\")\n",
    "    ld = \" \"*i +\"D\"\n",
    "    print (ld)\n",
    "    time.sleep(0.1)"
   ]
  },
  {
   "cell_type": "code",
   "execution_count": null,
   "metadata": {
    "collapsed": true
   },
   "outputs": [],
   "source": [
    "# 垂直移動看看\n",
    "\n",
    "import os\n",
    "import time\n",
    "\n",
    "os.system(\"clear\")\n",
    "\n",
    "for i in range (24):\n",
    "    os.system(\"clear\")\n",
    "    ld =  \"\\n\"*i + \"D\"\n",
    "    print (ld)\n",
    "    time.sleep(0.1)\n"
   ]
  },
  {
   "cell_type": "code",
   "execution_count": null,
   "metadata": {
    "collapsed": true
   },
   "outputs": [],
   "source": [
    "# 那鍵盤控制呢?\n",
    "# 找 curses\n",
    "# Curses Programming with Python \n",
    "# It is also important to find the solutions from the document from\n",
    "\n",
    "\n",
    "# https://docs.python.org/3/howto/curses.html\n"
   ]
  },
  {
   "cell_type": "code",
   "execution_count": null,
   "metadata": {
    "collapsed": true
   },
   "outputs": [],
   "source": [
    "# 這是來自官網上的範例\n",
    "import curses\n",
    "stdscr = curses.initscr() # returns a window object representing the entire screen\n",
    "\n",
    "# Usually curses applications turn off automatic echoing of keys to the screen, \n",
    "# in order to be able to read keys and only display them under certain circumstances.\n",
    "curses.noecho() \n",
    "\n",
    "# Applications will also commonly need to react to keys instantly, \n",
    "# without requiring the Enter key to be pressed; \n",
    "# this is called cbreak mode, as opposed to the usual buffered input mode.\n",
    "\n",
    "# 也就是說 buffer mode 還是 scan mode\n",
    "curses.cbreak()\n",
    "\n",
    "# returning a special value such as curses.KEY_LEFT\n",
    "stdscr.keypad(True)\n",
    "\n",
    "# Terminating a curses application\n",
    "curses.nocbreak()\n",
    "stdscr.keypad(False)\n",
    "curses.echo()\n",
    "\n",
    "\n",
    "# restore the terminal to its original operating mode\n",
    "x = input(\"Press any key\")\n",
    "curses.endwin()"
   ]
  },
  {
   "cell_type": "code",
   "execution_count": null,
   "metadata": {
    "collapsed": true
   },
   "outputs": [],
   "source": [
    "# 這個範例展示的比官網要具體一些\n",
    "\n",
    "# An live instant workable example\n",
    "# http://www.tuxradar.com/content/code-project-build-ncurses-ui-python\n",
    "\n",
    "import curses\n",
    "\n",
    "myscreen = curses.initscr()\n",
    "\n",
    "myscreen.border(0)\n",
    "myscreen.addstr(12, 25, \"Python curses in action!\")\n",
    "myscreen.refresh()\n",
    "myscreen.getch()\n",
    "\n",
    "curses.endwin()"
   ]
  },
  {
   "cell_type": "code",
   "execution_count": null,
   "metadata": {
    "collapsed": true,
    "scrolled": true
   },
   "outputs": [],
   "source": [
    "# 這是來自官網上的範例\n",
    "\n",
    "from curses import wrapper\n",
    "\n",
    "def main(stdscr):\n",
    "    # Clear screen\n",
    "    stdscr.clear()\n",
    "\n",
    "    # This raises ZeroDivisionError when i == 10.\n",
    "    for i in range(0, 11):\n",
    "        v = i-10\n",
    "        stdscr.addstr(i, 0, '10 divided by {} is {}'.format(v, 10/v))\n",
    "\n",
    "    stdscr.refresh()\n",
    "    stdscr.getkey()\n",
    "\n",
    "wrapper(main)"
   ]
  },
  {
   "cell_type": "code",
   "execution_count": null,
   "metadata": {
    "collapsed": true
   },
   "outputs": [],
   "source": [
    "# 這是來自官網上的範例\n",
    "\n",
    "# Windows and Pads\n",
    "\n",
    "#　Coordinates are always passed in the order y,x, \n",
    "#　and the top-left corner of a window is coordinate (0,0)\n",
    "import curses\n",
    "\n",
    "begin_x = 20; begin_y = 7\n",
    "height = 5; width = 40\n",
    "win = curses.newwin(height, width, begin_y, begin_x) #creates a new window of a given size"
   ]
  },
  {
   "cell_type": "code",
   "execution_count": null,
   "metadata": {
    "collapsed": true
   },
   "outputs": [],
   "source": [
    "# 這是來自官網上的範例\n",
    "\n",
    "pad = curses.newpad(100, 100)\n",
    "# These loops fill the pad with letters; addch() is\n",
    "# explained in the next section\n",
    "for y in range(0, 99):\n",
    "    for x in range(0, 99):\n",
    "        pad.addch(y,x, ord('a') + (x*x+y*y) % 26)\n",
    "\n",
    "# Displays a section of the pad in the middle of the screen.\n",
    "# (0,0) : coordinate of upper-left corner of pad area to display.\n",
    "# (5,5) : coordinate of upper-left corner of window area to be filled\n",
    "#         with pad content.\n",
    "# (20, 75) : coordinate of lower-right corner of window area to be\n",
    "#          : filled with pad content.\n",
    "pad.refresh( 0,0, 5,5, 20,75)\n",
    "\n",
    "curses.endwin()"
   ]
  },
  {
   "cell_type": "code",
   "execution_count": null,
   "metadata": {
    "collapsed": true
   },
   "outputs": [],
   "source": [
    "# 這個範例仍然不夠完整\n",
    "\n",
    "!/usr/bin/env python\n",
    "# An user exampler from GitHub\n",
    "# https://gist.github.com/myano/1055442\n",
    "\n",
    "\n",
    "import curses\n",
    "import curses.textpad\n",
    "import time\n",
    "\n",
    "stdscr = curses.initscr()\n",
    "\n",
    "#curses.noecho()\n",
    "#curses.echo()\n",
    "\n",
    "\n",
    "begin_x = 20\n",
    "begin_y = 7\n",
    "height = 5\n",
    "width = 40\n",
    "win = curses.newwin(height, width, begin_y, begin_x)\n",
    "tb = curses.textpad.Textbox(win)\n",
    "text = tb.edit()\n",
    "curses.addstr(4,1,text.encode('utf_8'))\n",
    "\n",
    "#hw = \"Hello world!\"\n",
    "#while 1:\n",
    "#    c = stdscr.getch()\n",
    "#    if c == ord('p'): \n",
    "#    elif c == ord('q'): break # Exit the while()\n",
    "#    elif c == curses.KEY_HOME: x = y = 0\n",
    "\n",
    "curses.endwin()"
   ]
  },
  {
   "cell_type": "code",
   "execution_count": null,
   "metadata": {
    "collapsed": true
   },
   "outputs": [],
   "source": [
    "# 這個範例仍有些問題\n",
    "\n",
    "# An user example from GitHub\n",
    "# https://gist.github.com/anonymous/1885105\n",
    "# -*- coding: utf-8 -*-\n",
    "\n",
    "import curses\n",
    "\n",
    "def curses_main(args):\n",
    "    w    = curses.initscr()\n",
    "    curses.echo()\n",
    "    while 1:\n",
    "        w.addstr(0, 0, \">\")\n",
    "        w.clrtoeol()\n",
    "        s   = w.getstr()\n",
    "        if s == \"q\":    break\n",
    "        w.insertln()\n",
    "        w.addstr(1, 0, \"[\" + s + \"]\")\n",
    "\n",
    "curses.wrapper(curses_main)\n"
   ]
  },
  {
   "cell_type": "code",
   "execution_count": null,
   "metadata": {
    "collapsed": true
   },
   "outputs": [],
   "source": [
    "# 比較成功的 curses 範例\n",
    "# Build an Ncurses UI with Python\n",
    "# http://www.tuxradar.com/content/code-project-build-ncurses-ui-python"
   ]
  },
  {
   "cell_type": "markdown",
   "metadata": {},
   "source": [
    "### Another Sanke example with AI\n",
    "####  https://github.com/Hawstein/snake-ai\n",
    "![AI Snake](https://github.com/Hawstein/snake-ai/raw/master/snake-ai.gif)"
   ]
  }
 ],
 "metadata": {
  "kernelspec": {
   "display_name": "Python 3",
   "language": "python",
   "name": "python3"
  },
  "language_info": {
   "codemirror_mode": {
    "name": "ipython",
    "version": 3
   },
   "file_extension": ".py",
   "mimetype": "text/x-python",
   "name": "python",
   "nbconvert_exporter": "python",
   "pygments_lexer": "ipython3",
   "version": "3.5.2"
  }
 },
 "nbformat": 4,
 "nbformat_minor": 2
}
