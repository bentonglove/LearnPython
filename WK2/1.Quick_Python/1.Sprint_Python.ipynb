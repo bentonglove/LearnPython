{
 "cells": [
  {
   "attachments": {},
   "cell_type": "markdown",
   "metadata": {},
   "source": [
    "## Learn Python Programming \n",
    "![5.png](https://github.com/usistlab/LearnPython/blob/master/images/5.png?raw=true)\n",
    "\n",
    "https://www.programiz.com/python-programming"
   ]
  },
  {
   "cell_type": "markdown",
   "metadata": {
    "collapsed": true
   },
   "source": [
    "## Tutorial - Learn Python in 10 minutes\n",
    "\n",
    "https://www.stavros.io/tutorials/python/"
   ]
  },
  {
   "cell_type": "markdown",
   "metadata": {},
   "source": [
    "### Properties\n",
    "Python is  \n",
    " 1. strongly typed  \n",
    " 2. dynamically  \n",
    " 3. implicitly typed\n",
    " 4. case sensitive  \n",
    " 5. object-oriented"
   ]
  },
  {
   "cell_type": "code",
   "execution_count": null,
   "metadata": {
    "collapsed": true,
    "scrolled": true
   },
   "outputs": [],
   "source": [
    "#strongly typed\n",
    "a = 3\n",
    "b = 3.0\n",
    "c = a*b\n",
    "print (type(a), type(b), type(c))"
   ]
  },
  {
   "cell_type": "code",
   "execution_count": null,
   "metadata": {
    "collapsed": true,
    "scrolled": true
   },
   "outputs": [],
   "source": [
    "#implicitly typed\n",
    "s = \"I am ben\"\n",
    "a = 3\n",
    "combine = s + a\n",
    "print(combine)"
   ]
  },
  {
   "cell_type": "code",
   "execution_count": null,
   "metadata": {
    "collapsed": true
   },
   "outputs": [],
   "source": [
    "#dynamically\n",
    "s = \"This is string\"\n",
    "print(s)\n",
    "s = 38\n",
    "print(s, type(s))"
   ]
  },
  {
   "cell_type": "code",
   "execution_count": null,
   "metadata": {
    "collapsed": true
   },
   "outputs": [],
   "source": [
    "#case sensitive \n",
    "Alger = \"Alger has\"\n",
    "alger = 100\n",
    "print (Alger,alger,\" dollars\" )"
   ]
  },
  {
   "cell_type": "code",
   "execution_count": null,
   "metadata": {
    "collapsed": true
   },
   "outputs": [],
   "source": [
    "#object-oriented\n",
    "alger = -100\n",
    "dir(alger)\n",
    "print(alger.__abs__())"
   ]
  },
  {
   "cell_type": "markdown",
   "metadata": {},
   "source": [
    "### Getting help\n",
    "```\n",
    "1. help(<object>\\)\n",
    "2. dir(), which shows you all the object’s methods\n",
    "3.  <object>.__doc__, which shows you its documentation \n",
    "```"
   ]
  },
  {
   "cell_type": "code",
   "execution_count": null,
   "metadata": {
    "collapsed": true
   },
   "outputs": [],
   "source": [
    "alger =100\n",
    "help(alger)"
   ]
  },
  {
   "attachments": {},
   "cell_type": "markdown",
   "metadata": {},
   "source": [
    "+++\n",
    "#### 物件 (Object)\n",
    "\n",
    "This is a book  \n",
    "![python013.png](https://github.com/usistlab/LearnPython/blob/master/images/python013.png?raw=true)\n",
    "\n",
    "\n",
    "屬性   \n",
    "方法  \n",
    "事件  \n",
    "\n",
    "https://youtu.be/Jcu4taUgp-E"
   ]
  },
  {
   "cell_type": "code",
   "execution_count": null,
   "metadata": {
    "collapsed": true
   },
   "outputs": [],
   "source": [
    "alger = 100\n",
    "dir(alger)"
   ]
  },
  {
   "cell_type": "code",
   "execution_count": null,
   "metadata": {
    "collapsed": true
   },
   "outputs": [],
   "source": [
    "help(list)\n"
   ]
  },
  {
   "cell_type": "markdown",
   "metadata": {},
   "source": [
    "### Syntax  \n",
    "\n",
    "1. statement, expression  \n",
    "2. blocks,  indentation  \n",
    "3. comments, multi-line comments,\n",
    "4. values assignment, increment/decrement values \n",
    " - different between = and ==\n",
    "5. multiple variables on one line"
   ]
  },
  {
   "cell_type": "code",
   "execution_count": null,
   "metadata": {
    "collapsed": true
   },
   "outputs": [],
   "source": [
    "# 設定變數\n",
    "start = 10\n",
    "end = 100\n",
    "\n",
    "#從10開始一直加到100\n",
    "for i in range(start,end):\n",
    "    x+=i\n",
    "print (x)\n",
    "\n",
    "'''\n",
    "梯形公式\n",
    "[ 上底 + 下底 ] * 高 / 2 \n",
    "'''\n",
    "y = (start+end)*(end-start)/2\n",
    "print(y)\n",
    "\n",
    "# 比較運算式\n",
    "if  x == y :\n",
    "    print (\"you are excellent\")\n",
    "    "
   ]
  },
  {
   "cell_type": "code",
   "execution_count": null,
   "metadata": {
    "collapsed": true
   },
   "outputs": [],
   "source": [
    "start, end, x = 1,2,3\n",
    "print(start, end, x)"
   ]
  },
  {
   "cell_type": "markdown",
   "metadata": {},
   "source": [
    "### Data types\n",
    "1. lists []   \n",
    "2. tuples ()  \n",
    "3. dictionaries  {}  \n",
    "4. sets "
   ]
  },
  {
   "cell_type": "code",
   "execution_count": null,
   "metadata": {
    "collapsed": true
   },
   "outputs": [],
   "source": [
    "sample = [1, [\"another\", \"list\"], (\"a\", \"tuple\")]\n",
    "mylist = [\"List item 1\", 2, 3.14]\n",
    "mylist[0] = \"List item 1 again\" # We're changing the item.\n",
    "mylist[-1] = 3.21 # Here, we refer to the last item.\n",
    "\n",
    "mydict = {\"Key 1\": \"Value 1\", 2: 3, \"pi\": 3.14}\n",
    "mydict[\"pi\"] = 3.15 # This is how you change dictionary values.\n",
    "\n",
    "mytuple = (1, 2, 3)\n",
    "\n",
    "myfunction = len\n",
    "print(myfunction(mylist))"
   ]
  },
  {
   "cell_type": "code",
   "execution_count": null,
   "metadata": {
    "collapsed": true,
    "scrolled": true
   },
   "outputs": [],
   "source": [
    "# : 的用法\n",
    "mylist = [1, 2 , \"I am in the middle\", 3, 3.14]\n",
    "print(mylist[:])\n",
    "\n",
    "print(mylist[0:2]) # Indexing is inclusive-exclusive\n",
    "\n",
    "print(mylist[-3:-1])\n",
    "\n",
    "print(mylist[1:])\n",
    "\n",
    "print(mylist[:-1]) # -1 is the last item\n",
    "\n",
    "# Adding a third parameter, \"step\" will have Python step in\n",
    "# N item increments, rather than 1.\n",
    "# E.g., this will return the first item, then go to the third and\n",
    "# return that (so, items 0 and 2 in 0-indexing).\n",
    "print(mylist[::2])"
   ]
  },
  {
   "cell_type": "markdown",
   "metadata": {},
   "source": [
    "### Strings"
   ]
  },
  {
   "cell_type": "code",
   "execution_count": null,
   "metadata": {
    "collapsed": true
   },
   "outputs": [],
   "source": [
    "myLab = \"STLab\"\n",
    "\n",
    "print(\"Name: %s\\\n",
    "Number: %s\\\n",
    "String: %s\" % (myLab, 3, 3 * \"-\"))\n",
    "\n",
    "\n",
    "strString = \"\"\"This is\n",
    "a multiline\n",
    "string.\"\"\"\n",
    "\n",
    "# WARNING: Watch out for the trailing s in \"%(key)s\".\n",
    "print(\"This %(verb)s a %(noun)s.\" % {\"noun\": \"test\", \"verb\": \"is\"})\n"
   ]
  },
  {
   "cell_type": "markdown",
   "metadata": {
    "collapsed": true
   },
   "source": [
    "### Flow control statements"
   ]
  },
  {
   "cell_type": "markdown",
   "metadata": {},
   "source": [
    "```python\n",
    "rangelist = range(10)\n",
    "print(rangelist)\n",
    "\n",
    "for number in rangelist:\n",
    "    # Check if number is one of\n",
    "    # the numbers in the tuple.\n",
    "    if number in (3, 4, 7, 9):\n",
    "        # \"Break\" terminates a for without\n",
    "        # executing the \"else\" clause.\n",
    "        break\n",
    "    else:\n",
    "        # \"Continue\" starts the next iteration\n",
    "        # of the loop. It's rather useless here,\n",
    "        # as it's the last statement of the loop.\n",
    "        continue\n",
    "else:\n",
    "    # The \"else\" clause is optional and is\n",
    "    # executed only if the loop didn't \"break\".\n",
    "    pass # Do nothing\n",
    "\n",
    "if rangelist[1] == 2:\n",
    "    print(\"The second item (lists are 0-based) is 2\")\n",
    "elif rangelist[1] == 3:\n",
    "    print(\"The second item (lists are 0-based) is 3\")\n",
    "else:\n",
    "    print(\"Dunno\")\n",
    "\n",
    "while rangelist[1] == 1:\n",
    "    pass\n",
    "```"
   ]
  },
  {
   "cell_type": "markdown",
   "metadata": {},
   "source": [
    "### Functions"
   ]
  },
  {
   "cell_type": "code",
   "execution_count": null,
   "metadata": {
    "collapsed": true
   },
   "outputs": [],
   "source": [
    "# Same as def funcvar(x): return x + 1\n",
    "funcvar = lambda x: x + 1\n",
    "print(funcvar(1))\n",
    "\n",
    "# an_int and a_string are optional, they have default values\n",
    "# if one is not passed (2 and \"A default string\", respectively).\n",
    "def passing_example(a_list, an_int=2, a_string=\"A default string\"):\n",
    "    a_list.append(\"A new item\")\n",
    "    an_int = 4\n",
    "    return a_list, an_int, a_string\n",
    "\n",
    "my_list = [1, 2, 3]\n",
    "my_int = 10\n",
    "\n",
    "print(passing_example(my_list, my_int))\n",
    "\n",
    "print(my_list)\n",
    "\n",
    "print(my_int)\n",
    "\n",
    "# 呼救 http://www.pythontutor.com/visualize.html#mode=edit"
   ]
  },
  {
   "cell_type": "code",
   "execution_count": 35,
   "metadata": {},
   "outputs": [
    {
     "name": "stdout",
     "output_type": "stream",
     "text": [
      "function my_callback was called with 0\n",
      "function my_callback was called with 1\n",
      "function my_callback was called with 2\n",
      "function my_callback was called with 3\n",
      "function my_callback was called with 4\n"
     ]
    }
   ],
   "source": [
    "'''\n",
    "A classic use of callbacks in Python (and other languages) is to assign events to UI elements.\n",
    "Here is a very trivial example of the use of a callback in Python. First define two functions, \n",
    "the callback and the calling code, then pass the callback function into the calling code.\n",
    "'''\n",
    "def my_callback(val):\n",
    "    print(\"function my_callback was called with {0}\".format(val))\n",
    "\n",
    "def caller(val, func):\n",
    "    func(val)\n",
    "\n",
    "for i in range(5):\n",
    "     caller(i, my_callback)"
   ]
  },
  {
   "cell_type": "markdown",
   "metadata": {},
   "source": [
    "### Classes 還是 object\n",
    "This is a book"
   ]
  },
  {
   "cell_type": "code",
   "execution_count": null,
   "metadata": {
    "collapsed": true
   },
   "outputs": [],
   "source": [
    "class Department(object):\n",
    "    headcount = 10\n",
    "    def __init__(self):\n",
    "        self.patent = 3\n",
    "    def get_patent_no(self, arg1, arg2):\n",
    "        return self.patent\n",
    "\n",
    "# This is the class instantiation\n",
    "ben_dpt = Department()\n",
    "ben_dpt.get_patent_no(1, 2)\n",
    "# 3\n",
    "\n",
    "# This variable is shared by all instances.\n",
    "jonse_dpt = Department()\n",
    "ben_dpt.headcount\n",
    "# 10\n",
    "jonse_dpt.headcount\n",
    "#10\n",
    "\n",
    "# Note how we use the class name instead of the instance.\n",
    "Department.headcount = 30\n",
    "print(ben_dpt.headcount)\n",
    "#30\n",
    "print(jonse_dpt.headcount)\n",
    "#30\n",
    "\n",
    "# This will not update the variable on the class,\n",
    "# instead it will bind a new object to the old\n",
    "# variable name.\n",
    "ben_dpt.headcount = 10\n",
    "ben_dpt.headcount\n",
    "#10\n",
    "jonse_dpt.headcount\n",
    "#30\n",
    "\n",
    "Department.headcount = 50\n",
    "# This has not changed, because \"headcount\" is\n",
    "# now an instance variable.\n",
    "print(ben_dpt.headcount)\n",
    "#10\n",
    "print(jonse_dpt.headcount)\n",
    "#50"
   ]
  },
  {
   "cell_type": "code",
   "execution_count": null,
   "metadata": {
    "collapsed": true
   },
   "outputs": [],
   "source": [
    "class Department(object):\n",
    "    headcount = 10\n",
    "    def __init__(self):\n",
    "        self.patent = 3\n",
    "    def get_patent_no(self, arg1, arg2):\n",
    "        return self.patent\n",
    "    \n",
    "class OtherDpt(Department):\n",
    "    # The \"self\" argument is passed automatically\n",
    "    # and refers to the class instance, so you can set\n",
    "    # instance variables as above, but from inside the class.\n",
    "    male = 9\n",
    "    female = 1  \n",
    "    def __init__(self, arg1):\n",
    "        self.patent = 3\n",
    "        print(arg1)\n",
    "\n",
    "department_instance = OtherDpt(\"hello\")\n",
    "# hello\n",
    "\n",
    "# department_instance.get_patent_no(1, 2)\n",
    "#3\n",
    "\n",
    "\n",
    "# This class doesn't have a .test member, but we can add one to the instance anyway. \n",
    "# Note that this will only be a member of department_instance.\n",
    "department_instance.pet = 7\n",
    "print (department_instance.pet)\n",
    "#7"
   ]
  },
  {
   "cell_type": "markdown",
   "metadata": {},
   "source": [
    "### Exceptions （例外處理）"
   ]
  },
  {
   "cell_type": "code",
   "execution_count": null,
   "metadata": {
    "collapsed": true
   },
   "outputs": [],
   "source": [
    "def some_function():\n",
    "    try:\n",
    "        # Division by zero raises an exception\n",
    "        10 / 0\n",
    "    except ZeroDivisionError:\n",
    "        print(\"Oops, invalid.\")\n",
    "    else:\n",
    "        # Exception didn't occur, we're good.\n",
    "        pass\n",
    "    finally:\n",
    "        # This is executed after the code block is run\n",
    "        # and all exceptions have been handled, even\n",
    "        # if a new exception is raised while handling.\n",
    "        print(\"We're done with that.\")\n",
    "\n",
    "some_function()\n",
    "#Oops, invalid.\n",
    "#We're done with that."
   ]
  },
  {
   "cell_type": "markdown",
   "metadata": {},
   "source": [
    "### Import\n",
    "1. import [libname]\n",
    "2. from [libname] import [funcname] for individual functions."
   ]
  },
  {
   "cell_type": "code",
   "execution_count": null,
   "metadata": {
    "collapsed": true
   },
   "outputs": [],
   "source": [
    "import random\n",
    "from time import clock\n",
    "\n",
    "randomint = random.randint(1, 100)\n",
    "print(randomint)\n",
    "\n",
    "#64"
   ]
  },
  {
   "cell_type": "markdown",
   "metadata": {},
   "source": [
    "### File I/O"
   ]
  },
  {
   "cell_type": "code",
   "execution_count": null,
   "metadata": {
    "collapsed": true
   },
   "outputs": [],
   "source": [
    "# converting data structures to strings using the pickle library\n",
    "import pickle \n",
    "\n",
    "\n",
    "myfile = open(r\"text.txt\", \"w\")\n",
    "myfile.write(\"This is a sample string\")\n",
    "myfile.close()\n",
    "\n",
    "myfile = open(r\"text.txt\")\n",
    "print(myfile.read())\n",
    "'This is a sample string'\n",
    "myfile.close()\n",
    "\n",
    "\n",
    "\n",
    "\n",
    "mylist = [\"This\", \"is\", 4, 13327]\n",
    "# Open the file C:\\\\binary.dat for writing. The letter r before the\n",
    "# filename string is used to prevent backslash escaping.\n",
    "myfile = open(r\"binary.dat\", \"wb\")\n",
    "pickle.dump(mylist, myfile)\n",
    "myfile.close()\n",
    "\n",
    "# Open the file for reading.\n",
    "myfile = open(r\"binary.dat\",\"rb\")\n",
    "loadedlist = pickle.load(myfile)\n",
    "myfile.close()\n",
    "print(loadedlist)\n",
    "# ['This', 'is', 4, 13327]\n",
    "\n",
    "\n"
   ]
  },
  {
   "cell_type": "markdown",
   "metadata": {},
   "source": [
    "### Miscellaneous\n",
    "1. Conditions can be chained: 1 < a < 3 checks that a is both less than 3 and greater than 1.\n",
    "2. You can use del to delete variables or items in arrays.\n",
    "3. List comprehensions provide a powerful way to create and manipulate lists. They consist of an expression followed by a for clause followed by zero or more if or for clauses, like so:\n",
    "4. Global variables"
   ]
  },
  {
   "cell_type": "code",
   "execution_count": null,
   "metadata": {
    "collapsed": true
   },
   "outputs": [],
   "source": [
    "lst1 = [1, 2, 3]\n",
    "lst2 = [3, 4, 5]\n",
    "print([x * y for x in lst1 for y in lst2])\n",
    "# [3, 4, 5, 6, 8, 10, 9, 12, 15]\n",
    "\n",
    "\n",
    "\n",
    "print([x for x in lst1 if 4 > x > 1])\n",
    "#[2, 3]\n",
    "\n",
    "\n",
    "\n",
    "# Check if a condition is true for any items.\n",
    "# \"any\" returns true if any item in the list is true.\n",
    "any([i % 3 for i in [3, 3, 4, 4, 3]])\n",
    "#True\n",
    "# This is because 4 % 3 = 1, and 1 is true, so any()\n",
    "# returns True.\n",
    "\n",
    "\n",
    "\n",
    "# Check for how many items a condition is true.\n",
    "print (sum(1 for i in [3, 3, 4, 4, 3, 6, 7, 8, 9, 5, 4] if i == 4))\n",
    "#3\n",
    "del lst1[0]\n",
    "print(lst1)\n",
    "#[2, 3]\n",
    "del lst1"
   ]
  },
  {
   "cell_type": "code",
   "execution_count": null,
   "metadata": {
    "collapsed": true
   },
   "outputs": [],
   "source": [
    "sum([1,2])"
   ]
  },
  {
   "cell_type": "code",
   "execution_count": null,
   "metadata": {
    "collapsed": true
   },
   "outputs": [],
   "source": [
    "#### Global variables\n",
    "number = 5\n",
    "\n",
    "def myfunc():\n",
    "    # This will print 5.\n",
    "    print(number)\n",
    "\n",
    "def anotherfunc():\n",
    "    # This raises an exception because the variable has not\n",
    "    # been bound before printing. Python knows that it an\n",
    "    # object will be bound to it later and creates a new, local\n",
    "    # object instead of accessing the global one.\n",
    "    print(number)\n",
    "    number = 3\n",
    "\n",
    "def yetanotherfunc():\n",
    "    global number\n",
    "    # This will correctly change the global.\n",
    "    number = 3"
   ]
  },
  {
   "cell_type": "code",
   "execution_count": null,
   "metadata": {
    "collapsed": true
   },
   "outputs": [],
   "source": []
  },
  {
   "cell_type": "code",
   "execution_count": null,
   "metadata": {
    "collapsed": true
   },
   "outputs": [],
   "source": []
  },
  {
   "cell_type": "code",
   "execution_count": null,
   "metadata": {
    "collapsed": true
   },
   "outputs": [],
   "source": []
  },
  {
   "cell_type": "code",
   "execution_count": null,
   "metadata": {
    "collapsed": true
   },
   "outputs": [],
   "source": []
  },
  {
   "cell_type": "code",
   "execution_count": null,
   "metadata": {
    "collapsed": true
   },
   "outputs": [],
   "source": []
  },
  {
   "cell_type": "code",
   "execution_count": null,
   "metadata": {
    "collapsed": true
   },
   "outputs": [],
   "source": []
  },
  {
   "cell_type": "markdown",
   "metadata": {
    "collapsed": true
   },
   "source": [
    "## Python - 十分鐘入門\n",
    "\n",
    "http://tech-marsw.logdown.com/blog/2014/09/03/getting-started-with-python-in-ten-minute"
   ]
  },
  {
   "cell_type": "markdown",
   "metadata": {},
   "source": [
    "## Learn X in Y minutes\n",
    "\n",
    "https://learnxinyminutes.com/docs/python/"
   ]
  },
  {
   "cell_type": "markdown",
   "metadata": {
    "collapsed": true
   },
   "source": [
    "## Python 101 快速入門教學\n",
    "\n",
    "http://blog.techbridge.cc/2016/12/17/python101-tutorial/"
   ]
  },
  {
   "cell_type": "markdown",
   "metadata": {
    "collapsed": true
   },
   "source": [
    "## 給程序員的快速Python入門\n",
    "\n",
    "http://mropengate.blogspot.tw/2015/08/python.html"
   ]
  }
 ],
 "metadata": {
  "kernelspec": {
   "display_name": "Python 3",
   "language": "python",
   "name": "python3"
  },
  "language_info": {
   "codemirror_mode": {
    "name": "ipython",
    "version": 3
   },
   "file_extension": ".py",
   "mimetype": "text/x-python",
   "name": "python",
   "nbconvert_exporter": "python",
   "pygments_lexer": "ipython3",
   "version": "3.5.2"
  }
 },
 "nbformat": 4,
 "nbformat_minor": 2
}
