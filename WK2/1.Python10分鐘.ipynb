{
 "cells": [
  {
   "cell_type": "markdown",
   "metadata": {
    "heading_collapsed": true
   },
   "source": [
    "## Learn Python Programming \n",
    "![5.png](https://github.com/usistlab/LearnPython/blob/master/images/5.png?raw=true)\n",
    "\n",
    "https://www.programiz.com/python-programming"
   ]
  },
  {
   "cell_type": "code",
   "execution_count": null,
   "metadata": {
    "collapsed": true,
    "hidden": true,
    "scrolled": true
   },
   "outputs": [],
   "source": [
    "# 解釋 Jupyter 如何故障排除\n",
    "\n",
    "import sys\n",
    "def print(x):\n",
    "    sys.stdout.write(\"MyPrint = \" + x)\n",
    "    \n",
    "print (\"Hello\")"
   ]
  },
  {
   "cell_type": "markdown",
   "metadata": {
    "collapsed": true
   },
   "source": [
    "## Tutorial - Learn Python in 10 minutes\n",
    "\n",
    "https://www.stavros.io/tutorials/python/"
   ]
  },
  {
   "cell_type": "markdown",
   "metadata": {
    "heading_collapsed": true
   },
   "source": [
    "### Properties\n",
    "Python is  \n",
    " 1. strongly typed  \n",
    " 2. dynamically  \n",
    " 3. implicitly typed\n",
    " 4. case sensitive  \n",
    " 5. object-oriented"
   ]
  },
  {
   "cell_type": "code",
   "execution_count": null,
   "metadata": {
    "collapsed": true,
    "hidden": true,
    "scrolled": true
   },
   "outputs": [],
   "source": [
    "#strongly typed\n",
    "a = 3\n",
    "b = 3.0\n",
    "c = a*b\n",
    "print (type(a), type(b), type(c))"
   ]
  },
  {
   "cell_type": "code",
   "execution_count": null,
   "metadata": {
    "collapsed": true,
    "hidden": true,
    "scrolled": true
   },
   "outputs": [],
   "source": [
    "#implicitly typed\n",
    "s = \"I am ben\"\n",
    "a = 3\n",
    "combine = s + a\n",
    "print(combine)"
   ]
  },
  {
   "cell_type": "code",
   "execution_count": null,
   "metadata": {
    "collapsed": true,
    "hidden": true
   },
   "outputs": [],
   "source": [
    "#dynamically\n",
    "s = \"This is string\"\n",
    "print(s)\n",
    "s = 38\n",
    "print(s, type(s))"
   ]
  },
  {
   "cell_type": "code",
   "execution_count": null,
   "metadata": {
    "collapsed": true,
    "hidden": true
   },
   "outputs": [],
   "source": [
    "#case sensitive \n",
    "Alger = \"Alger has\"\n",
    "alger = 100\n",
    "print (Alger,alger,\" dollars\" )"
   ]
  },
  {
   "cell_type": "code",
   "execution_count": null,
   "metadata": {
    "collapsed": true,
    "hidden": true
   },
   "outputs": [],
   "source": [
    "#object-oriented\n",
    "alger = -100\n",
    "dir(alger)\n",
    "print(alger.__abs__())"
   ]
  },
  {
   "cell_type": "markdown",
   "metadata": {
    "heading_collapsed": true
   },
   "source": [
    "### Getting help\n",
    "```\n",
    "1. help(<object>\\)\n",
    "2. dir(), which shows you all the object’s methods\n",
    "3.  <object>.__doc__, which shows you its documentation \n",
    "```"
   ]
  },
  {
   "cell_type": "code",
   "execution_count": null,
   "metadata": {
    "collapsed": true,
    "hidden": true
   },
   "outputs": [],
   "source": [
    "alger =100\n",
    "help(alger)"
   ]
  },
  {
   "cell_type": "markdown",
   "metadata": {
    "hidden": true
   },
   "source": [
    "+++\n",
    "#### 物件 (Object)\n",
    "\n",
    "This is a book  \n",
    "![python013.png](https://github.com/usistlab/LearnPython/blob/master/images/python013.png?raw=true)\n",
    "\n",
    "\n",
    "屬性   \n",
    "方法  \n",
    "事件  \n",
    "\n",
    "https://youtu.be/Jcu4taUgp-E"
   ]
  },
  {
   "cell_type": "code",
   "execution_count": null,
   "metadata": {
    "collapsed": true,
    "hidden": true
   },
   "outputs": [],
   "source": [
    "alger = 100\n",
    "dir(alger)"
   ]
  },
  {
   "cell_type": "code",
   "execution_count": null,
   "metadata": {
    "collapsed": true,
    "hidden": true
   },
   "outputs": [],
   "source": [
    "help(list)\n",
    "dir(list)"
   ]
  },
  {
   "cell_type": "markdown",
   "metadata": {
    "heading_collapsed": true
   },
   "source": [
    "### Syntax  \n",
    "\n",
    "1. statement, expression  \n",
    "2. blocks,  indentation  \n",
    "3. comments, multi-line comments,\n",
    "4. values assignment, increment/decrement values \n",
    " - different between = and ==\n",
    "5. multiple variables on one line"
   ]
  },
  {
   "cell_type": "code",
   "execution_count": null,
   "metadata": {
    "collapsed": true,
    "hidden": true
   },
   "outputs": [],
   "source": [
    "# 設定變數\n",
    "start = 10\n",
    "end = 100\n",
    "\n",
    "#從10開始一直加到100\n",
    "for i in range(start,end):\n",
    "    x+=i\n",
    "print (x)\n",
    "\n",
    "'''\n",
    "梯形公式\n",
    "[ 上底 + 下底 ] * 高 / 2 \n",
    "'''\n",
    "y = (start+end)*(end-start)/2\n",
    "print(y)\n",
    "\n",
    "# 比較運算式\n",
    "if  x == y :\n",
    "    print (\"you are excellent\")\n",
    "    "
   ]
  },
  {
   "cell_type": "code",
   "execution_count": null,
   "metadata": {
    "collapsed": true,
    "hidden": true
   },
   "outputs": [],
   "source": [
    "start, end, x = 1,2,3\n",
    "print(start, end, x)"
   ]
  },
  {
   "cell_type": "markdown",
   "metadata": {
    "heading_collapsed": true
   },
   "source": [
    "### Data types\n",
    "1. lists []   \n",
    "2. tuples ()  \n",
    "3. dictionaries  {}  \n",
    "4. sets "
   ]
  },
  {
   "cell_type": "code",
   "execution_count": null,
   "metadata": {
    "collapsed": true,
    "hidden": true
   },
   "outputs": [],
   "source": [
    "sample = [1, [\"another\", \"list\"], (\"a\", \"tuple\")]\n",
    "mylist = [\"List item 1\", 2, 3.14]\n",
    "mylist[0] = \"List item 1 again\" # We're changing the item.\n",
    "mylist[-1] = 3.21 # Here, we refer to the last item.\n",
    "\n",
    "mydict = {\"Key 1\": \"Value 1\", 2: 3, \"pi\": 3.14}\n",
    "mydict[\"pi\"] = 3.15 # This is how you change dictionary values.\n",
    "\n",
    "mytuple = (1, 2, 3)\n",
    "\n",
    "myfunction = len\n",
    "print(myfunction(mylist))"
   ]
  },
  {
   "cell_type": "code",
   "execution_count": null,
   "metadata": {
    "collapsed": true,
    "hidden": true,
    "scrolled": true
   },
   "outputs": [],
   "source": [
    "# : 的用法\n",
    "mylist = [1, 2 , \"I am in the middle\", 3, 3.14]\n",
    "print(mylist[:])\n",
    "\n",
    "print(mylist[0:2]) # Indexing is inclusive-exclusive\n",
    "\n",
    "print(mylist[-3:-1])\n",
    "\n",
    "print(mylist[1:])\n",
    "\n",
    "print(mylist[:-1]) # -1 is the last item\n",
    "\n",
    "# Adding a third parameter, \"step\" will have Python step in\n",
    "# N item increments, rather than 1.\n",
    "# E.g., this will return the first item, then go to the third and\n",
    "# return that (so, items 0 and 2 in 0-indexing).\n",
    "print(mylist[::2])"
   ]
  },
  {
   "cell_type": "markdown",
   "metadata": {
    "heading_collapsed": true
   },
   "source": [
    "### Strings"
   ]
  },
  {
   "cell_type": "code",
   "execution_count": null,
   "metadata": {
    "collapsed": true,
    "hidden": true
   },
   "outputs": [],
   "source": [
    "myLab = \"STLab\"\n",
    "\n",
    "print(\"Name: %s\\\n",
    "Number: %s\\\n",
    "String: %s\" % (myLab, 3, 3 * \"-\"))\n",
    "\n",
    "\n",
    "strString = \"\"\"This is\n",
    "a multiline\n",
    "string.\"\"\"\n",
    "\n",
    "# WARNING: Watch out for the trailing s in \"%(key)s\".\n",
    "print(\"This %(verb)s a %(noun)s.\" % {\"noun\": \"test\", \"verb\": \"is\"})\n"
   ]
  },
  {
   "cell_type": "markdown",
   "metadata": {
    "collapsed": true
   },
   "source": [
    "### Flow control statements"
   ]
  },
  {
   "cell_type": "markdown",
   "metadata": {},
   "source": [
    "```python\n",
    "rangelist = range(10)\n",
    "print(rangelist)\n",
    "```\n",
    "\n",
    "### for loop\n",
    "```python\n",
    "for i in rangelist :\n",
    "    print (i)\n",
    "```\n",
    "\n",
    "### for loop mix with if..elif..else ( because we need to break it sometimes)\n",
    "```python\n",
    "for number in rangelist:\n",
    "    # Check if number is one of\n",
    "    # the numbers in the tuple.\n",
    "    if number in (3, 4, 7, 9):\n",
    "        # \"Break\" terminates a for without\n",
    "        # executing the \"else\" clause.\n",
    "        break\n",
    "    else:\n",
    "        # \"Continue\" starts the next iteration\n",
    "        # of the loop. It's rather useless here,\n",
    "        # as it's the last statement of the loop.\n",
    "        continue\n",
    "else:\n",
    "    # The \"else\" clause is optional and is\n",
    "    # executed only if the loop didn't \"break\".\n",
    "    pass # Do nothing\n",
    "```    \n",
    "### for...else pair (http://book.pythontips.com/en/latest/for_-_else.html)\n",
    "```python\n",
    "for item in container:\n",
    "    if search_something(item):\n",
    "        # Found it!\n",
    "        process(item)\n",
    "        break\n",
    "else:\n",
    "    # Didn't find anything..\n",
    "    not_found_in_container()\n",
    "```  \n",
    "\n",
    "\n",
    "### if...elif..else\n",
    "```python\n",
    "if rangelist[1] == 2:\n",
    "    print(\"The second item (lists are 0-based) is 2\")\n",
    "elif rangelist[1] == 3:\n",
    "    print(\"The second item (lists are 0-based) is 3\")\n",
    "else:\n",
    "    print(\"Dunno\")\n",
    "```\n",
    "\n",
    "### while  \n",
    "```python  \n",
    "while rangelist[1] == 1:\n",
    "    pass\n",
    "```\n",
    "\n",
    "### do...while 怎做? (至少執行一遍）"
   ]
  },
  {
   "cell_type": "code",
   "execution_count": null,
   "metadata": {
    "collapsed": true
   },
   "outputs": [],
   "source": [
    "while true:\n",
    "    \n",
    "    if cond == xyz : break"
   ]
  },
  {
   "cell_type": "code",
   "execution_count": null,
   "metadata": {
    "collapsed": true,
    "scrolled": false
   },
   "outputs": [],
   "source": [
    "rangelist = range(10)\n",
    "print(rangelist)\n",
    "\n",
    "for i in rangelist :\n",
    "    print (i, end =\"\")\n",
    "print()\n",
    "\n",
    "for number in rangelist:\n",
    "    # Check if number is one of\n",
    "    # the numbers in the tuple.\n",
    "    if number in (3, 4, 7, 9):\n",
    "#   if number in (10,11):\n",
    "        print(\"3479\")\n",
    "        break\n",
    "    else:\n",
    "        print (\"12568\")\n",
    "        continue\n",
    "else:\n",
    "    print (\"if the loop didn't 'break', then you will see me here \")\n",
    "    pass # Do nothing\n",
    "\n",
    "print (\"the for loop is end of this line\")\n"
   ]
  },
  {
   "cell_type": "markdown",
   "metadata": {},
   "source": [
    "![Dice](https://cdn.tutsplus.com/vector/uploads/legacy/tuts/165_Shiny_Dice/23.jpg)"
   ]
  },
  {
   "cell_type": "markdown",
   "metadata": {},
   "source": [
    "### 迭代器 Iterator\n",
    "\n",
    "map()\n",
    "filter()"
   ]
  },
  {
   "cell_type": "code",
   "execution_count": 1,
   "metadata": {},
   "outputs": [
    {
     "name": "stdout",
     "output_type": "stream",
     "text": [
      "ABCDEFGHIJKLMNOPQRSTUVWXYZ\n",
      "10  11  12  13  14  15  16  17  18  19  20  21  22  23  24  25  26  27  28  29  30  31  32  33  34  35  "
     ]
    }
   ],
   "source": [
    "# 把身份證字母轉換為數字\n",
    "def cal(x):\n",
    "    if ord(x) < 65 :\n",
    "        return \"This is not valid\"\n",
    "    else :\n",
    "        ID1 = range(10,36)\n",
    "    return ID1[ord(x)-55]\n",
    "\n",
    "# Test = list(\"ABCDEFGHIJKLMNOPQRSTUVWXYZ\")\n",
    "Test = \"ABCDEFGHIJKLMNOPQRSTUVWXYZ\"\n",
    "\n",
    "print (Test)\n",
    "\n",
    "ID2Digit = map(cal, Test) # 使用map, 留下第一個參數的回傳值\n",
    "\n",
    "for i in ID2Digit:\n",
    "    print(i,\" \", end=\"\")"
   ]
  },
  {
   "cell_type": "code",
   "execution_count": null,
   "metadata": {
    "collapsed": true
   },
   "outputs": [],
   "source": [
    "print (ord(\"A\"))"
   ]
  },
  {
   "cell_type": "code",
   "execution_count": 2,
   "metadata": {},
   "outputs": [
    {
     "name": "stdout",
     "output_type": "stream",
     "text": [
      "Prime numbers(1-100):\n",
      "2,3,5,7,11,13,17,19,23,29,31,37,41,43,47,53,59,61,67,71,73,79,83,89,97,\n"
     ]
    }
   ],
   "source": [
    "#列出1~100之間的質數\n",
    "\n",
    "def isPrime(n): \n",
    "    if n <= 1: \n",
    "        return False \n",
    "    i = 2 \n",
    "    while i*i <= n:        # 這是啥意思？\n",
    "        if n % i == 0: \n",
    "            return False \n",
    "        i += 1 \n",
    "    return True \n",
    "\n",
    "a, b = 1,100\n",
    "numbers = range(a,b)\n",
    "\n",
    "prime_numbers = filter(isPrime, numbers) # 使用 filter, 留下第二個參數\n",
    "\n",
    "print(\"Prime numbers({}-{}):\".format(a,b))\n",
    "for prime_number in prime_numbers:\n",
    "    print(prime_number, end=\",\")\n",
    "print()"
   ]
  },
  {
   "cell_type": "markdown",
   "metadata": {},
   "source": [
    "### Functions"
   ]
  },
  {
   "cell_type": "code",
   "execution_count": null,
   "metadata": {
    "collapsed": true
   },
   "outputs": [],
   "source": [
    "# Same as def funcvar(x): return x + 1\n",
    "funcvar = lambda x: x + 1\n",
    "print(funcvar(1))\n",
    "\n",
    "# an_int and a_string are optional, they have default values\n",
    "# if one is not passed (2 and \"A default string\", respectively).\n",
    "def passing_example(a_list, an_int=2, a_string=\"A default string\"):\n",
    "    a_list.append(\"A new item\")\n",
    "    an_int = 4\n",
    "    return a_list, an_int, a_string\n",
    "\n",
    "my_list = [1, 2, 3]\n",
    "my_int = 10\n",
    "\n",
    "print(passing_example(my_list, my_int))\n",
    "\n",
    "print(my_list)\n",
    "\n",
    "print(my_int)\n",
    "\n",
    "# 呼救 http://www.pythontutor.com/visualize.html#mode=edit"
   ]
  },
  {
   "cell_type": "code",
   "execution_count": null,
   "metadata": {
    "collapsed": true
   },
   "outputs": [],
   "source": [
    "'''\n",
    "A classic use of callbacks in Python (and other languages) is to assign events to UI elements.\n",
    "Here is a very trivial example of the use of a callback in Python. First define two functions, \n",
    "the callback and the calling code, then pass the callback function into the calling code.\n",
    "'''\n",
    "def my_callback(val):\n",
    "    print(\"function my_callback was called with {0}\".format(val))\n",
    "\n",
    "def caller(val, func):\n",
    "    func(val)\n",
    "\n",
    "for i in range(5):\n",
    "     caller(i, my_callback)"
   ]
  },
  {
   "cell_type": "markdown",
   "metadata": {
    "heading_collapsed": true
   },
   "source": [
    "### Classes 還是 object\n",
    "This is a book"
   ]
  },
  {
   "cell_type": "code",
   "execution_count": null,
   "metadata": {
    "collapsed": true,
    "hidden": true
   },
   "outputs": [],
   "source": [
    "class Department(object):\n",
    "    headcount = 10\n",
    "    def __init__(self):\n",
    "        self.patent = 3\n",
    "    def get_patent_no(self, arg1, arg2):\n",
    "        return self.patent\n",
    "\n",
    "# This is the class instantiation\n",
    "ben_dpt = Department()\n",
    "ben_dpt.get_patent_no(1, 2)\n",
    "# 3\n",
    "\n",
    "# This variable is shared by all instances.\n",
    "jonse_dpt = Department()\n",
    "ben_dpt.headcount\n",
    "# 10\n",
    "jonse_dpt.headcount\n",
    "#10\n",
    "\n",
    "# Note how we use the class name instead of the instance.\n",
    "Department.headcount = 30\n",
    "print(ben_dpt.headcount)\n",
    "#30\n",
    "print(jonse_dpt.headcount)\n",
    "#30\n",
    "\n",
    "# This will not update the variable on the class,\n",
    "# instead it will bind a new object to the old\n",
    "# variable name.\n",
    "ben_dpt.headcount = 10\n",
    "ben_dpt.headcount\n",
    "#10\n",
    "jonse_dpt.headcount\n",
    "#30\n",
    "\n",
    "Department.headcount = 50\n",
    "# This has not changed, because \"headcount\" is\n",
    "# now an instance variable.\n",
    "print(ben_dpt.headcount)\n",
    "#10\n",
    "print(jonse_dpt.headcount)\n",
    "#50"
   ]
  },
  {
   "cell_type": "code",
   "execution_count": null,
   "metadata": {
    "collapsed": true,
    "hidden": true
   },
   "outputs": [],
   "source": [
    "class Department(object):\n",
    "    headcount = 10\n",
    "    def __init__(self):\n",
    "        self.patent = 3\n",
    "    def get_patent_no(self, arg1, arg2):\n",
    "        return self.patent\n",
    "    \n",
    "class OtherDpt(Department):\n",
    "    # The \"self\" argument is passed automatically\n",
    "    # and refers to the class instance, so you can set\n",
    "    # instance variables as above, but from inside the class.\n",
    "    male = 9\n",
    "    female = 1  \n",
    "    def __init__(self, arg1):\n",
    "        self.patent = 3\n",
    "        print(arg1)\n",
    "\n",
    "department_instance = OtherDpt(\"hello\")\n",
    "# hello\n",
    "\n",
    "# department_instance.get_patent_no(1, 2)\n",
    "#3\n",
    "\n",
    "\n",
    "# This class doesn't have a .test member, but we can add one to the instance anyway. \n",
    "# Note that this will only be a member of department_instance.\n",
    "department_instance.pet = 7\n",
    "print (department_instance.pet)\n",
    "#7"
   ]
  },
  {
   "cell_type": "markdown",
   "metadata": {},
   "source": [
    "### Exceptions （例外處理）"
   ]
  },
  {
   "cell_type": "code",
   "execution_count": null,
   "metadata": {
    "collapsed": true
   },
   "outputs": [],
   "source": [
    "def some_function():\n",
    "    try:\n",
    "        # Division by zero raises an exception\n",
    "        10 / 0\n",
    "    except ZeroDivisionError:\n",
    "        print(\"Oops, invalid.\")\n",
    "    else:\n",
    "        # Exception didn't occur, we're good.\n",
    "        pass\n",
    "    finally:\n",
    "        # This is executed after the code block is run\n",
    "        # and all exceptions have been handled, even\n",
    "        # if a new exception is raised while handling.\n",
    "        print(\"We're done with that.\")\n",
    "\n",
    "some_function()\n",
    "\n",
    "#Oops, invalid.\n",
    "#We're done with that."
   ]
  },
  {
   "cell_type": "code",
   "execution_count": null,
   "metadata": {
    "collapsed": true
   },
   "outputs": [],
   "source": [
    "# 以下會有幾種可能的錯誤發生？\n",
    "\n",
    "age = input (\"What is your age? \") # string or integer?\n",
    "\n",
    "# But how can you avoid user input the incorrect data?\n",
    "\n",
    "if age < 15 :\n",
    "    print (\"You are too young\")"
   ]
  },
  {
   "cell_type": "code",
   "execution_count": 1,
   "metadata": {
    "scrolled": true
   },
   "outputs": [
    {
     "name": "stdout",
     "output_type": "stream",
     "text": [
      "What is your age? 12\n",
      "What is your age? -1\n",
      "You are too young\n"
     ]
    }
   ],
   "source": [
    "while True:\n",
    "    try:\n",
    "       age = int(input (\"What is your age? \")) # 這個迴圈要怎樣讓它停下來？\n",
    "    except:\n",
    "        print (\"Please enter a number\")\n",
    "    if age == -1 : break\n",
    "\n",
    "if age < 15 :\n",
    "    print (\"You are too young\")        "
   ]
  },
  {
   "cell_type": "markdown",
   "metadata": {
    "heading_collapsed": true
   },
   "source": [
    "### Import （模組）\n",
    "\n",
    "1. import [libname]\n",
    "2. from [libname] import [funcname] for individual functions."
   ]
  },
  {
   "cell_type": "code",
   "execution_count": null,
   "metadata": {
    "collapsed": true,
    "hidden": true
   },
   "outputs": [],
   "source": [
    "import random\n",
    "from time import clock\n",
    "\n",
    "randomint = random.randint(1, 100)\n",
    "print(randomint)\n",
    "\n",
    "#64"
   ]
  },
  {
   "cell_type": "markdown",
   "metadata": {
    "heading_collapsed": true
   },
   "source": [
    "### File I/O （檔案）"
   ]
  },
  {
   "cell_type": "code",
   "execution_count": 3,
   "metadata": {
    "hidden": true
   },
   "outputs": [
    {
     "ename": "TypeError",
     "evalue": "write() argument must be str, not list",
     "output_type": "error",
     "traceback": [
      "\u001b[0;31m---------------------------------------------------------------------------\u001b[0m",
      "\u001b[0;31mTypeError\u001b[0m                                 Traceback (most recent call last)",
      "\u001b[0;32m<ipython-input-3-fb508f2d29d3>\u001b[0m in \u001b[0;36m<module>\u001b[0;34m()\u001b[0m\n\u001b[1;32m     12\u001b[0m \u001b[0;34m\u001b[0m\u001b[0m\n\u001b[1;32m     13\u001b[0m \u001b[0mmyfile\u001b[0m\u001b[0;34m.\u001b[0m\u001b[0mwrite\u001b[0m\u001b[0;34m(\u001b[0m\u001b[0;34m\"This is a sample string\"\u001b[0m\u001b[0;34m)\u001b[0m\u001b[0;34m\u001b[0m\u001b[0m\n\u001b[0;32m---> 14\u001b[0;31m \u001b[0mmyfile\u001b[0m\u001b[0;34m.\u001b[0m\u001b[0mwrite\u001b[0m\u001b[0;34m(\u001b[0m\u001b[0mmylist\u001b[0m\u001b[0;34m)\u001b[0m\u001b[0;34m\u001b[0m\u001b[0m\n\u001b[0m\u001b[1;32m     15\u001b[0m \u001b[0mmyfile\u001b[0m\u001b[0;34m.\u001b[0m\u001b[0mclose\u001b[0m\u001b[0;34m(\u001b[0m\u001b[0;34m)\u001b[0m\u001b[0;34m\u001b[0m\u001b[0m\n\u001b[1;32m     16\u001b[0m \u001b[0;34m\u001b[0m\u001b[0m\n",
      "\u001b[0;31mTypeError\u001b[0m: write() argument must be str, not list"
     ]
    }
   ],
   "source": [
    "# converting data structures to strings using the pickle library\n",
    "\n",
    "import pickle \n",
    "\n",
    "# Open the file C:\\\\binary.dat for writing. The letter r before the\n",
    "# filename string is used to prevent backslash escaping.\n",
    "\n",
    "# fp = open( \"檔案名稱\", \"開啟模式\")\n",
    "\n",
    "myfile = open(r\"text.txt\", \"w\")\n",
    "mylist = [\"This\", \"is\", 4, 13327]\n",
    "\n",
    "myfile.write(\"This is a sample string\")\n",
    "myfile.write(mylist)\n",
    "myfile.close()\n",
    "\n",
    "myfile = open(r\"text.txt\")   #檔案指標, handler\n",
    "print(myfile.read())\n",
    "'This is a sample string'\n",
    "myfile.close()\n",
    "\n",
    "\n",
    "\n",
    "\n",
    "mylist = [\"This\", \"is\", 4, 13327]\n",
    "# Open the file C:\\\\binary.dat for writing. The letter r before the\n",
    "# filename string is used to prevent backslash escaping.\n",
    "myfile = open(r\"binary.dat\", \"wb\") #假如你有信用卡 ID 和 PWD 要除存, 應該使用這種格式\n",
    "pickle.dump(mylist, myfile)\n",
    "myfile.close()\n",
    "\n",
    "# Open the file for reading.\n",
    "myfile = open(r\"binary.dat\",\"rb\")\n",
    "loadedlist = pickle.load(myfile)\n",
    "myfile.close()\n",
    "print(loadedlist)\n",
    "# ['This', 'is', 4, 13327]"
   ]
  },
  {
   "cell_type": "code",
   "execution_count": null,
   "metadata": {
    "collapsed": true,
    "hidden": true,
    "scrolled": false
   },
   "outputs": [],
   "source": [
    "### os.path\n",
    "\n",
    "import os.path\n",
    "\n",
    "print (\"處理檔案\")\n",
    "a = os.path.abspath (\"test.txt\") # 傳回完整的路徑名稱\n",
    "print(\"abspath=\", a)\n",
    "print(\"basename=\", os.path.basename(a))\n",
    "print(\"dirname=\", os.path.dirname(a))\n",
    "\n",
    "print (\"處理路徑\")\n",
    "a = os.path.abspath (\".\") # 傳回路徑的完整名稱\n",
    "print(\"abspath=\", a)\n",
    "print(\"basename=\", os.path.basename(a))\n",
    "print(\"dirname=\", os.path.dirname(a))\n",
    "\n",
    "print (\"分割路徑\")\n",
    "a = os.path.abspath (\"test.txt\") # 傳回完整的路徑名稱\n",
    "print(\"split=\", os.path.split(a))\n",
    "print(\"splitdrive=\", os.path.splitdrive(a))\n"
   ]
  },
  {
   "cell_type": "code",
   "execution_count": null,
   "metadata": {
    "collapsed": true,
    "hidden": true
   },
   "outputs": [],
   "source": [
    "# glob\n",
    "\n",
    "import glob\n",
    "files = glob.glob(\"*.*\") #列出當前路徑下的所有檔案\n",
    "for f in files:\n",
    "    print(f)"
   ]
  },
  {
   "cell_type": "code",
   "execution_count": null,
   "metadata": {
    "collapsed": true,
    "hidden": true,
    "scrolled": true
   },
   "outputs": [],
   "source": [
    "import os.path, glob\n",
    "files = glob.glob(\"*.*\") #列出當前路徑下的所有檔案\n",
    "for f in files:\n",
    "    print(os.path.abspath(f))\n",
    "print(glob.glob(\"subdir\"))"
   ]
  },
  {
   "cell_type": "code",
   "execution_count": null,
   "metadata": {
    "collapsed": true,
    "hidden": true,
    "scrolled": false
   },
   "outputs": [],
   "source": [
    "import os\n",
    "mydirtree = os.walk(\"sampletree\")\n",
    "\n",
    "for dirname, subdir, files in mydirtree :\n",
    "    print(dirname)\n",
    "    print(subdir)\n",
    "    print(files)\n",
    "    print()\n"
   ]
  },
  {
   "cell_type": "code",
   "execution_count": null,
   "metadata": {
    "collapsed": true,
    "hidden": true
   },
   "outputs": [],
   "source": [
    "# os.system\n",
    "# os.system(cmd)\n",
    "\n",
    "import os\n",
    "\n",
    "print (os.system(\"pwd\"))\n"
   ]
  },
  {
   "cell_type": "code",
   "execution_count": null,
   "metadata": {
    "collapsed": true,
    "hidden": true,
    "scrolled": true
   },
   "outputs": [],
   "source": [
    "# 讀入一個檔案看看\n",
    "\n",
    "# _*_ coding: utf-8 _*_\n",
    "# 程式 8-1.py (Python 3 version)\n",
    "\n",
    "fp = open(\"zop.txt\", \"r\") # 指定要處理的檔案\n",
    "\n",
    "zops = fp.readlines() #讀取檔案內容, 並將其內容除存到 zops 物件裡面\n",
    "\n",
    "fp.close() # 關閉檔案物件\n",
    "\n",
    "print(\"fp的型態是\", type(fp))\n",
    "print(\"zops的型態是\", type(zops))\n",
    "\n",
    "i=1\n",
    "print(\"The Zen of Python\")\n",
    "for zen in zops:\n",
    "    print(\"Zen {}: {}\".format(i, zen),end=\"\")\n",
    "    i += 1"
   ]
  },
  {
   "cell_type": "code",
   "execution_count": null,
   "metadata": {
    "collapsed": true,
    "hidden": true
   },
   "outputs": [],
   "source": [
    "# 再讀入一個檔案看看, 進階版\n",
    "\n",
    "# _*_ coding: utf-8 _*_\n",
    "# 程式 8-6.py (Python 3 version)\n",
    "\n",
    "def disp_area():\n",
    "    i = 0\n",
    "    for a in climate_data:\n",
    "        print(\"{:>2}:{:<6}\\t\".format(i,a[0]), end=\"\")  #因為地區名稱在第0個位置\n",
    "        i += 1\n",
    "        if not (i % 5): print() #每5筆資料換行\n",
    "    print()\n",
    "\n",
    "def disp_temp(data):                 # 傳入區域串列, data 是一個串列型態\n",
    "    print(\"顯示區域:\", data[0])\n",
    "    print(\"---------------------\")\n",
    "    for i in range(1,13):\n",
    "        print(\"{:>2}月均溫:{:>.1f}度\".format(i, float(data[i])))\n",
    "    print(\"本地區年均溫為{}度\".format(data[13]))\n",
    "    print(\"---------------------\")\n",
    "\n",
    "# ============================================================================================\n",
    "\n",
    "target_file = 'climate.txt'\n",
    "with open(target_file, 'r', encoding='utf-8') as fp:\n",
    "    raw_data = fp.readlines() # raw_data 也是串列資料\n",
    "\n",
    "# print( raw_data)\n",
    "    \n",
    "climate_data=[]\n",
    "for item in raw_data:\n",
    "    climate_data.append(item.rstrip('\\n').split('\\t')) #把 raw_data 再經過修改, 放入 climate_data\n",
    "\n",
    "# print(climate_data)\n",
    "\n",
    "while True:\n",
    "    disp_area()\n",
    "    area = int(input(\"請輸入你要查詢平均溫度的地區：(-1結束)\"))\n",
    "    if area == -1: break\n",
    "        \n",
    "    disp_temp(climate_data[area])\n",
    "    x = input(\"請按Enter鍵回主選單\")"
   ]
  },
  {
   "cell_type": "code",
   "execution_count": 4,
   "metadata": {
    "hidden": true
   },
   "outputs": [
    {
     "name": "stdout",
     "output_type": "stream",
     "text": [
      "過去7天全球發生重大的地震資訊：\n",
      "地點:230km SE of Sarangani, Philippines\n",
      "震度:6.5\n",
      "時間:2016-01-12 00:38:07\n",
      "地點:32km NW of Fairview, Oklahoma\n",
      "震度:4.8\n",
      "時間:2016-01-07 12:27:58\n",
      "地點:4km NNW of Banning, California\n",
      "震度:4.39\n",
      "時間:2016-01-06 22:42:34\n"
     ]
    }
   ],
   "source": [
    "# 支援JSON \n",
    "# 瞭解JSON格式 http://j796160836.pixnet.net/blog/post/30530326-%E7%9E%AD%E8%A7%A3json%E6%A0%BC%E5%BC%8F\n",
    "# 地震資訊的格式說明 http://earthquake.usgs.gov/earthquakes/feed/v1.0/geojson.php\n",
    "\n",
    "# _*_ coding: utf-8 _*_\n",
    "# 程式 8-7.py (Python 3 version)\n",
    "\n",
    "import json, datetime\n",
    "\n",
    "fp = open('earthquake.json','r')\n",
    "earthquakes = json.load(fp)\n",
    "\n",
    "print(\"過去7天全球發生重大的地震資訊：\")\n",
    "for eq in earthquakes['features']:\n",
    "    print(\"地點:{}\".format(eq['properties']['place']))\n",
    "    print(\"震度:{}\".format(eq['properties']['mag']))\n",
    "    et = float(eq['properties']['time']) /1000.0\n",
    "    d=datetime.datetime.fromtimestamp(et).strftime('%Y-%m-%d %H:%M:%S')\n",
    "    print(\"時間:{}\".format(d))"
   ]
  },
  {
   "cell_type": "markdown",
   "metadata": {
    "heading_collapsed": true
   },
   "source": [
    "### Miscellaneous\n",
    "1. Conditions can be chained: 1 < a < 3 checks that a is both less than 3 and greater than 1.\n",
    "2. You can use del to delete variables or items in arrays.\n",
    "3. List comprehensions provide a powerful way to create and manipulate lists. They consist of an expression followed by a for clause followed by zero or more if or for clauses, like so:\n",
    "4. Global variables"
   ]
  },
  {
   "cell_type": "code",
   "execution_count": null,
   "metadata": {
    "collapsed": true,
    "hidden": true
   },
   "outputs": [],
   "source": [
    "lst1 = [1, 2, 3]\n",
    "lst2 = [3, 4, 5]\n",
    "print([x * y for x in lst1 for y in lst2])\n",
    "# [3, 4, 5, 6, 8, 10, 9, 12, 15]\n",
    "\n",
    "\n",
    "\n",
    "print([x for x in lst1 if 4 > x > 1])\n",
    "#[2, 3]\n",
    "\n",
    "\n",
    "\n",
    "# Check if a condition is true for any items.\n",
    "# \"any\" returns true if any item in the list is true.\n",
    "any([i % 3 for i in [3, 3, 4, 4, 3]])\n",
    "#True\n",
    "# This is because 4 % 3 = 1, and 1 is true, so any()\n",
    "# returns True.\n",
    "\n",
    "\n",
    "\n",
    "# Check for how many items a condition is true.\n",
    "print (sum(1 for i in [3, 3, 4, 4, 3, 6, 7, 8, 9, 5, 4] if i == 4))\n",
    "#3\n",
    "del lst1[0]\n",
    "print(lst1)\n",
    "#[2, 3]\n",
    "del lst1"
   ]
  },
  {
   "cell_type": "code",
   "execution_count": null,
   "metadata": {
    "collapsed": true,
    "hidden": true
   },
   "outputs": [],
   "source": [
    "sum([1,2])"
   ]
  },
  {
   "cell_type": "code",
   "execution_count": null,
   "metadata": {
    "collapsed": true,
    "hidden": true
   },
   "outputs": [],
   "source": [
    "#### Global variables\n",
    "number = 5\n",
    "\n",
    "def myfunc():\n",
    "    # This will print 5.\n",
    "    print(number)\n",
    "\n",
    "def anotherfunc():\n",
    "    # This raises an exception because the variable has not\n",
    "    # been bound before printing. Python knows that it an\n",
    "    # object will be bound to it later and creates a new, local\n",
    "    # object instead of accessing the global one.\n",
    "    print(number)\n",
    "    number = 3\n",
    "\n",
    "def yetanotherfunc():\n",
    "    global number\n",
    "    # This will correctly change the global.\n",
    "    number = 3"
   ]
  },
  {
   "cell_type": "markdown",
   "metadata": {
    "heading_collapsed": true
   },
   "source": [
    "## 下週預告\n",
    "\n",
    "Python + 資料庫"
   ]
  },
  {
   "cell_type": "markdown",
   "metadata": {
    "collapsed": true,
    "heading_collapsed": true
   },
   "source": [
    "## 10分鐘後的深入探討\n",
    "學習資源 http://www.runoob.com/python/python-tutorial.html\n",
    "\n",
    "\n",
    "### 序列型別的資料結構\n",
    "https://books.google.com.tw/books?id=thu0DQAAQBAJ&lpg=SA6-PA10&ots=Ru1u_cWNzh&dq=python%20%E4%B8%B2%E5%88%97%E8%88%87%E8%B3%87%E6%96%99%E7%B5%90%E6%A7%8B%E7%9A%84%E6%87%89%E7%94%A8&hl=zh-TW&pg=SA6-PA2#v=onepage&q=python%20%E4%B8%B2%E5%88%97%E8%88%87%E8%B3%87%E6%96%99%E7%B5%90%E6%A7%8B%E7%9A%84%E6%87%89%E7%94%A8&f=false\n",
    "- string\n",
    "- list\n",
    "- tuple\n",
    "\n",
    "#### 操作（operate)串列的函式有:\n",
    "- cmp(lsit1, list2)  # not work for python3\n",
    "- len(list)\n",
    "- max(list)\n",
    "- min(list)\n",
    "- list(tuple)\n",
    "\n",
    "#### 串列的方法（method)有:\n",
    "- list.append(obj)\n",
    "- list.extend(obj)\n",
    "- list.count(obj)\n",
    "- list.index(obj)\n",
    "- list.insert(index, obj)\n",
    "- list.pop()\n",
    "- list.remove(obj)\n",
    "- lsit.reverse()\n",
    "- list.sort()"
   ]
  },
  {
   "cell_type": "code",
   "execution_count": null,
   "metadata": {
    "collapsed": true,
    "hidden": true
   },
   "outputs": [],
   "source": [
    "list1 = [\"Alger\", 18, \"香蕉\", \"蘋果\", \"鳳梨\" ]\n",
    "list2 = [\"Roson\", 38, \"香蕉\", \"蘋果\", \"鳳梨\" ]\n",
    "mytuple = (\"xyz\", 20, \"香蕉\", \"蘋果\", \"鳳梨\")\n",
    "# print (cmp(list1,list2))\n",
    "print (len(list1))\n",
    "# print (max (list1))\n",
    "print (mytuple)\n",
    "print ( list(mytuple))\n"
   ]
  },
  {
   "cell_type": "code",
   "execution_count": null,
   "metadata": {
    "collapsed": true,
    "hidden": true
   },
   "outputs": [],
   "source": [
    "# 起始一個空的串列物件（變數）\n",
    "a = list ()\n",
    "print (a)"
   ]
  },
  {
   "cell_type": "code",
   "execution_count": null,
   "metadata": {
    "collapsed": true,
    "hidden": true
   },
   "outputs": [],
   "source": [
    "#串列可以包含各種不同的資料內容\n",
    "listex = ['中文', '日文','English', 6, [29,23,18,5,19,12]]\n",
    "print (listex)"
   ]
  },
  {
   "cell_type": "code",
   "execution_count": null,
   "metadata": {
    "collapsed": true,
    "hidden": true
   },
   "outputs": [],
   "source": [
    "#filename:listex.py\n",
    "# 題目： 計算字母出現的次數\n",
    "#function: create the empy list, list can contains different data type\n",
    "#把下列字串的空格移除\n",
    "string = \"I am studying Python\"\n",
    "print(\"The string is: {}\".format(string))\n",
    "\n",
    "elements = []\n",
    "for v in string:\n",
    "#  print(v)\n",
    "  if v == ' ':\n",
    "      continue\n",
    "  elements.append(v)\n",
    "\n",
    "print(elements)\n",
    "\n",
    "#計算每個字母出現的次數\n",
    "for a in elements:\n",
    "    print (\"{}出現{}次\".format(a, elements.count(a)))\n",
    "    \n",
    "# 習題： 怎樣不要讓重複的統計字母再跑出來"
   ]
  },
  {
   "cell_type": "markdown",
   "metadata": {
    "collapsed": true,
    "heading_collapsed": true,
    "hidden": true
   },
   "source": [
    "### 建立串列的三種方法\n",
    "- x = [ ]\n",
    "- x = list()\n",
    "- x = [ _expression_ for _元素_ in _序列資料內_ if _條件_ ]"
   ]
  },
  {
   "cell_type": "code",
   "execution_count": null,
   "metadata": {
    "collapsed": true,
    "hidden": true,
    "scrolled": false
   },
   "outputs": [],
   "source": [
    "#filename:list_create.py\n",
    "#function:list creation\n",
    "\n",
    "#Creat list using []\n",
    "newList0 = []\n",
    "print(\"newLIst=\", newList0)\n",
    "\n",
    "for i in range(0, 5):\n",
    "   newList.append(i*2)\n",
    "print(\"newlist after using append()=\",newList0)\n",
    "\n",
    "\n",
    "newList = [1,2,3,4,5,6,7,8,9,10,13,14,17,18,23,24,25,26]\n",
    "\n",
    "#create list using list()\n",
    "outputlist=list()\n",
    "print(\"Outputlist=\",outputlist)\n",
    "for x in newList:\n",
    "   if x%2 == 0:\n",
    "     outputlist.append(x)\n",
    "print(\"outputlist after using append()=\",outputlist)\n",
    "\n",
    "#create list using list comprehension\n",
    "output=[]\n",
    "print(\"Ouput=\",output)\n",
    "output = [x for x in newList if x%2 == 0]\n",
    "print(\"output after using list comprehension=\",output)"
   ]
  },
  {
   "cell_type": "code",
   "execution_count": null,
   "metadata": {
    "collapsed": true,
    "hidden": true
   },
   "outputs": [],
   "source": [
    "#filename:list_access.py\n",
    "### 搞密碼\n",
    "### 串列的存取及修改\n",
    "import string\n",
    "\n",
    "Password_string = \"She101Who\"\n",
    "print(Password_string)\n",
    "isnumbers = [x for x in Password_string if x.isdigit()]\n",
    "print( isnumbers)\n",
    "print(len(isnumbers))\n",
    "\n",
    "    \n",
    "Password_new=[]\n",
    "for x in Password_string:\n",
    "   Password_new.append(chr(ord(x)+3))\n",
    "print(\"password new=\",Password_new)\n",
    "\n",
    "index=0\n",
    "for item in Password_new:\n",
    " print(item,end=' ')\n",
    " if Password_new[index].isdigit():\n",
    "    Password_new[index]=chr((ord(Password_new[index])+3)) #chr()的用法, ord()的用法\n",
    " index+=1\n",
    "print(\"\\n\",Password_new)\n",
    "\n",
    "#change from List to string\n",
    "finalstr=''.join(Password_new)\n",
    "print(\"\\n\",finalstr)"
   ]
  },
  {
   "cell_type": "code",
   "execution_count": null,
   "metadata": {
    "collapsed": true,
    "hidden": true
   },
   "outputs": [],
   "source": [
    "#filename: list_operation.py\n",
    "#function: list operation\n",
    "\n",
    "members_list = [0, \"jack  Stahl\", 1, \"Jack welhse\", 2, \"john Kenny\", 3, \"Johnny shieh\"]\n",
    "\n",
    "del members_list[0]   # index 0 from the list removed \n",
    "print (members_list) \n",
    "members_list.remove(\"john Kenny\") # remove the john Kenny from the list, not the index 4\n",
    "print ( members_list)\n",
    "\n",
    "members_list.reverse()\n",
    "print ( members_list)\n",
    "\n",
    "members_list.pop(1)   # index 1 from the list removed\n",
    "print ( members_list)\n",
    "\n",
    "Listing = [6, 10,15,22,29,46]\n",
    "print(Listing)\n",
    "Listing.reverse()\n",
    "print(Listing)\n",
    "\n",
    "\n",
    "members_list.remove(members_list[0])\n",
    "print ( members_list)\n"
   ]
  },
  {
   "cell_type": "code",
   "execution_count": null,
   "metadata": {
    "collapsed": true,
    "hidden": true,
    "scrolled": true
   },
   "outputs": [],
   "source": [
    "#filename:list-comp-create.py\n",
    "#function:general list creation and list comprehension \n",
    "\n",
    "n=int(input(\"plese keyin in the range count to n for range(n):\"))\n",
    "doublelist = []\n",
    "\n",
    "for x in range(n):\n",
    "   doublelist.append(x*2)\n",
    "print(\"doublelist is \",doublelist)\n",
    "\n",
    "\n",
    "doublelist = []\n",
    "doublelist = [x*2 for x in range(n)]\n",
    "print(\"doublelist using list comprehension is \",doublelist)"
   ]
  },
  {
   "cell_type": "markdown",
   "metadata": {
    "heading_collapsed": true,
    "hidden": true
   },
   "source": [
    "### 串列與資料結構的應用\n",
    "\n",
    "https://books.google.com.tw/books?id=thu0DQAAQBAJ&lpg=SA6-PA10&ots=Ru1u_cWNzh&dq=python%20%E4%B8%B2%E5%88%97%E8%88%87%E8%B3%87%E6%96%99%E7%B5%90%E6%A7%8B%E7%9A%84%E6%87%89%E7%94%A8&hl=zh-TW&pg=SA6-PA10#v=onepage&q=python%20%E4%B8%B2%E5%88%97%E8%88%87%E8%B3%87%E6%96%99%E7%B5%90%E6%A7%8B%E7%9A%84%E6%87%89%E7%94%A8&f=false"
   ]
  },
  {
   "cell_type": "markdown",
   "metadata": {
    "heading_collapsed": true
   },
   "source": [
    "## 其他的10分鐘系列"
   ]
  },
  {
   "cell_type": "markdown",
   "metadata": {
    "collapsed": true,
    "hidden": true
   },
   "source": [
    "### Python - 十分鐘入門\n",
    "\n",
    "http://tech-marsw.logdown.com/blog/2014/09/03/getting-started-with-python-in-ten-minute"
   ]
  },
  {
   "cell_type": "markdown",
   "metadata": {
    "hidden": true
   },
   "source": [
    "### Learn X in Y minutes\n",
    "\n",
    "https://learnxinyminutes.com/docs/python/"
   ]
  },
  {
   "cell_type": "markdown",
   "metadata": {
    "collapsed": true,
    "hidden": true
   },
   "source": [
    "### Python 101 快速入門教學\n",
    "\n",
    "http://blog.techbridge.cc/2016/12/17/python101-tutorial/"
   ]
  },
  {
   "cell_type": "markdown",
   "metadata": {
    "collapsed": true,
    "hidden": true
   },
   "source": [
    "### 給程序員的快速Python入門\n",
    "\n",
    "http://mropengate.blogspot.tw/2015/08/python.html"
   ]
  }
 ],
 "metadata": {
  "kernelspec": {
   "display_name": "Python 3",
   "language": "python",
   "name": "python3"
  },
  "language_info": {
   "codemirror_mode": {
    "name": "ipython",
    "version": 3
   },
   "file_extension": ".py",
   "mimetype": "text/x-python",
   "name": "python",
   "nbconvert_exporter": "python",
   "pygments_lexer": "ipython3",
   "version": "3.5.2"
  }
 },
 "nbformat": 4,
 "nbformat_minor": 2
}
