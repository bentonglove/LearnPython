{
 "cells": [
  {
   "cell_type": "markdown",
   "metadata": {},
   "source": [
    "### 小三徵求系統：\n",
    "1. 寒暄、破冰\n",
    "2. 輸入個人資料\n",
    "3. 判斷資格是否符合"
   ]
  },
  {
   "cell_type": "markdown",
   "metadata": {},
   "source": [
    "### 起始段"
   ]
  },
  {
   "cell_type": "code",
   "execution_count": null,
   "metadata": {
    "collapsed": true,
    "extensions": {
     "jupyter_dashboards": {
      "version": 1,
      "views": {
       "grid_default": {
        "hidden": true
       },
       "report_default": {
        "hidden": true
       }
      }
     }
    }
   },
   "outputs": [],
   "source": [
    "#劇情：小三徵求系統\n",
    "#載入特定功能的模組\n",
    "import os\n",
    "print (os.name)\n",
    "print (os.getcwd())"
   ]
  },
  {
   "cell_type": "markdown",
   "metadata": {},
   "source": [
    "### 函式區塊"
   ]
  },
  {
   "cell_type": "markdown",
   "metadata": {},
   "source": [
    "#### 函式1"
   ]
  },
  {
   "cell_type": "code",
   "execution_count": null,
   "metadata": {
    "collapsed": true,
    "extensions": {
     "jupyter_dashboards": {
      "version": 1,
      "views": {
       "grid_default": {
        "hidden": true
       },
       "report_default": {
        "hidden": true
       }
      }
     }
    }
   },
   "outputs": [],
   "source": [
    "#區塊結構的表示方法\n",
    "#函式（function)的寫法\n",
    "def main():\n",
    "    print ('Hello 大家好啊！')         #系統內建的函數, 輸出資料\n"
   ]
  },
  {
   "cell_type": "code",
   "execution_count": null,
   "metadata": {
    "collapsed": true,
    "extensions": {
     "jupyter_dashboards": {
      "version": 1,
      "views": {
       "grid_default": {
        "hidden": true
       },
       "report_default": {
        "hidden": true
       }
      }
     }
    }
   },
   "outputs": [],
   "source": [
    "    s1 = \"This is Alger's greeting\"  #字串變數\n",
    "    print (s1) \n",
    "    print ('This is also Alger\"s greeting') #跳脫字元的使用方法"
   ]
  },
  {
   "cell_type": "code",
   "execution_count": null,
   "metadata": {
    "collapsed": true,
    "extensions": {
     "jupyter_dashboards": {
      "version": 1,
      "views": {
       "grid_default": {
        "hidden": true
       },
       "report_default": {
        "hidden": true
       }
      }
     }
    }
   },
   "outputs": [],
   "source": [
    "    para1 = input (\"請輸入性別=\")   #系統內建的函數, 輸入資料\n",
    "    para2 = input (\"請輸入年齡＝\")\n",
    "    foo(para1, para2)              #呼叫函式 （函數,副程式,sub ...)"
   ]
  },
  {
   "cell_type": "code",
   "execution_count": null,
   "metadata": {
    "collapsed": true,
    "extensions": {
     "jupyter_dashboards": {
      "version": 1,
      "views": {
       "grid_default": {
        "hidden": true
       },
       "report_default": {
        "hidden": true
       }
      }
     }
    }
   },
   "outputs": [],
   "source": [
    "    print ('='* 60)                #字串的乘法\n",
    "    print('當前的工作路徑是：' + os.getcwd()) #字串的加法"
   ]
  },
  {
   "cell_type": "code",
   "execution_count": 16,
   "metadata": {
    "extensions": {
     "jupyter_dashboards": {
      "version": 1,
      "views": {
       "grid_default": {
        "hidden": true
       },
       "report_default": {
        "hidden": true
       }
      }
     }
    },
    "scrolled": true
   },
   "outputs": [
    {
     "name": "stdout",
     "output_type": "stream",
     "text": [
      "counter = 3\n"
     ]
    }
   ],
   "source": [
    "    counter = 0                    #整數變數\n",
    "    counter += 1                   #變數的加法運算\n",
    "    counter += 2\n",
    "    print (\"counter = \" ,counter)  #函式的參數, 可變數量的參數"
   ]
  },
  {
   "cell_type": "code",
   "execution_count": 20,
   "metadata": {
    "extensions": {
     "jupyter_dashboards": {
      "version": 1,
      "views": {
       "grid_default": {
        "hidden": true
       },
       "report_default": {
        "hidden": true
       }
      }
     }
    },
    "scrolled": true
   },
   "outputs": [
    {
     "name": "stdout",
     "output_type": "stream",
     "text": [
      "我喜歡吃的水果是蘋果\n",
      "我喜歡吃的水果是橘子\n",
      "我喜歡吃的水果是香蕉\n"
     ]
    }
   ],
   "source": [
    "    #變數就是容器的名字\n",
    "    fruit = ['蘋果', '橘子', '香蕉']  #資料的容器\n",
    "    for i in fruit:                 #迴圈結構\n",
    "        print('我喜歡吃的水果是'+i)"
   ]
  },
  {
   "cell_type": "code",
   "execution_count": 28,
   "metadata": {
    "extensions": {
     "jupyter_dashboards": {
      "version": 1,
      "views": {
       "grid_default": {
        "hidden": true
       },
       "report_default": {
        "hidden": true
       }
      }
     }
    }
   },
   "outputs": [
    {
     "name": "stdout",
     "output_type": "stream",
     "text": [
      "從0數到9\n",
      "我有>   0個億！\n",
      "我有>   1個億！\n",
      "我有>   2個億！\n",
      "我有>   3個億！\n",
      "我有>   4個億！\n",
      "我有>   5個億！\n",
      "我有>   6個億！\n",
      "我有>   7個億！\n",
      "我有>   8個億！\n",
      "我有>   9個億！\n"
     ]
    }
   ],
   "source": [
    "    print (\"從0數到9\")              #迴圈的邊界表示法\n",
    "    for i in range(10):\n",
    "        print (\"我有%4d個億！\" %i)  #字串格式化的表示方法"
   ]
  },
  {
   "cell_type": "markdown",
   "metadata": {},
   "source": [
    "#### 函式2"
   ]
  },
  {
   "cell_type": "code",
   "execution_count": null,
   "metadata": {
    "collapsed": true,
    "extensions": {
     "jupyter_dashboards": {
      "version": 1,
      "views": {
       "grid_default": {
        "hidden": true
       },
       "report_default": {
        "hidden": true
       }
      }
     }
    }
   },
   "outputs": [],
   "source": [
    "# def foo(para1, para2):  自定義函數, 有兩個參數\n",
    "def foo(gender, age):\n",
    "    result = [gender, age]                     #注意資料型別的運用\n",
    "    print ( \"性別為 %c 年齡為 %d\" %(result[0], result[1]))     #字串格式化的表示方法\n",
    "    if gender != 'f':                          #比較判斷運算（大於, 等於, 小於） \n",
    "        print (\"別鬧了,我只找女生\")              #邏輯判斷運算（且, 或）\n",
    "    elif (age >= 26) and (gender == 'f') :     #這裡很容易忘記冒號\n",
    "        print (\"大姐您找別人吧！\")\n",
    "    else:\n",
    "        print (\"嗯...OK\")\n",
    "    return result\n",
    "\n",
    "'''\n",
    "主題：小三徵求系統\n",
    "版本：第一版\n",
    "作者：Alger\n",
    "'''  \n"
   ]
  },
  {
   "cell_type": "markdown",
   "metadata": {},
   "source": [
    "### 其他段"
   ]
  },
  {
   "cell_type": "code",
   "execution_count": null,
   "metadata": {
    "collapsed": true,
    "extensions": {
     "jupyter_dashboards": {
      "version": 1,
      "views": {
       "grid_default": {
        "hidden": true
       },
       "report_default": {
        "hidden": true
       }
      }
     }
    }
   },
   "outputs": [],
   "source": [
    "if __name__ == '__main__':\n",
    "    main()"
   ]
  },
  {
   "cell_type": "markdown",
   "metadata": {},
   "source": [
    "=================== 從以上範例我們學習到這些東西 ======================\n",
    "\n",
    "### 區塊結構的表示方法\n",
    "- 迴圈 (for loop)\n",
    "- if ... then\n",
    "\n",
    "### 函式（function)的寫法\n",
    "- 內建函數 \n",
    " - 輸出\n",
    " - 輸入\n",
    "- 自定義函數\n",
    "- 函式的參數\n",
    "\n",
    "### 變數與資料\n",
    "- 整數(integer)\n",
    "- 字串(string)\n",
    " - 字串的格式化(string format)\n",
    "- 串列（list)\n",
    "\n",
    "### 運算式 (expression, operator, operand)\n",
    "- 整數運算\n",
    "- 字串運算\n",
    "- 比較(comparison)運算\n",
    "- 布林(boolean)運算"
   ]
  },
  {
   "cell_type": "markdown",
   "metadata": {},
   "source": [
    "## 所以一個完整程式的範本應該長成這樣, 你只要依樣畫葫蘆去修改就好"
   ]
  },
  {
   "cell_type": "code",
   "execution_count": null,
   "metadata": {
    "collapsed": true
   },
   "outputs": [],
   "source": [
    "#coding: utf-8\n",
    "#劇情：小三徵求系統\n",
    "#載入特定功能的模組\n",
    "\n",
    "import os\n",
    "print (os.name)\n",
    "print (os.getcwd())\n",
    "\n",
    "#區塊結構的表示方法\n",
    "#函式（function)的寫法\n",
    "def main():\n",
    "    print ('Hello 大家好啊！')         #系統內建的函數, 輸出資料\n",
    "\n",
    "    s1 = \"This is Alger's greeting\"  #字串變數\n",
    "    print (s1) \n",
    "    print ('This is also Alger\\'s greeting') #跳脫字元的使用方法\n",
    "\n",
    "    para1 = \"Ben\"\n",
    "    para1 = raw_input(\"請輸入性別=\")   #系統內建的函數, 輸入資料\n",
    "    print(type(para1))\n",
    "    para2 = int(input(\"請輸入年齡＝\"))\n",
    "    foo(para1, para2)              #呼叫函式 （函數,副程式,sub ...)\n",
    "\n",
    "    print ('='* 60)                #字串的乘法\n",
    "    print('當前的工作路徑是：' + os.getcwd()) #字串的加法\n",
    "\n",
    "    counter = 0                    #整數變數\n",
    "    counter += 1                   #變數的加法運算\n",
    "    counter += 2\n",
    "    print (\"counter = \", counter)  #函式的參數, 可變數量的參數\n",
    "\n",
    "    #變數就是容器的名字\n",
    "    fruit = ['蘋果', '橘子', '香蕉']  #資料的容器\n",
    "    for i in fruit:                 #迴圈結構\n",
    "        print('我喜歡吃的水果是'+i)\n",
    "\n",
    "    print (\"從0數到9\")              #迴圈的邊界表示法\n",
    "    for i in range(10):\n",
    "        print (\"我有 %d 個億！\" %i)  #字串格式化的表示方法\n",
    "\n",
    "# def foo(para1, para2):  自定義函數, 有兩個參數\n",
    "def foo(gender, age):\n",
    "    result = [gender, age]                     #注意資料型別的運用\n",
    "    print ( \"性別為 %c 年齡為 %d\" %(result[0], result[1]))     #字串格式化的表示方法\n",
    "    if gender != 'f':                          #比較判斷運算（大於, 等於, 小於） \n",
    "        print (\"別鬧了,我只找女生\")              #邏輯判斷運算（且, 或）\n",
    "    elif (age >= 26) and (gender == 'f') :     #這裡很容易忘記冒號\n",
    "        print (\"大姐您找別人吧！\")\n",
    "    else:\n",
    "        print (\"嗯...OK\")\n",
    "    return result\n",
    "\n",
    "'''\n",
    "主題：小三徵求系統\n",
    "版本：第一版\n",
    "作者：Alger\n",
    "'''  \n",
    "\n",
    "if __name__ == '__main__':\n",
    "    main()"
   ]
  },
  {
   "attachments": {
    "5.png": {
     "image/png": "[encoded data removed]"
    }
   },
   "cell_type": "markdown",
   "metadata": {},
   "source": [
    "### 所以我們第一個Sprint至少學到下表 50%\n",
    "![5.png](attachment:5.png)"
   ]
  }
 ],
 "metadata": {
  "extensions": {
   "jupyter_dashboards": {
    "activeView": "grid_default",
    "version": 1,
    "views": {
     "grid_default": {
      "cellMargin": 10,
      "defaultCellHeight": 20,
      "maxColumns": 12,
      "name": "grid",
      "type": "grid"
     },
     "report_default": {
      "name": "report",
      "type": "report"
     }
    }
   }
  },
  "kernelspec": {
   "display_name": "Python 3",
   "language": "python",
   "name": "python3"
  },
  "language_info": {
   "codemirror_mode": {
    "name": "ipython",
    "version": 3
   },
   "file_extension": ".py",
   "mimetype": "text/x-python",
   "name": "python",
   "nbconvert_exporter": "python",
   "pygments_lexer": "ipython3",
   "version": "3.5.2"
  }
 },
 "nbformat": 4,
 "nbformat_minor": 2
}
