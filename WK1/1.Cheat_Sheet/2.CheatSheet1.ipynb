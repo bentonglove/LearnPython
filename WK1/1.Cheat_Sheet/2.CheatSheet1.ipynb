{
 "cells": [
  {
   "cell_type": "markdown",
   "metadata": {
    "heading_collapsed": true
   },
   "source": [
    "### 起始段"
   ]
  },
  {
   "cell_type": "code",
   "execution_count": null,
   "metadata": {
    "extensions": {
     "jupyter_dashboards": {
      "version": 1,
      "views": {
       "grid_default": {
        "hidden": true
       },
       "report_default": {
        "hidden": true
       }
      }
     }
    },
    "hidden": true
   },
   "outputs": [],
   "source": [
    "#劇情：小三徵求系統\n",
    "#載入特定功能的模組\n",
    "import os\n",
    "print (os.name)\n",
    "print (os.getcwd())"
   ]
  },
  {
   "cell_type": "markdown",
   "metadata": {},
   "source": [
    "### 函式區塊"
   ]
  },
  {
   "cell_type": "markdown",
   "metadata": {
    "heading_collapsed": true
   },
   "source": [
    "#### 函式1"
   ]
  },
  {
   "cell_type": "code",
   "execution_count": null,
   "metadata": {
    "extensions": {
     "jupyter_dashboards": {
      "version": 1,
      "views": {
       "grid_default": {
        "hidden": true
       },
       "report_default": {
        "hidden": true
       }
      }
     }
    },
    "hidden": true
   },
   "outputs": [],
   "source": [
    "#區塊結構的表示方法\n",
    "#函式（function)的寫法\n",
    "def main():\n",
    "    print ('Hello 大家好啊！')         #系統內建的函數, 輸出資料\n"
   ]
  },
  {
   "cell_type": "code",
   "execution_count": null,
   "metadata": {
    "extensions": {
     "jupyter_dashboards": {
      "version": 1,
      "views": {
       "grid_default": {
        "hidden": true
       },
       "report_default": {
        "hidden": true
       }
      }
     }
    },
    "hidden": true
   },
   "outputs": [],
   "source": [
    "    s1 = \"This is Alger's greeting\"  #字串變數\n",
    "    print (s1) \n",
    "    print ('This is also Alger\"s greeting') #跳脫字元的使用方法"
   ]
  },
  {
   "cell_type": "code",
   "execution_count": null,
   "metadata": {
    "extensions": {
     "jupyter_dashboards": {
      "version": 1,
      "views": {
       "grid_default": {
        "hidden": true
       },
       "report_default": {
        "hidden": true
       }
      }
     }
    },
    "hidden": true
   },
   "outputs": [],
   "source": [
    "    para1 = input (\"請輸入性別=\")   #系統內建的函數, 輸入資料\n",
    "    para2 = input (\"請輸入年齡＝\")\n",
    "    foo(para1, para2)              #呼叫函式 （函數,副程式,sub ...)"
   ]
  },
  {
   "cell_type": "code",
   "execution_count": null,
   "metadata": {
    "extensions": {
     "jupyter_dashboards": {
      "version": 1,
      "views": {
       "grid_default": {
        "hidden": true
       },
       "report_default": {
        "hidden": true
       }
      }
     }
    },
    "hidden": true
   },
   "outputs": [],
   "source": [
    "    print ('='* 60)                #字串的乘法\n",
    "    print('當前的工作路徑是：' + os.getcwd()) #字串的加法"
   ]
  },
  {
   "cell_type": "code",
   "execution_count": 16,
   "metadata": {
    "extensions": {
     "jupyter_dashboards": {
      "version": 1,
      "views": {
       "grid_default": {
        "hidden": true
       },
       "report_default": {
        "hidden": true
       }
      }
     }
    },
    "hidden": true,
    "scrolled": true
   },
   "outputs": [
    {
     "name": "stdout",
     "output_type": "stream",
     "text": [
      "counter = 3\n"
     ]
    }
   ],
   "source": [
    "    counter = 0                    #整數變數\n",
    "    counter += 1                   #變數的加法運算\n",
    "    counter += 2\n",
    "    print (\"counter = \" ,counter)  #函式的參數, 可變數量的參數"
   ]
  },
  {
   "cell_type": "code",
   "execution_count": 20,
   "metadata": {
    "extensions": {
     "jupyter_dashboards": {
      "version": 1,
      "views": {
       "grid_default": {
        "hidden": true
       },
       "report_default": {
        "hidden": true
       }
      }
     }
    },
    "hidden": true,
    "scrolled": true
   },
   "outputs": [
    {
     "name": "stdout",
     "output_type": "stream",
     "text": [
      "我喜歡吃的水果是蘋果\n",
      "我喜歡吃的水果是橘子\n",
      "我喜歡吃的水果是香蕉\n"
     ]
    }
   ],
   "source": [
    "    #變數就是容器的名字\n",
    "    fruit = ['蘋果', '橘子', '香蕉']  #資料的容器\n",
    "    for i in fruit:                 #迴圈結構\n",
    "        print('我喜歡吃的水果是'+i)"
   ]
  },
  {
   "cell_type": "code",
   "execution_count": 28,
   "metadata": {
    "extensions": {
     "jupyter_dashboards": {
      "version": 1,
      "views": {
       "grid_default": {
        "hidden": true
       },
       "report_default": {
        "hidden": true
       }
      }
     }
    },
    "hidden": true
   },
   "outputs": [
    {
     "name": "stdout",
     "output_type": "stream",
     "text": [
      "從0數到9\n",
      "我有>   0個億！\n",
      "我有>   1個億！\n",
      "我有>   2個億！\n",
      "我有>   3個億！\n",
      "我有>   4個億！\n",
      "我有>   5個億！\n",
      "我有>   6個億！\n",
      "我有>   7個億！\n",
      "我有>   8個億！\n",
      "我有>   9個億！\n"
     ]
    }
   ],
   "source": [
    "    print (\"從0數到9\")              #迴圈的邊界表示法\n",
    "    for i in range(10):\n",
    "        print (\"我有%4d個億！\" %i)  #字串格式化的表示方法"
   ]
  },
  {
   "cell_type": "markdown",
   "metadata": {},
   "source": [
    "#### 函式2"
   ]
  },
  {
   "cell_type": "code",
   "execution_count": null,
   "metadata": {
    "collapsed": true,
    "extensions": {
     "jupyter_dashboards": {
      "version": 1,
      "views": {
       "grid_default": {
        "hidden": true
       },
       "report_default": {
        "hidden": true
       }
      }
     }
    }
   },
   "outputs": [],
   "source": [
    "# def foo(para1, para2):  自定義函數, 有兩個參數\n",
    "def foo(gender, age):\n",
    "    result = [gender, age]                     #注意資料型別的運用\n",
    "    print ( \"性別為 %c 年齡為 %d\" %(result[0], result[1]))     #字串格式化的表示方法\n",
    "    if gender != 'f':                          #比較判斷運算（大於, 等於, 小於） \n",
    "        print (\"別鬧了,我只找女生\")              #邏輯判斷運算（且, 或）\n",
    "    elif (age >= 26) and (gender == 'f') :     #這裡很容易忘記冒號\n",
    "        print (\"大姐您找別人吧！\")\n",
    "    else:\n",
    "        print (\"嗯...OK\")\n",
    "    return result\n",
    "\n",
    "'''\n",
    "主題：小三徵求系統\n",
    "版本：第一版\n",
    "作者：Alger\n",
    "'''  \n"
   ]
  },
  {
   "cell_type": "markdown",
   "metadata": {},
   "source": [
    "### 其他段"
   ]
  },
  {
   "cell_type": "code",
   "execution_count": null,
   "metadata": {
    "collapsed": true,
    "extensions": {
     "jupyter_dashboards": {
      "version": 1,
      "views": {
       "grid_default": {
        "hidden": true
       },
       "report_default": {
        "hidden": true
       }
      }
     }
    }
   },
   "outputs": [],
   "source": [
    "if __name__ == '__main__':\n",
    "    main()"
   ]
  }
 ],
 "metadata": {
  "extensions": {
   "jupyter_dashboards": {
    "activeView": "grid_default",
    "version": 1,
    "views": {
     "grid_default": {
      "cellMargin": 10,
      "defaultCellHeight": 20,
      "maxColumns": 12,
      "name": "grid",
      "type": "grid"
     },
     "report_default": {
      "name": "report",
      "type": "report"
     }
    }
   }
  },
  "kernelspec": {
   "display_name": "Python 3",
   "language": "python",
   "name": "python3"
  },
  "language_info": {
   "codemirror_mode": {
    "name": "ipython",
    "version": 3
   },
   "file_extension": ".py",
   "mimetype": "text/x-python",
   "name": "python",
   "nbconvert_exporter": "python",
   "pygments_lexer": "ipython3",
   "version": "3.5.2"
  }
 },
 "nbformat": 4,
 "nbformat_minor": 2
}
