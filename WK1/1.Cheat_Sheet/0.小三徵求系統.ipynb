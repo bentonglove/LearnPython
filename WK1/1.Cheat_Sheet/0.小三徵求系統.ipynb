{
 "cells": [
  {
   "cell_type": "markdown",
   "metadata": {
    "heading_collapsed": true,
    "slideshow": {
     "slide_type": "slide"
    }
   },
   "source": [
    "### 小三徵求系統：\n",
    "1. 寒暄、破冰\n",
    "2. 輸入個人資料\n",
    "3. 判斷資格是否符合"
   ]
  },
  {
   "cell_type": "markdown",
   "metadata": {
    "hidden": true,
    "slideshow": {
     "slide_type": "subslide"
    }
   },
   "source": [
    "======================================================================\n",
    "\n",
    "### 區塊結構的表示方法\n",
    "- 迴圈 (for loop)\n",
    "- if ... then\n",
    "\n",
    "### 函式（function)的寫法\n",
    "- 內建函數 \n",
    " - 輸出\n",
    " - 輸入\n",
    "- 自定義函數\n",
    "- 函式的參數\n",
    "\n",
    "### 變數與資料\n",
    "- 整數(integer)\n",
    "- 字串(string)\n",
    " - 字串的格式化(string format)\n",
    "- 串列（list)\n",
    "\n",
    "### 運算式 (expression, operator, operand)\n",
    "- 整數運算\n",
    "- 字串運算\n",
    "- 比較(comparison)運算\n",
    "- 布林(boolean)運算\n"
   ]
  }
 ],
 "metadata": {
  "celltoolbar": "Slideshow",
  "kernelspec": {
   "display_name": "Python 2",
   "language": "python",
   "name": "python2"
  },
  "language_info": {
   "codemirror_mode": {
    "name": "ipython",
    "version": 2
   },
   "file_extension": ".py",
   "mimetype": "text/x-python",
   "name": "python",
   "nbconvert_exporter": "python",
   "pygments_lexer": "ipython2",
   "version": "2.7.12"
  }
 },
 "nbformat": 4,
 "nbformat_minor": 2
}
