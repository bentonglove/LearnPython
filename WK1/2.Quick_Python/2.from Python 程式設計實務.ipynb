{
 "cells": [
  {
   "cell_type": "markdown",
   "metadata": {
    "collapsed": true
   },
   "source": [
    "## Python程式設計實務-從初學到活用\n",
    "\n",
    "![Python Book](http://bajarlibros.co/img/uYbqRYPsHmWpFwW9Rm7NFwWNFkC13wW4HwfSFw4UHwjSFNboFNcSuvDdJw2UHwJmFw7q3wWwJtBSvMWaJVbbcCabcMalxwJZJTCWLUP8P5.jpg)\n",
    "\n",
    "2.Python語言快速入門Chapter5~ Chapter8  \n",
    "利用3章的篇幅讓初學者快速掌握Python程式語言，學習設計Python應用程式最基本需要瞭解的語法以及資料型態的運用，還有如何操作檔案以及資料庫。\n",
    "每一章均有精心設計的應用程式，強化學習效果。"
   ]
  }
 ],
 "metadata": {
  "kernelspec": {
   "display_name": "Python 3",
   "language": "python",
   "name": "python3"
  },
  "language_info": {
   "codemirror_mode": {
    "name": "ipython",
    "version": 3
   },
   "file_extension": ".py",
   "mimetype": "text/x-python",
   "name": "python",
   "nbconvert_exporter": "python",
   "pygments_lexer": "ipython3",
   "version": "3.5.2"
  }
 },
 "nbformat": 4,
 "nbformat_minor": 2
}
